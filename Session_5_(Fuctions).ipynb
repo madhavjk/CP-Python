{
  "nbformat": 4,
  "nbformat_minor": 5,
  "metadata": {
    "kernelspec": {
      "display_name": "Python 3",
      "language": "python",
      "name": "python3"
    },
    "language_info": {
      "codemirror_mode": {
        "name": "ipython",
        "version": 3
      },
      "file_extension": ".py",
      "mimetype": "text/x-python",
      "name": "python",
      "nbconvert_exporter": "python",
      "pygments_lexer": "ipython3",
      "version": "3.8.5"
    },
    "colab": {
      "name": "Session 5 (Fuctions).ipynb",
      "provenance": [],
      "include_colab_link": true
    }
  },
  "cells": [
    {
      "cell_type": "markdown",
      "metadata": {
        "id": "view-in-github",
        "colab_type": "text"
      },
      "source": [
        "<a href=\"https://colab.research.google.com/github/madhavjk/CP-Python/blob/main/Session_5_(Fuctions).ipynb\" target=\"_parent\"><img src=\"https://colab.research.google.com/assets/colab-badge.svg\" alt=\"Open In Colab\"/></a>"
      ]
    },
    {
      "cell_type": "markdown",
      "metadata": {
        "id": "bbdef2b3"
      },
      "source": [
        "# Functions"
      ],
      "id": "bbdef2b3"
    },
    {
      "cell_type": "code",
      "metadata": {
        "id": "2c41c7aa"
      },
      "source": [
        "def function_name():\n",
        "    print(\"Hello, Hiw you doin?\")"
      ],
      "id": "2c41c7aa",
      "execution_count": null,
      "outputs": []
    },
    {
      "cell_type": "code",
      "metadata": {
        "id": "8d1d0c13",
        "outputId": "4435aade-9124-4e0e-880a-890620f6b6dc"
      },
      "source": [
        "function_name()"
      ],
      "id": "8d1d0c13",
      "execution_count": null,
      "outputs": [
        {
          "output_type": "stream",
          "text": [
            "Hello, Hiw you doin?\n"
          ],
          "name": "stdout"
        }
      ]
    },
    {
      "cell_type": "code",
      "metadata": {
        "id": "c2d8f981"
      },
      "source": [
        "def add(num1, num2):\n",
        "    print(num1 + num2)"
      ],
      "id": "c2d8f981",
      "execution_count": null,
      "outputs": []
    },
    {
      "cell_type": "code",
      "metadata": {
        "id": "655c66d9",
        "outputId": "30d15527-7532-4ab8-db66-9cba0a182d46"
      },
      "source": [
        "add(2,5)"
      ],
      "id": "655c66d9",
      "execution_count": null,
      "outputs": [
        {
          "output_type": "stream",
          "text": [
            "7\n"
          ],
          "name": "stdout"
        }
      ]
    },
    {
      "cell_type": "code",
      "metadata": {
        "id": "c1165b44"
      },
      "source": [
        "def add(num1, num2):\n",
        "    return num1 + num2 "
      ],
      "id": "c1165b44",
      "execution_count": null,
      "outputs": []
    },
    {
      "cell_type": "code",
      "metadata": {
        "id": "d297f03c"
      },
      "source": [
        "c = add(2,5)"
      ],
      "id": "d297f03c",
      "execution_count": null,
      "outputs": []
    },
    {
      "cell_type": "code",
      "metadata": {
        "id": "50cb0f65",
        "outputId": "71edd55a-b612-45dd-f7a8-d6511ec491db"
      },
      "source": [
        "c"
      ],
      "id": "50cb0f65",
      "execution_count": null,
      "outputs": [
        {
          "output_type": "execute_result",
          "data": {
            "text/plain": [
              "7"
            ]
          },
          "metadata": {
            "tags": []
          },
          "execution_count": 7
        }
      ]
    },
    {
      "cell_type": "code",
      "metadata": {
        "id": "269e8751"
      },
      "source": [
        "def divide(num1 , num2 = 1):\n",
        "    return num1/num2"
      ],
      "id": "269e8751",
      "execution_count": null,
      "outputs": []
    },
    {
      "cell_type": "code",
      "metadata": {
        "id": "3ddc2776",
        "outputId": "3acaf8b3-0cdc-4126-e69e-50b993fbb102"
      },
      "source": [
        "divide(10,5)"
      ],
      "id": "3ddc2776",
      "execution_count": null,
      "outputs": [
        {
          "output_type": "execute_result",
          "data": {
            "text/plain": [
              "2.0"
            ]
          },
          "metadata": {
            "tags": []
          },
          "execution_count": 15
        }
      ]
    },
    {
      "cell_type": "code",
      "metadata": {
        "id": "236be74e",
        "outputId": "14639834-4e82-4905-dca1-27538c1045c1"
      },
      "source": [
        "divide(10)"
      ],
      "id": "236be74e",
      "execution_count": null,
      "outputs": [
        {
          "output_type": "execute_result",
          "data": {
            "text/plain": [
              "10.0"
            ]
          },
          "metadata": {
            "tags": []
          },
          "execution_count": 16
        }
      ]
    },
    {
      "cell_type": "code",
      "metadata": {
        "id": "b7b4f2d9",
        "outputId": "e86abf9e-926a-4ce5-919e-b4b3ee8ea1ce"
      },
      "source": [
        "def divide(num1 = 1 , num2):\n",
        "    return num1/num2"
      ],
      "id": "b7b4f2d9",
      "execution_count": null,
      "outputs": [
        {
          "output_type": "error",
          "ename": "SyntaxError",
          "evalue": "non-default argument follows default argument (<ipython-input-17-afaf1e3d2eb9>, line 1)",
          "traceback": [
            "\u001b[1;36m  File \u001b[1;32m\"<ipython-input-17-afaf1e3d2eb9>\"\u001b[1;36m, line \u001b[1;32m1\u001b[0m\n\u001b[1;33m    def divide(num1 = 1 , num2):\u001b[0m\n\u001b[1;37m               ^\u001b[0m\n\u001b[1;31mSyntaxError\u001b[0m\u001b[1;31m:\u001b[0m non-default argument follows default argument\n"
          ]
        }
      ]
    },
    {
      "cell_type": "code",
      "metadata": {
        "id": "c072e870"
      },
      "source": [
        "def details(name, age):\n",
        "    print(name, age)"
      ],
      "id": "c072e870",
      "execution_count": null,
      "outputs": []
    },
    {
      "cell_type": "code",
      "metadata": {
        "id": "9d1c25d0",
        "outputId": "bb38ede3-0e92-4a78-9372-0d215484a35c"
      },
      "source": [
        "details('John Wick', 30)"
      ],
      "id": "9d1c25d0",
      "execution_count": null,
      "outputs": [
        {
          "output_type": "stream",
          "text": [
            "John Wick 30\n"
          ],
          "name": "stdout"
        }
      ]
    },
    {
      "cell_type": "code",
      "metadata": {
        "id": "6f0d2d31",
        "outputId": "a0747df7-2cbc-4f01-ab82-1425cd2e61a3"
      },
      "source": [
        "details(name = 'John Wick', age = 30)"
      ],
      "id": "6f0d2d31",
      "execution_count": null,
      "outputs": [
        {
          "output_type": "stream",
          "text": [
            "John Wick 30\n"
          ],
          "name": "stdout"
        }
      ]
    },
    {
      "cell_type": "code",
      "metadata": {
        "id": "0679df67",
        "outputId": "cb81ea64-126f-4323-c08b-4118dc02d1c4"
      },
      "source": [
        "details( age = 30, name = 'John Wick')"
      ],
      "id": "0679df67",
      "execution_count": null,
      "outputs": [
        {
          "output_type": "stream",
          "text": [
            "John Wick 30\n"
          ],
          "name": "stdout"
        }
      ]
    },
    {
      "cell_type": "code",
      "metadata": {
        "id": "7a2d511d",
        "outputId": "75a26a59-d7bd-4a9b-97be-ec0096639d49"
      },
      "source": [
        "details('John Wick', age = 30)"
      ],
      "id": "7a2d511d",
      "execution_count": null,
      "outputs": [
        {
          "output_type": "stream",
          "text": [
            "John Wick 30\n"
          ],
          "name": "stdout"
        }
      ]
    },
    {
      "cell_type": "code",
      "metadata": {
        "id": "8bac6968",
        "outputId": "468c35e7-37d3-475d-b14c-bccf307f52dc"
      },
      "source": [
        "details(name = 'John Wick', age)"
      ],
      "id": "8bac6968",
      "execution_count": null,
      "outputs": [
        {
          "output_type": "error",
          "ename": "SyntaxError",
          "evalue": "positional argument follows keyword argument (<ipython-input-23-d21c1d54f34b>, line 1)",
          "traceback": [
            "\u001b[1;36m  File \u001b[1;32m\"<ipython-input-23-d21c1d54f34b>\"\u001b[1;36m, line \u001b[1;32m1\u001b[0m\n\u001b[1;33m    details(name = 'John Wick', age)\u001b[0m\n\u001b[1;37m                                ^\u001b[0m\n\u001b[1;31mSyntaxError\u001b[0m\u001b[1;31m:\u001b[0m positional argument follows keyword argument\n"
          ]
        }
      ]
    },
    {
      "cell_type": "markdown",
      "metadata": {
        "id": "84ff9f2b"
      },
      "source": [
        "# args and kwargs"
      ],
      "id": "84ff9f2b"
    },
    {
      "cell_type": "code",
      "metadata": {
        "id": "8173add4"
      },
      "source": [
        "def add(num1, num2):\n",
        "    return num1 + num2\n",
        "\n",
        "def add(num1, num2, num3):\n",
        "    return num1 + num2\n",
        "\n",
        "def add(num1, num2, num3, num4):\n",
        "    return num1+num2+num3+num4"
      ],
      "id": "8173add4",
      "execution_count": null,
      "outputs": []
    },
    {
      "cell_type": "code",
      "metadata": {
        "id": "e67333d4"
      },
      "source": [
        "def add(*numbers):\n",
        "    print(numbers)\n",
        "    return sum(numbers)"
      ],
      "id": "e67333d4",
      "execution_count": null,
      "outputs": []
    },
    {
      "cell_type": "code",
      "metadata": {
        "id": "66a71c5d",
        "outputId": "35c248ef-3799-48b6-968a-1345dc9e7cbb"
      },
      "source": [
        "add(1,2)"
      ],
      "id": "66a71c5d",
      "execution_count": null,
      "outputs": [
        {
          "output_type": "stream",
          "text": [
            "(1, 2)\n"
          ],
          "name": "stdout"
        },
        {
          "output_type": "execute_result",
          "data": {
            "text/plain": [
              "3"
            ]
          },
          "metadata": {
            "tags": []
          },
          "execution_count": 36
        }
      ]
    },
    {
      "cell_type": "code",
      "metadata": {
        "id": "65e87d52",
        "outputId": "9db383bf-a51a-46d0-aecb-8b7da30aa704"
      },
      "source": [
        "add(1,2,3,4,5,6,7)"
      ],
      "id": "65e87d52",
      "execution_count": null,
      "outputs": [
        {
          "output_type": "stream",
          "text": [
            "(1, 2, 3, 4, 5, 6, 7)\n"
          ],
          "name": "stdout"
        },
        {
          "output_type": "execute_result",
          "data": {
            "text/plain": [
              "28"
            ]
          },
          "metadata": {
            "tags": []
          },
          "execution_count": 37
        }
      ]
    },
    {
      "cell_type": "code",
      "metadata": {
        "id": "ab55dc8e"
      },
      "source": [
        "def details(**kwargs):\n",
        "    print(kwargs)"
      ],
      "id": "ab55dc8e",
      "execution_count": null,
      "outputs": []
    },
    {
      "cell_type": "code",
      "metadata": {
        "id": "0f186f51",
        "outputId": "0a3dd82c-7f55-4327-8b6e-ad7882fb950f"
      },
      "source": [
        "details(name = ' Tom')"
      ],
      "id": "0f186f51",
      "execution_count": null,
      "outputs": [
        {
          "output_type": "stream",
          "text": [
            "{'name': ' Tom'}\n"
          ],
          "name": "stdout"
        }
      ]
    },
    {
      "cell_type": "code",
      "metadata": {
        "id": "66f25856",
        "outputId": "e5b16a3f-3d68-4c64-98ce-b0e6a21d1750"
      },
      "source": [
        "details(name = ' Tom', age = 30,gender = 'Male')"
      ],
      "id": "66f25856",
      "execution_count": null,
      "outputs": [
        {
          "output_type": "stream",
          "text": [
            "{'name': ' Tom', 'age': 30, 'gender': 'Male'}\n"
          ],
          "name": "stdout"
        }
      ]
    },
    {
      "cell_type": "code",
      "metadata": {
        "id": "321cd68a"
      },
      "source": [
        "def details(*marks, **detail):\n",
        "    print(marks)\n",
        "    print(type(marks))\n",
        "    print(detail)\n",
        "    print(type(detail))"
      ],
      "id": "321cd68a",
      "execution_count": null,
      "outputs": []
    },
    {
      "cell_type": "code",
      "metadata": {
        "id": "0da78f64",
        "outputId": "b99ad417-dc83-45fc-9a89-8d1836cbce6d"
      },
      "source": [
        "details(90,90, name = 'Tom')"
      ],
      "id": "0da78f64",
      "execution_count": null,
      "outputs": [
        {
          "output_type": "stream",
          "text": [
            "(90, 90)\n",
            "<class 'tuple'>\n",
            "{'name': 'Tom'}\n",
            "<class 'dict'>\n"
          ],
          "name": "stdout"
        }
      ]
    },
    {
      "cell_type": "code",
      "metadata": {
        "id": "35f9f993",
        "outputId": "3b2a2b93-94cd-4380-9c16-f522d5c8b130"
      },
      "source": [
        "details(90,90,90,90,90, name = 'Tom', age = '30', Roll_no = 420)"
      ],
      "id": "35f9f993",
      "execution_count": null,
      "outputs": [
        {
          "output_type": "stream",
          "text": [
            "(90, 90, 90, 90, 90)\n",
            "{'name': 'Tom', 'age': '30', 'Roll_no': 420}\n"
          ],
          "name": "stdout"
        }
      ]
    },
    {
      "cell_type": "code",
      "metadata": {
        "id": "1823e9b5",
        "outputId": "d68570f4-aefb-4bf3-b968-03aee7347a93"
      },
      "source": [
        ""
      ],
      "id": "1823e9b5",
      "execution_count": null,
      "outputs": [
        {
          "output_type": "error",
          "ename": "SyntaxError",
          "evalue": "invalid syntax (<ipython-input-44-7e17a3c996bd>, line 1)",
          "traceback": [
            "\u001b[1;36m  File \u001b[1;32m\"<ipython-input-44-7e17a3c996bd>\"\u001b[1;36m, line \u001b[1;32m1\u001b[0m\n\u001b[1;33m    def details(**detail, *marks):\u001b[0m\n\u001b[1;37m                          ^\u001b[0m\n\u001b[1;31mSyntaxError\u001b[0m\u001b[1;31m:\u001b[0m invalid syntax\n"
          ]
        }
      ]
    },
    {
      "cell_type": "code",
      "metadata": {
        "id": "5852112d"
      },
      "source": [
        "def largest3(num1,num2,num3):\n",
        "    if num1>num2 and num1>num3:\n",
        "        print(num1, 'is largest')\n",
        "    elif num2>num1 and num2>num3:\n",
        "        print(num2, 'is largest')\n",
        "    else:\n",
        "        print(num3, 'is largest')"
      ],
      "id": "5852112d",
      "execution_count": null,
      "outputs": []
    },
    {
      "cell_type": "code",
      "metadata": {
        "id": "2d23d0f7",
        "outputId": "5933354e-34b1-48c0-f957-c190eb0aa5f0"
      },
      "source": [
        "largest3(5,6,7)"
      ],
      "id": "2d23d0f7",
      "execution_count": null,
      "outputs": [
        {
          "output_type": "stream",
          "text": [
            "7 is largest\n"
          ],
          "name": "stdout"
        }
      ]
    },
    {
      "cell_type": "code",
      "metadata": {
        "id": "b5678c60",
        "outputId": "4b271dd2-c695-42cb-ab4d-73f82f3860af"
      },
      "source": [
        "type(largest3)"
      ],
      "id": "b5678c60",
      "execution_count": null,
      "outputs": [
        {
          "output_type": "execute_result",
          "data": {
            "text/plain": [
              "function"
            ]
          },
          "metadata": {
            "tags": []
          },
          "execution_count": 54
        }
      ]
    },
    {
      "cell_type": "code",
      "metadata": {
        "id": "2f262fc2"
      },
      "source": [
        "func1 = largest3"
      ],
      "id": "2f262fc2",
      "execution_count": null,
      "outputs": []
    },
    {
      "cell_type": "code",
      "metadata": {
        "id": "1e162ed6",
        "outputId": "0f5daed1-d1de-4618-b480-f3f1412ac12a"
      },
      "source": [
        "func1(5,6,7)"
      ],
      "id": "1e162ed6",
      "execution_count": null,
      "outputs": [
        {
          "output_type": "stream",
          "text": [
            "7 is largest\n"
          ],
          "name": "stdout"
        }
      ]
    },
    {
      "cell_type": "code",
      "metadata": {
        "id": "104fc9c6"
      },
      "source": [
        "def second_largest(a,b,c):\n",
        "    if a > b and a > c:\n",
        "        if b > c:\n",
        "            return b\n",
        "        else:\n",
        "            return c\n",
        "    if b > a and b > c:\n",
        "        if a > c:\n",
        "            return a\n",
        "        else:\n",
        "            return c\n",
        "    else:\n",
        "        if a > b:\n",
        "            return a\n",
        "        else:\n",
        "            return b "
      ],
      "id": "104fc9c6",
      "execution_count": null,
      "outputs": []
    },
    {
      "cell_type": "code",
      "metadata": {
        "id": "a159675a"
      },
      "source": [
        "def sec_largest(a,b,c):\n",
        "    if a>b:\n",
        "        if a>c:\n",
        "            return a\n",
        "        elif c>b:\n",
        "            return c\n",
        "        return b\n",
        "    elif b>c:\n",
        "        return b\n",
        "    return c"
      ],
      "id": "a159675a",
      "execution_count": null,
      "outputs": []
    },
    {
      "cell_type": "code",
      "metadata": {
        "id": "85e44f5c",
        "outputId": "1276412e-1bae-4b02-8000-fda2170b5e4b"
      },
      "source": [
        "sec_largest(4,5,6)"
      ],
      "id": "85e44f5c",
      "execution_count": null,
      "outputs": [
        {
          "output_type": "execute_result",
          "data": {
            "text/plain": [
              "6"
            ]
          },
          "metadata": {
            "tags": []
          },
          "execution_count": 58
        }
      ]
    },
    {
      "cell_type": "code",
      "metadata": {
        "id": "42425270"
      },
      "source": [
        "def sec_large(num1,num2,num3):\n",
        "    if num1>num2 and num1<num3:\n",
        "        print(num1, 'is second largest')\n",
        "    elif num2>num1 and num2<num3:\n",
        "        print(num2, 'is second largest')\n",
        "    else:\n",
        "        print(num3, 'is second largest')"
      ],
      "id": "42425270",
      "execution_count": null,
      "outputs": []
    },
    {
      "cell_type": "code",
      "metadata": {
        "id": "b97d8762",
        "outputId": "47138073-c02d-40be-a0ce-7031b94d6a60"
      },
      "source": [
        "sec_large(7,6,5)"
      ],
      "id": "b97d8762",
      "execution_count": null,
      "outputs": [
        {
          "output_type": "stream",
          "text": [
            "5 is second largest\n"
          ],
          "name": "stdout"
        }
      ]
    },
    {
      "cell_type": "code",
      "metadata": {
        "id": "98a6008a",
        "outputId": "a166c8a9-1f51-4c93-c14e-772d83693c0b"
      },
      "source": [
        "sec_large(5,6,7)"
      ],
      "id": "98a6008a",
      "execution_count": null,
      "outputs": [
        {
          "output_type": "stream",
          "text": [
            "6 is second largest\n"
          ],
          "name": "stdout"
        }
      ]
    },
    {
      "cell_type": "code",
      "metadata": {
        "id": "4275992f",
        "outputId": "00b42ad0-53b9-49bf-9189-3e74e392e9bf"
      },
      "source": [
        "sec_large(6,7,5)"
      ],
      "id": "4275992f",
      "execution_count": null,
      "outputs": [
        {
          "output_type": "stream",
          "text": [
            "5 is second largest\n"
          ],
          "name": "stdout"
        }
      ]
    },
    {
      "cell_type": "code",
      "metadata": {
        "id": "648b18bc",
        "outputId": "9c11bbc8-3187-47be-8901-e8dd0aca144d"
      },
      "source": [
        "sec_large(6,5,7)"
      ],
      "id": "648b18bc",
      "execution_count": null,
      "outputs": [
        {
          "output_type": "stream",
          "text": [
            "6 is second largest\n"
          ],
          "name": "stdout"
        }
      ]
    },
    {
      "cell_type": "code",
      "metadata": {
        "id": "6db0b485",
        "outputId": "38aa7f48-c51d-4f40-c886-bc9c924b2364"
      },
      "source": [
        "sec_large(7,5,7)"
      ],
      "id": "6db0b485",
      "execution_count": null,
      "outputs": [
        {
          "output_type": "stream",
          "text": [
            "7 is second largest\n"
          ],
          "name": "stdout"
        }
      ]
    },
    {
      "cell_type": "markdown",
      "metadata": {
        "id": "7687e2b5"
      },
      "source": [
        "# Map function"
      ],
      "id": "7687e2b5"
    },
    {
      "cell_type": "markdown",
      "metadata": {
        "id": "0fb32b29"
      },
      "source": [
        "The **map** function allows you to \"map\" a function to an iterable object. That is to say you can quickly call the same function to every item in an iterable, such as a list. For example:"
      ],
      "id": "0fb32b29"
    },
    {
      "cell_type": "code",
      "metadata": {
        "id": "8623cb91"
      },
      "source": [
        "def square(num):\n",
        "    return num ** 2\n"
      ],
      "id": "8623cb91",
      "execution_count": null,
      "outputs": []
    },
    {
      "cell_type": "code",
      "metadata": {
        "id": "5a08d233"
      },
      "source": [
        "l = [1,2,3,4,5]"
      ],
      "id": "5a08d233",
      "execution_count": null,
      "outputs": []
    },
    {
      "cell_type": "code",
      "metadata": {
        "id": "05ad2413",
        "outputId": "24b48980-6514-4aed-bc8e-09b502eb0d65"
      },
      "source": [
        "for i in l:\n",
        "    print(square(i))"
      ],
      "id": "05ad2413",
      "execution_count": null,
      "outputs": [
        {
          "output_type": "stream",
          "text": [
            "1\n",
            "4\n",
            "9\n",
            "16\n",
            "25\n"
          ],
          "name": "stdout"
        }
      ]
    },
    {
      "cell_type": "code",
      "metadata": {
        "id": "3c762a7c",
        "outputId": "15850a99-0e47-4a1f-86e3-4e3edbbd7db9"
      },
      "source": [
        "list(map(square, l))"
      ],
      "id": "3c762a7c",
      "execution_count": null,
      "outputs": [
        {
          "output_type": "execute_result",
          "data": {
            "text/plain": [
              "[1, 4, 9, 16, 25]"
            ]
          },
          "metadata": {
            "tags": []
          },
          "execution_count": 78
        }
      ]
    },
    {
      "cell_type": "code",
      "metadata": {
        "id": "07e6237e"
      },
      "source": [
        "def cut(s):\n",
        "    return s[0]"
      ],
      "id": "07e6237e",
      "execution_count": null,
      "outputs": []
    },
    {
      "cell_type": "code",
      "metadata": {
        "id": "f8594779"
      },
      "source": [
        "ls = ['ABC', 'PQR', 'XYZ']"
      ],
      "id": "f8594779",
      "execution_count": null,
      "outputs": []
    },
    {
      "cell_type": "code",
      "metadata": {
        "id": "78ecd167",
        "outputId": "7888c6f7-c9cf-490f-a2b8-78f28acbd8c2"
      },
      "source": [
        "list(map(cut, ls))"
      ],
      "id": "78ecd167",
      "execution_count": null,
      "outputs": [
        {
          "output_type": "execute_result",
          "data": {
            "text/plain": [
              "['A', 'P', 'X']"
            ]
          },
          "metadata": {
            "tags": []
          },
          "execution_count": 81
        }
      ]
    },
    {
      "cell_type": "markdown",
      "metadata": {
        "id": "9f43d0ed"
      },
      "source": [
        "# Filter"
      ],
      "id": "9f43d0ed"
    },
    {
      "cell_type": "code",
      "metadata": {
        "id": "20a23b70"
      },
      "source": [
        "def check_even(num):\n",
        "    return num % 2 ==0"
      ],
      "id": "20a23b70",
      "execution_count": null,
      "outputs": []
    },
    {
      "cell_type": "code",
      "metadata": {
        "id": "861df427"
      },
      "source": [
        "l = [1,2,3,4,5,6,7,8,9]"
      ],
      "id": "861df427",
      "execution_count": null,
      "outputs": []
    },
    {
      "cell_type": "code",
      "metadata": {
        "id": "17569119",
        "outputId": "86dfda42-2bb7-4ddf-bdba-11db744dd6bd"
      },
      "source": [
        "list(filter(check_even, l))"
      ],
      "id": "17569119",
      "execution_count": null,
      "outputs": [
        {
          "output_type": "execute_result",
          "data": {
            "text/plain": [
              "[2, 4, 6, 8]"
            ]
          },
          "metadata": {
            "tags": []
          },
          "execution_count": 84
        }
      ]
    },
    {
      "cell_type": "markdown",
      "metadata": {
        "id": "87b39b45"
      },
      "source": [
        "## lambda expression\n",
        "\n",
        "One of Pythons most useful (and for beginners, confusing) tools is the lambda expression. lambda expressions allow us to create \"anonymous\" functions. This basically means we can quickly make ad-hoc functions without needing to properly define a function using def.\n",
        "\n",
        "Function objects returned by running lambda expressions work exactly the same as those created and assigned by defs. There is key difference that makes lambda useful in specialized roles:\n",
        "\n",
        "**lambda's body is a single expression, not a block of statements.**\n",
        "\n",
        "* The lambda's body is similar to what we would put in a def body's return statement. We simply type the result as an expression instead of explicitly returning it. Because it is limited to an expression, a lambda is less general that a def. We can only squeeze design, to limit program nesting. lambda is designed for coding simple functions, and def handles the larger tasks."
      ],
      "id": "87b39b45"
    },
    {
      "cell_type": "code",
      "metadata": {
        "id": "e636b7b2"
      },
      "source": [
        "a = lambda n : n**2"
      ],
      "id": "e636b7b2",
      "execution_count": null,
      "outputs": []
    },
    {
      "cell_type": "code",
      "metadata": {
        "id": "334f5e31",
        "outputId": "c1009e3e-4fd8-42fd-91aa-e79cf69b0fe6"
      },
      "source": [
        "a(3)"
      ],
      "id": "334f5e31",
      "execution_count": null,
      "outputs": [
        {
          "output_type": "execute_result",
          "data": {
            "text/plain": [
              "9"
            ]
          },
          "metadata": {
            "tags": []
          },
          "execution_count": 87
        }
      ]
    },
    {
      "cell_type": "code",
      "metadata": {
        "id": "094091e2"
      },
      "source": [
        "a = lambda a,b,c : a+b+c"
      ],
      "id": "094091e2",
      "execution_count": null,
      "outputs": []
    },
    {
      "cell_type": "code",
      "metadata": {
        "id": "b21c9327",
        "outputId": "1ac7776e-9fa3-4043-e8b7-c167a53715a0"
      },
      "source": [
        "a(1,2,3)"
      ],
      "id": "b21c9327",
      "execution_count": null,
      "outputs": [
        {
          "output_type": "execute_result",
          "data": {
            "text/plain": [
              "6"
            ]
          },
          "metadata": {
            "tags": []
          },
          "execution_count": 89
        }
      ]
    },
    {
      "cell_type": "code",
      "metadata": {
        "id": "99eda23f",
        "outputId": "5aa60aed-fd14-40c7-b7ba-8c013b1b2b4f"
      },
      "source": [
        "l = [1,2,3,4,5]\n",
        "list(map(lambda n : n**2, l))"
      ],
      "id": "99eda23f",
      "execution_count": null,
      "outputs": [
        {
          "output_type": "execute_result",
          "data": {
            "text/plain": [
              "[1, 4, 9, 16, 25]"
            ]
          },
          "metadata": {
            "tags": []
          },
          "execution_count": 90
        }
      ]
    },
    {
      "cell_type": "code",
      "metadata": {
        "id": "6fd06351",
        "outputId": "95072ca5-b23c-401a-c0e3-866a83870c9f"
      },
      "source": [
        "l = [1,2,3,4,5,6,7,8,9]\n",
        "list(filter(lambda n : n % 2 == 0, l))"
      ],
      "id": "6fd06351",
      "execution_count": null,
      "outputs": [
        {
          "output_type": "execute_result",
          "data": {
            "text/plain": [
              "[2, 4, 6, 8]"
            ]
          },
          "metadata": {
            "tags": []
          },
          "execution_count": 92
        }
      ]
    },
    {
      "cell_type": "code",
      "metadata": {
        "id": "92cd1c6e"
      },
      "source": [
        ""
      ],
      "id": "92cd1c6e",
      "execution_count": null,
      "outputs": []
    }
  ]
}