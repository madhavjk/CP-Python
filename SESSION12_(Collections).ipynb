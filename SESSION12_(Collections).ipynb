{
  "nbformat": 4,
  "nbformat_minor": 0,
  "metadata": {
    "kernelspec": {
      "display_name": "Python 3",
      "language": "python",
      "name": "python3"
    },
    "language_info": {
      "codemirror_mode": {
        "name": "ipython",
        "version": 3
      },
      "file_extension": ".py",
      "mimetype": "text/x-python",
      "name": "python",
      "nbconvert_exporter": "python",
      "pygments_lexer": "ipython3",
      "version": "3.8.5"
    },
    "colab": {
      "name": "SESSION12 (Collections).ipynb",
      "provenance": [],
      "include_colab_link": true
    }
  },
  "cells": [
    {
      "cell_type": "markdown",
      "metadata": {
        "id": "view-in-github",
        "colab_type": "text"
      },
      "source": [
        "<a href=\"https://colab.research.google.com/github/madhavjk/CP-Python/blob/main/SESSION12_(Collections).ipynb\" target=\"_parent\"><img src=\"https://colab.research.google.com/assets/colab-badge.svg\" alt=\"Open In Colab\"/></a>"
      ]
    },
    {
      "cell_type": "code",
      "metadata": {
        "id": "RpBWQ-I9k8dg"
      },
      "source": [
        "from collections import Counter"
      ],
      "execution_count": null,
      "outputs": []
    },
    {
      "cell_type": "code",
      "metadata": {
        "id": "ErvKn4_Fk8do",
        "outputId": "9705d537-0c50-4459-f802-cae265ce5c96"
      },
      "source": [
        "lst = [1,2,2,2,2,3,3,3,1,2,1,12,3,2,32,1,21,1,223,1]\n",
        "\n",
        "Counter(lst)"
      ],
      "execution_count": null,
      "outputs": [
        {
          "output_type": "execute_result",
          "data": {
            "text/plain": [
              "Counter({1: 6, 2: 6, 3: 4, 12: 1, 32: 1, 21: 1, 223: 1})"
            ]
          },
          "metadata": {
            "tags": []
          },
          "execution_count": 2
        }
      ]
    },
    {
      "cell_type": "code",
      "metadata": {
        "id": "8wkzfnYQk8e6",
        "outputId": "9d00ff0b-bdb0-4360-823b-d012d8b16a66"
      },
      "source": [
        "Counter('aabsbsbsbhshhbbsbs')"
      ],
      "execution_count": null,
      "outputs": [
        {
          "output_type": "execute_result",
          "data": {
            "text/plain": [
              "Counter({'a': 2, 'b': 7, 's': 6, 'h': 3})"
            ]
          },
          "metadata": {
            "tags": []
          },
          "execution_count": 3
        }
      ]
    },
    {
      "cell_type": "code",
      "metadata": {
        "id": "vxnjft0tk8e8",
        "outputId": "bfd3f23a-5870-41c5-fade-d1b81633f29d"
      },
      "source": [
        "s = 'How many times does each word show up in this sentence word times each each word'\n",
        "\n",
        "words = s.split()\n",
        "print(words)\n",
        "Counter(words)"
      ],
      "execution_count": null,
      "outputs": [
        {
          "output_type": "stream",
          "text": [
            "['How', 'many', 'times', 'does', 'each', 'word', 'show', 'up', 'in', 'this', 'sentence', 'word', 'times', 'each', 'each', 'word']\n"
          ],
          "name": "stdout"
        },
        {
          "output_type": "execute_result",
          "data": {
            "text/plain": [
              "Counter({'How': 1,\n",
              "         'many': 1,\n",
              "         'times': 2,\n",
              "         'does': 1,\n",
              "         'each': 3,\n",
              "         'word': 3,\n",
              "         'show': 1,\n",
              "         'up': 1,\n",
              "         'in': 1,\n",
              "         'this': 1,\n",
              "         'sentence': 1})"
            ]
          },
          "metadata": {
            "tags": []
          },
          "execution_count": 4
        }
      ]
    },
    {
      "cell_type": "code",
      "metadata": {
        "id": "vP09N-P-k8e_",
        "outputId": "ab8dbca3-459f-4f10-f26d-46fb2f5d5aa3"
      },
      "source": [
        "c = Counter(words)\n",
        "\n",
        "c.most_common(2)"
      ],
      "execution_count": null,
      "outputs": [
        {
          "output_type": "execute_result",
          "data": {
            "text/plain": [
              "[('each', 3), ('word', 3)]"
            ]
          },
          "metadata": {
            "tags": []
          },
          "execution_count": 5
        }
      ]
    },
    {
      "cell_type": "markdown",
      "metadata": {
        "id": "PK2Wyq7Ck8fC"
      },
      "source": [
        ""
      ]
    },
    {
      "cell_type": "markdown",
      "metadata": {
        "id": "vnPiikMlk8fC"
      },
      "source": [
        "# defaultdict"
      ]
    },
    {
      "cell_type": "code",
      "metadata": {
        "id": "YHvgmpgZk8fD"
      },
      "source": [
        "from collections import defaultdict"
      ],
      "execution_count": null,
      "outputs": []
    },
    {
      "cell_type": "code",
      "metadata": {
        "id": "k86mvU3zk8fh"
      },
      "source": [
        "d = {1: \"ABC\",2: \"XYZ\"}"
      ],
      "execution_count": null,
      "outputs": []
    },
    {
      "cell_type": "code",
      "metadata": {
        "id": "9mksS0Qpk8fi",
        "outputId": "f9b609ba-bf47-4297-f71d-f90e9fd2a86c"
      },
      "source": [
        "d[1]"
      ],
      "execution_count": null,
      "outputs": [
        {
          "output_type": "execute_result",
          "data": {
            "text/plain": [
              "'ABC'"
            ]
          },
          "metadata": {
            "tags": []
          },
          "execution_count": 8
        }
      ]
    },
    {
      "cell_type": "code",
      "metadata": {
        "id": "cm1w0uC9k8fl",
        "outputId": "560fd903-d8b8-46e7-a1f7-fcdb820f713c"
      },
      "source": [
        "d[2]"
      ],
      "execution_count": null,
      "outputs": [
        {
          "output_type": "execute_result",
          "data": {
            "text/plain": [
              "'XYZ'"
            ]
          },
          "metadata": {
            "tags": []
          },
          "execution_count": 9
        }
      ]
    },
    {
      "cell_type": "code",
      "metadata": {
        "id": "VIijtu_Nk8fm",
        "outputId": "f69d8f91-42ce-4521-cdc5-c68382c1781b"
      },
      "source": [
        "d[3]"
      ],
      "execution_count": null,
      "outputs": [
        {
          "output_type": "error",
          "ename": "KeyError",
          "evalue": "3",
          "traceback": [
            "\u001b[1;31m---------------------------------------------------------------------------\u001b[0m",
            "\u001b[1;31mKeyError\u001b[0m                                  Traceback (most recent call last)",
            "\u001b[1;32m<ipython-input-10-0acadf17a380>\u001b[0m in \u001b[0;36m<module>\u001b[1;34m\u001b[0m\n\u001b[1;32m----> 1\u001b[1;33m \u001b[0md\u001b[0m\u001b[1;33m[\u001b[0m\u001b[1;36m3\u001b[0m\u001b[1;33m]\u001b[0m\u001b[1;33m\u001b[0m\u001b[1;33m\u001b[0m\u001b[0m\n\u001b[0m",
            "\u001b[1;31mKeyError\u001b[0m: 3"
          ]
        }
      ]
    },
    {
      "cell_type": "code",
      "metadata": {
        "id": "K4i8QQKZk8fn"
      },
      "source": [
        "d1 = defaultdict(int)"
      ],
      "execution_count": null,
      "outputs": []
    },
    {
      "cell_type": "code",
      "metadata": {
        "id": "Dg8dSKs9k8fq"
      },
      "source": [
        "d1['one'] = 1\n",
        "d1['two'] = 2"
      ],
      "execution_count": null,
      "outputs": []
    },
    {
      "cell_type": "code",
      "metadata": {
        "id": "pcQIvbhWk8fr",
        "outputId": "0fe36c83-5596-49c6-9ee4-d491072e188e"
      },
      "source": [
        "d1['three']"
      ],
      "execution_count": null,
      "outputs": [
        {
          "output_type": "execute_result",
          "data": {
            "text/plain": [
              "0"
            ]
          },
          "metadata": {
            "tags": []
          },
          "execution_count": 9
        }
      ]
    },
    {
      "cell_type": "code",
      "metadata": {
        "id": "kP5l3f3jk8fs"
      },
      "source": [
        "d1 = defaultdict(str)"
      ],
      "execution_count": null,
      "outputs": []
    },
    {
      "cell_type": "code",
      "metadata": {
        "id": "vG4GN70Ek8ft",
        "outputId": "c9e57e09-8652-402c-c8fe-d49559a0832d"
      },
      "source": [
        "d1[1] = 'One'\n",
        "d1[2] = 'Two'\n",
        "d1[3]"
      ],
      "execution_count": null,
      "outputs": [
        {
          "output_type": "execute_result",
          "data": {
            "text/plain": [
              "''"
            ]
          },
          "metadata": {
            "tags": []
          },
          "execution_count": 16
        }
      ]
    },
    {
      "cell_type": "markdown",
      "metadata": {
        "id": "tSoAKjbXk8fv"
      },
      "source": [
        "# ordereddict"
      ]
    },
    {
      "cell_type": "code",
      "metadata": {
        "id": "evgIDa3Lk8fw"
      },
      "source": [
        "from collections import OrderedDict"
      ],
      "execution_count": null,
      "outputs": []
    },
    {
      "cell_type": "code",
      "metadata": {
        "id": "9OWLz-r-k8fw"
      },
      "source": [
        "od = OrderedDict()"
      ],
      "execution_count": null,
      "outputs": []
    },
    {
      "cell_type": "code",
      "metadata": {
        "id": "TtE-IMK6k8fx"
      },
      "source": [
        "od['a'] = 1\n",
        "od['b'] = 2\n",
        "od['c'] = 3"
      ],
      "execution_count": null,
      "outputs": []
    },
    {
      "cell_type": "code",
      "metadata": {
        "id": "g8A3qpAKk8fx",
        "outputId": "2e32742c-e8b8-49c3-f62b-d9ee05c24817"
      },
      "source": [
        "od"
      ],
      "execution_count": null,
      "outputs": [
        {
          "output_type": "execute_result",
          "data": {
            "text/plain": [
              "OrderedDict([('a', 1), ('b', 2), ('c', 3)])"
            ]
          },
          "metadata": {
            "tags": []
          },
          "execution_count": 20
        }
      ]
    },
    {
      "cell_type": "code",
      "metadata": {
        "id": "EpmTTi-Kk8fy",
        "outputId": "7118c1f5-e55e-4e7c-fbe4-24467521a51c"
      },
      "source": [
        "od['a'] = 4\n",
        "od"
      ],
      "execution_count": null,
      "outputs": [
        {
          "output_type": "execute_result",
          "data": {
            "text/plain": [
              "OrderedDict([('a', 4), ('b', 2), ('c', 3)])"
            ]
          },
          "metadata": {
            "tags": []
          },
          "execution_count": 21
        }
      ]
    },
    {
      "cell_type": "markdown",
      "metadata": {
        "id": "PXlJ6wu3k8fz"
      },
      "source": [
        "# deque"
      ]
    },
    {
      "cell_type": "code",
      "metadata": {
        "id": "mAOfybTmk8f0"
      },
      "source": [
        "from collections import deque"
      ],
      "execution_count": null,
      "outputs": []
    },
    {
      "cell_type": "code",
      "metadata": {
        "id": "kvWFwTuck8f1"
      },
      "source": [
        "l = [\"a\",\"b\",\"c\"]"
      ],
      "execution_count": null,
      "outputs": []
    },
    {
      "cell_type": "code",
      "metadata": {
        "id": "LZcaqpKhk8f1"
      },
      "source": [
        "deq = deque(l)"
      ],
      "execution_count": null,
      "outputs": []
    },
    {
      "cell_type": "code",
      "metadata": {
        "id": "ssMW_r_Wk8f2",
        "outputId": "3e35be64-d793-410a-d29f-a6cffac9a617"
      },
      "source": [
        "deq"
      ],
      "execution_count": null,
      "outputs": [
        {
          "output_type": "execute_result",
          "data": {
            "text/plain": [
              "deque(['a', 'b', 'c'])"
            ]
          },
          "metadata": {
            "tags": []
          },
          "execution_count": 25
        }
      ]
    },
    {
      "cell_type": "code",
      "metadata": {
        "id": "Qax9Cg5Qk8f2",
        "outputId": "4e8bbd27-0ec7-4c25-a423-227158063529"
      },
      "source": [
        "deq.append(\"d\")\n",
        "deq"
      ],
      "execution_count": null,
      "outputs": [
        {
          "output_type": "execute_result",
          "data": {
            "text/plain": [
              "deque(['a', 'b', 'c', 'd'])"
            ]
          },
          "metadata": {
            "tags": []
          },
          "execution_count": 26
        }
      ]
    },
    {
      "cell_type": "code",
      "metadata": {
        "id": "UO6yYaSXk8f3",
        "outputId": "59558019-5cbd-4ded-93a3-05cba50b4ba5"
      },
      "source": [
        "deq.appendleft(\"x\")\n",
        "deq"
      ],
      "execution_count": null,
      "outputs": [
        {
          "output_type": "execute_result",
          "data": {
            "text/plain": [
              "deque(['x', 'a', 'b', 'c', 'd'])"
            ]
          },
          "metadata": {
            "tags": []
          },
          "execution_count": 27
        }
      ]
    },
    {
      "cell_type": "code",
      "metadata": {
        "id": "cTt43uuwk8f4",
        "outputId": "7d6a36e1-a904-4757-f55e-5bd70b981162"
      },
      "source": [
        "deq.pop()"
      ],
      "execution_count": null,
      "outputs": [
        {
          "output_type": "execute_result",
          "data": {
            "text/plain": [
              "'d'"
            ]
          },
          "metadata": {
            "tags": []
          },
          "execution_count": 28
        }
      ]
    },
    {
      "cell_type": "code",
      "metadata": {
        "id": "2RzZFQR3k8f5",
        "outputId": "2078d7c5-1b72-423d-f28b-9a5da67f82f1"
      },
      "source": [
        "deq"
      ],
      "execution_count": null,
      "outputs": [
        {
          "output_type": "execute_result",
          "data": {
            "text/plain": [
              "deque(['x', 'a', 'b', 'c'])"
            ]
          },
          "metadata": {
            "tags": []
          },
          "execution_count": 29
        }
      ]
    },
    {
      "cell_type": "code",
      "metadata": {
        "id": "ujr9sW28k8f6",
        "outputId": "a0478c77-9075-4d98-c43f-10664f2dcb1d"
      },
      "source": [
        "deq.popleft()"
      ],
      "execution_count": null,
      "outputs": [
        {
          "output_type": "execute_result",
          "data": {
            "text/plain": [
              "'x'"
            ]
          },
          "metadata": {
            "tags": []
          },
          "execution_count": 30
        }
      ]
    },
    {
      "cell_type": "code",
      "metadata": {
        "id": "YQpYxczlk8f7",
        "outputId": "ad968caa-885c-4b90-cfd4-f83442518686"
      },
      "source": [
        "deq"
      ],
      "execution_count": null,
      "outputs": [
        {
          "output_type": "execute_result",
          "data": {
            "text/plain": [
              "deque(['a', 'b', 'c'])"
            ]
          },
          "metadata": {
            "tags": []
          },
          "execution_count": 31
        }
      ]
    },
    {
      "cell_type": "code",
      "metadata": {
        "id": "Y1jSPIV_k8f8",
        "outputId": "727e07e7-d111-46a1-f301-ba2692797e94"
      },
      "source": [
        "deq.count(\"c\")"
      ],
      "execution_count": null,
      "outputs": [
        {
          "output_type": "execute_result",
          "data": {
            "text/plain": [
              "1"
            ]
          },
          "metadata": {
            "tags": []
          },
          "execution_count": 32
        }
      ]
    },
    {
      "cell_type": "code",
      "metadata": {
        "id": "XMwUSFAxk8f9"
      },
      "source": [
        "deq.append(\"a\")"
      ],
      "execution_count": null,
      "outputs": []
    },
    {
      "cell_type": "code",
      "metadata": {
        "id": "8uMpiLHwk8f9",
        "outputId": "c898cae5-4aec-4dee-d0ec-904762cc25a6"
      },
      "source": [
        "deq.count(\"a\")"
      ],
      "execution_count": null,
      "outputs": [
        {
          "output_type": "execute_result",
          "data": {
            "text/plain": [
              "2"
            ]
          },
          "metadata": {
            "tags": []
          },
          "execution_count": 27
        }
      ]
    },
    {
      "cell_type": "markdown",
      "metadata": {
        "id": "dIqlGebsk8f-"
      },
      "source": [
        "# ChainMap"
      ]
    },
    {
      "cell_type": "code",
      "metadata": {
        "id": "xMuwQD5-k8f-"
      },
      "source": [
        "d1 = {'a':1, 'b' : 2}\n",
        "d2 = {'c': 3, 'd': 4}"
      ],
      "execution_count": null,
      "outputs": []
    },
    {
      "cell_type": "code",
      "metadata": {
        "id": "KkSNDGvWk8f_"
      },
      "source": [
        "from collections import ChainMap\n",
        "c_map = ChainMap(d1,d2)"
      ],
      "execution_count": null,
      "outputs": []
    },
    {
      "cell_type": "code",
      "metadata": {
        "id": "oRaW-FVpk8f_",
        "outputId": "bcceecb4-98a8-48a1-984d-dbf63894955a"
      },
      "source": [
        "c_map.maps"
      ],
      "execution_count": null,
      "outputs": [
        {
          "output_type": "execute_result",
          "data": {
            "text/plain": [
              "[{'a': 1, 'b': 2}, {'c': 3, 'd': 4}]"
            ]
          },
          "metadata": {
            "tags": []
          },
          "execution_count": 35
        }
      ]
    },
    {
      "cell_type": "code",
      "metadata": {
        "id": "H83Pmkyhk8gA",
        "outputId": "59f9690d-6249-4086-8fab-db254bfde145"
      },
      "source": [
        "c_map['a']"
      ],
      "execution_count": null,
      "outputs": [
        {
          "output_type": "execute_result",
          "data": {
            "text/plain": [
              "1"
            ]
          },
          "metadata": {
            "tags": []
          },
          "execution_count": 36
        }
      ]
    },
    {
      "cell_type": "code",
      "metadata": {
        "id": "km08mH1rk8gB",
        "outputId": "c912f0b4-3053-4383-dfa8-0937fc2d4588"
      },
      "source": [
        "c_map['c']"
      ],
      "execution_count": null,
      "outputs": [
        {
          "output_type": "execute_result",
          "data": {
            "text/plain": [
              "3"
            ]
          },
          "metadata": {
            "tags": []
          },
          "execution_count": 37
        }
      ]
    },
    {
      "cell_type": "code",
      "metadata": {
        "id": "h6P7y4ZWk8gB",
        "outputId": "c37d092d-5047-4ac1-d76c-233a4218c0a7"
      },
      "source": [
        "list(c_map.keys())"
      ],
      "execution_count": null,
      "outputs": [
        {
          "output_type": "execute_result",
          "data": {
            "text/plain": [
              "['c', 'd', 'a', 'b']"
            ]
          },
          "metadata": {
            "tags": []
          },
          "execution_count": 38
        }
      ]
    },
    {
      "cell_type": "code",
      "metadata": {
        "id": "UCTxBp6Tk8gC",
        "outputId": "51883bd8-29f2-478d-8832-510783bb38a3"
      },
      "source": [
        "list(c_map.values())"
      ],
      "execution_count": null,
      "outputs": [
        {
          "output_type": "execute_result",
          "data": {
            "text/plain": [
              "[3, 4, 1, 2]"
            ]
          },
          "metadata": {
            "tags": []
          },
          "execution_count": 36
        }
      ]
    },
    {
      "cell_type": "code",
      "metadata": {
        "id": "WucM9h25k8gD"
      },
      "source": [
        "d3 = {'e' : 5, 'f': 6}\n",
        "c_map = c_map.new_child(d3)"
      ],
      "execution_count": null,
      "outputs": []
    },
    {
      "cell_type": "code",
      "metadata": {
        "id": "Y12EdNBbk8gG",
        "outputId": "1b97730f-2f31-46d8-b9dd-79286562e915"
      },
      "source": [
        "c_map"
      ],
      "execution_count": null,
      "outputs": [
        {
          "output_type": "execute_result",
          "data": {
            "text/plain": [
              "ChainMap({'e': 5, 'f': 6}, {'a': 1, 'b': 2}, {'c': 3, 'd': 4})"
            ]
          },
          "metadata": {
            "tags": []
          },
          "execution_count": 40
        }
      ]
    },
    {
      "cell_type": "code",
      "metadata": {
        "id": "VA2ZD1t0k8gH",
        "outputId": "5f9641ad-4776-4809-d387-40307e867baf"
      },
      "source": [
        "c_map['a']"
      ],
      "execution_count": null,
      "outputs": [
        {
          "output_type": "execute_result",
          "data": {
            "text/plain": [
              "1"
            ]
          },
          "metadata": {
            "tags": []
          },
          "execution_count": 41
        }
      ]
    },
    {
      "cell_type": "code",
      "metadata": {
        "id": "GI3cTp9Uk8gJ",
        "outputId": "c3809626-2f3c-4022-e74c-da5dab940564"
      },
      "source": [
        "c_map['e']"
      ],
      "execution_count": null,
      "outputs": [
        {
          "output_type": "execute_result",
          "data": {
            "text/plain": [
              "5"
            ]
          },
          "metadata": {
            "tags": []
          },
          "execution_count": 42
        }
      ]
    },
    {
      "cell_type": "markdown",
      "metadata": {
        "id": "Olb-YNwDk8gK"
      },
      "source": [
        "# namedtuple"
      ]
    },
    {
      "cell_type": "code",
      "metadata": {
        "id": "M_dKSn4Lk8gL"
      },
      "source": [
        "from collections import namedtuple"
      ],
      "execution_count": null,
      "outputs": []
    },
    {
      "cell_type": "code",
      "metadata": {
        "id": "x2HzRTMuk8gM"
      },
      "source": [
        "Student = namedtuple('Student', 'fname, lname, age')"
      ],
      "execution_count": null,
      "outputs": []
    },
    {
      "cell_type": "code",
      "metadata": {
        "id": "myiFQSvhk8gN"
      },
      "source": [
        "s1 = Student('Tom', 'Hanks', '60')"
      ],
      "execution_count": null,
      "outputs": []
    },
    {
      "cell_type": "code",
      "metadata": {
        "id": "DXGkNnM7k8gO",
        "outputId": "20bf1b0f-4fa6-4a1a-99da-5cb5b0933239"
      },
      "source": [
        "s1"
      ],
      "execution_count": null,
      "outputs": [
        {
          "output_type": "execute_result",
          "data": {
            "text/plain": [
              "Student(fname='Tom', lname='Hanks', age='60')"
            ]
          },
          "metadata": {
            "tags": []
          },
          "execution_count": 44
        }
      ]
    },
    {
      "cell_type": "code",
      "metadata": {
        "id": "KBjbOQcBk8ga",
        "outputId": "4cf5f44d-bb18-43bf-913e-3ad611d01019"
      },
      "source": [
        "s1.fname"
      ],
      "execution_count": null,
      "outputs": [
        {
          "output_type": "execute_result",
          "data": {
            "text/plain": [
              "'Tom'"
            ]
          },
          "metadata": {
            "tags": []
          },
          "execution_count": 45
        }
      ]
    },
    {
      "cell_type": "code",
      "metadata": {
        "id": "SnOeYpGwk8gc",
        "outputId": "1946b7f5-57e7-4251-a5e1-b81ef21a7ccf"
      },
      "source": [
        "s1.age"
      ],
      "execution_count": null,
      "outputs": [
        {
          "output_type": "execute_result",
          "data": {
            "text/plain": [
              "'60'"
            ]
          },
          "metadata": {
            "tags": []
          },
          "execution_count": 46
        }
      ]
    },
    {
      "cell_type": "code",
      "metadata": {
        "id": "Es7iGBK-k8ge"
      },
      "source": [
        "l = ['John', 'Wick', '50']\n",
        "s2 = Student._make(l)"
      ],
      "execution_count": null,
      "outputs": []
    },
    {
      "cell_type": "code",
      "metadata": {
        "id": "WOTHAhiyk8gh",
        "outputId": "76d1d33c-1533-488d-b826-819b5ef841bc"
      },
      "source": [
        "s2"
      ],
      "execution_count": null,
      "outputs": [
        {
          "output_type": "execute_result",
          "data": {
            "text/plain": [
              "Student(fname='John', lname='Wick', age='50')"
            ]
          },
          "metadata": {
            "tags": []
          },
          "execution_count": 47
        }
      ]
    },
    {
      "cell_type": "code",
      "metadata": {
        "id": "W_2YTWMok8gj"
      },
      "source": [
        ""
      ],
      "execution_count": null,
      "outputs": []
    }
  ]
}