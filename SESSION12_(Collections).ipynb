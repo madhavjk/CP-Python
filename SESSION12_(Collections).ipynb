{
  "nbformat": 4,
  "nbformat_minor": 0,
  "metadata": {
    "kernelspec": {
      "display_name": "Python 3",
      "language": "python",
      "name": "python3"
    },
    "language_info": {
      "codemirror_mode": {
        "name": "ipython",
        "version": 3
      },
      "file_extension": ".py",
      "mimetype": "text/x-python",
      "name": "python",
      "nbconvert_exporter": "python",
      "pygments_lexer": "ipython3",
      "version": "3.8.5"
    },
    "colab": {
      "name": "SESSION12 (Collections).ipynb",
      "provenance": [],
      "include_colab_link": true
    }
  },
  "cells": [
    {
      "cell_type": "markdown",
      "metadata": {
        "id": "view-in-github",
        "colab_type": "text"
      },
      "source": [
        "<a href=\"https://colab.research.google.com/github/madhavjk/CP-Python/blob/main/SESSION12_(Collections).ipynb\" target=\"_parent\"><img src=\"https://colab.research.google.com/assets/colab-badge.svg\" alt=\"Open In Colab\"/></a>"
      ]
    },
    {
      "cell_type": "code",
      "metadata": {
        "id": "AhEMAoWTnGGW"
      },
      "source": [
        "from collections import Counter"
      ],
      "execution_count": null,
      "outputs": []
    },
    {
      "cell_type": "code",
      "metadata": {
        "id": "CO1YDxjNnGGY",
        "outputId": "22911db9-d73d-45a8-aedd-922f742d6eb3"
      },
      "source": [
        "lst = [1,2,2,2,2,3,3,3,1,2,1,12,3,2,32,1,21,1,223,1]\n",
        "\n",
        "Counter(lst)"
      ],
      "execution_count": null,
      "outputs": [
        {
          "output_type": "execute_result",
          "data": {
            "text/plain": [
              "Counter({1: 6, 2: 6, 3: 4, 12: 1, 32: 1, 21: 1, 223: 1})"
            ]
          },
          "metadata": {
            "tags": []
          },
          "execution_count": 2
        }
      ]
    },
    {
      "cell_type": "code",
      "metadata": {
        "id": "wIsVb2OdnGGa",
        "outputId": "16bb1c82-5ba3-4d2c-9df8-75e441f0d096"
      },
      "source": [
        "Counter('aabsbsbsbhshhbbsbs')"
      ],
      "execution_count": null,
      "outputs": [
        {
          "output_type": "execute_result",
          "data": {
            "text/plain": [
              "Counter({'a': 2, 'b': 7, 's': 6, 'h': 3})"
            ]
          },
          "metadata": {
            "tags": []
          },
          "execution_count": 3
        }
      ]
    },
    {
      "cell_type": "code",
      "metadata": {
        "id": "G1vQJkBTnGGb",
        "outputId": "4d14a402-13fc-4f2d-f523-7ea687b23bb9"
      },
      "source": [
        "s = 'How many times does each word show up in this sentence word times each each word'\n",
        "\n",
        "words = s.split()\n",
        "print(words)\n",
        "Counter(words)"
      ],
      "execution_count": null,
      "outputs": [
        {
          "output_type": "stream",
          "text": [
            "['How', 'many', 'times', 'does', 'each', 'word', 'show', 'up', 'in', 'this', 'sentence', 'word', 'times', 'each', 'each', 'word']\n"
          ],
          "name": "stdout"
        },
        {
          "output_type": "execute_result",
          "data": {
            "text/plain": [
              "Counter({'How': 1,\n",
              "         'many': 1,\n",
              "         'times': 2,\n",
              "         'does': 1,\n",
              "         'each': 3,\n",
              "         'word': 3,\n",
              "         'show': 1,\n",
              "         'up': 1,\n",
              "         'in': 1,\n",
              "         'this': 1,\n",
              "         'sentence': 1})"
            ]
          },
          "metadata": {
            "tags": []
          },
          "execution_count": 4
        }
      ]
    },
    {
      "cell_type": "code",
      "metadata": {
        "id": "tdC3uugTnGGc",
        "outputId": "7f6ee658-cfe3-44e0-98b0-62a36d004deb"
      },
      "source": [
        "c = Counter(words)\n",
        "\n",
        "c.most_common(2)"
      ],
      "execution_count": null,
      "outputs": [
        {
          "output_type": "execute_result",
          "data": {
            "text/plain": [
              "[('each', 3), ('word', 3)]"
            ]
          },
          "metadata": {
            "tags": []
          },
          "execution_count": 5
        }
      ]
    },
    {
      "cell_type": "markdown",
      "metadata": {
        "id": "wUh5F5EwnGGc"
      },
      "source": [
        ""
      ]
    },
    {
      "cell_type": "markdown",
      "metadata": {
        "id": "6zytWjb9nGGd"
      },
      "source": [
        "# defaultdict"
      ]
    },
    {
      "cell_type": "code",
      "metadata": {
        "id": "h9WCdmMKnGGd"
      },
      "source": [
        "from collections import defaultdict"
      ],
      "execution_count": null,
      "outputs": []
    },
    {
      "cell_type": "code",
      "metadata": {
        "id": "4nN1N6bCnGGe"
      },
      "source": [
        "d = {1: \"ABC\",2: \"XYZ\"}"
      ],
      "execution_count": null,
      "outputs": []
    },
    {
      "cell_type": "code",
      "metadata": {
        "id": "QT3ez1MxnGGf",
        "outputId": "e09e206a-8aaf-4c4e-fdf9-bcf831a5333b"
      },
      "source": [
        "d[1]"
      ],
      "execution_count": null,
      "outputs": [
        {
          "output_type": "execute_result",
          "data": {
            "text/plain": [
              "'ABC'"
            ]
          },
          "metadata": {
            "tags": []
          },
          "execution_count": 8
        }
      ]
    },
    {
      "cell_type": "code",
      "metadata": {
        "id": "oq_Ii28inGGf",
        "outputId": "aff40ecd-7698-48e1-cf21-4ea7037d8c9c"
      },
      "source": [
        "d[2]"
      ],
      "execution_count": null,
      "outputs": [
        {
          "output_type": "execute_result",
          "data": {
            "text/plain": [
              "'XYZ'"
            ]
          },
          "metadata": {
            "tags": []
          },
          "execution_count": 9
        }
      ]
    },
    {
      "cell_type": "code",
      "metadata": {
        "id": "l-8h3z2knGGg",
        "outputId": "03a1ca1f-5141-446a-d2a8-1aa1fe5fff6b"
      },
      "source": [
        "d[3]"
      ],
      "execution_count": null,
      "outputs": [
        {
          "output_type": "error",
          "ename": "KeyError",
          "evalue": "3",
          "traceback": [
            "\u001b[1;31m---------------------------------------------------------------------------\u001b[0m",
            "\u001b[1;31mKeyError\u001b[0m                                  Traceback (most recent call last)",
            "\u001b[1;32m<ipython-input-10-0acadf17a380>\u001b[0m in \u001b[0;36m<module>\u001b[1;34m\u001b[0m\n\u001b[1;32m----> 1\u001b[1;33m \u001b[0md\u001b[0m\u001b[1;33m[\u001b[0m\u001b[1;36m3\u001b[0m\u001b[1;33m]\u001b[0m\u001b[1;33m\u001b[0m\u001b[1;33m\u001b[0m\u001b[0m\n\u001b[0m",
            "\u001b[1;31mKeyError\u001b[0m: 3"
          ]
        }
      ]
    },
    {
      "cell_type": "code",
      "metadata": {
        "id": "inyzVpwsnGGg"
      },
      "source": [
        "d1 = defaultdict(int)"
      ],
      "execution_count": null,
      "outputs": []
    },
    {
      "cell_type": "code",
      "metadata": {
        "id": "qNnnGSDNnGGh"
      },
      "source": [
        "d1['one'] = 1\n",
        "d1['two'] = 2"
      ],
      "execution_count": null,
      "outputs": []
    },
    {
      "cell_type": "code",
      "metadata": {
        "id": "jUKUaIWenGGh",
        "outputId": "e9d4cff9-ac1f-41de-e875-15bac2a50589"
      },
      "source": [
        "d1['three']"
      ],
      "execution_count": null,
      "outputs": [
        {
          "output_type": "execute_result",
          "data": {
            "text/plain": [
              "0"
            ]
          },
          "metadata": {
            "tags": []
          },
          "execution_count": 9
        }
      ]
    },
    {
      "cell_type": "code",
      "metadata": {
        "id": "zmGYiHcmnGGh"
      },
      "source": [
        "d1 = defaultdict(str)"
      ],
      "execution_count": null,
      "outputs": []
    },
    {
      "cell_type": "code",
      "metadata": {
        "id": "kJGjRiexnGGh",
        "outputId": "c4a83031-dfdc-4fd0-f9e4-75c366f4dbcc"
      },
      "source": [
        "d1[1] = 'One'\n",
        "d1[2] = 'Two'\n",
        "d1[3]"
      ],
      "execution_count": null,
      "outputs": [
        {
          "output_type": "execute_result",
          "data": {
            "text/plain": [
              "''"
            ]
          },
          "metadata": {
            "tags": []
          },
          "execution_count": 16
        }
      ]
    },
    {
      "cell_type": "markdown",
      "metadata": {
        "id": "l41ZW7rdnGGi"
      },
      "source": [
        "# ordereddict"
      ]
    },
    {
      "cell_type": "code",
      "metadata": {
        "id": "jQ3DxkQvnGGi"
      },
      "source": [
        "from collections import OrderedDict"
      ],
      "execution_count": null,
      "outputs": []
    },
    {
      "cell_type": "code",
      "metadata": {
        "id": "5q_ybz4WnGGi"
      },
      "source": [
        "od = OrderedDict()"
      ],
      "execution_count": null,
      "outputs": []
    },
    {
      "cell_type": "code",
      "metadata": {
        "id": "XDoe5wSXnGGi"
      },
      "source": [
        "od['a'] = 1\n",
        "od['b'] = 2\n",
        "od['c'] = 3"
      ],
      "execution_count": null,
      "outputs": []
    },
    {
      "cell_type": "code",
      "metadata": {
        "id": "gAfiC3wInGGj",
        "outputId": "a4691490-8800-4dea-f4da-45683a5d8658"
      },
      "source": [
        "od"
      ],
      "execution_count": null,
      "outputs": [
        {
          "output_type": "execute_result",
          "data": {
            "text/plain": [
              "OrderedDict([('a', 1), ('b', 2), ('c', 3)])"
            ]
          },
          "metadata": {
            "tags": []
          },
          "execution_count": 20
        }
      ]
    },
    {
      "cell_type": "code",
      "metadata": {
        "id": "jQZ8LM3OnGGj",
        "outputId": "fba8f27f-b1bd-4712-b654-2a769e388bce"
      },
      "source": [
        "od['a'] = 4\n",
        "od"
      ],
      "execution_count": null,
      "outputs": [
        {
          "output_type": "execute_result",
          "data": {
            "text/plain": [
              "OrderedDict([('a', 4), ('b', 2), ('c', 3)])"
            ]
          },
          "metadata": {
            "tags": []
          },
          "execution_count": 21
        }
      ]
    },
    {
      "cell_type": "markdown",
      "metadata": {
        "id": "ezNg2b6CnGGk"
      },
      "source": [
        "# deque"
      ]
    },
    {
      "cell_type": "code",
      "metadata": {
        "id": "yIm-YRMvnGGk"
      },
      "source": [
        "from collections import deque"
      ],
      "execution_count": null,
      "outputs": []
    },
    {
      "cell_type": "code",
      "metadata": {
        "id": "MUVGrBYXnGGk"
      },
      "source": [
        "l = [\"a\",\"b\",\"c\"]"
      ],
      "execution_count": null,
      "outputs": []
    },
    {
      "cell_type": "code",
      "metadata": {
        "id": "00utH314nGGk"
      },
      "source": [
        "deq = deque(l)"
      ],
      "execution_count": null,
      "outputs": []
    },
    {
      "cell_type": "code",
      "metadata": {
        "id": "T5ITjvrGnGGl",
        "outputId": "223a7893-07ed-49f8-96c2-7112e8bf685b"
      },
      "source": [
        "deq"
      ],
      "execution_count": null,
      "outputs": [
        {
          "output_type": "execute_result",
          "data": {
            "text/plain": [
              "deque(['a', 'b', 'c'])"
            ]
          },
          "metadata": {
            "tags": []
          },
          "execution_count": 25
        }
      ]
    },
    {
      "cell_type": "code",
      "metadata": {
        "id": "U7jz_WIGnGGl",
        "outputId": "8d0eaa9d-35bb-42ad-ebde-41114c3497e0"
      },
      "source": [
        "deq.append(\"d\")\n",
        "deq"
      ],
      "execution_count": null,
      "outputs": [
        {
          "output_type": "execute_result",
          "data": {
            "text/plain": [
              "deque(['a', 'b', 'c', 'd'])"
            ]
          },
          "metadata": {
            "tags": []
          },
          "execution_count": 26
        }
      ]
    },
    {
      "cell_type": "code",
      "metadata": {
        "id": "rtpVl8wCnGGm",
        "outputId": "ca311880-1a2b-4c85-abef-3fc857c40b41"
      },
      "source": [
        "deq.appendleft(\"x\")\n",
        "deq"
      ],
      "execution_count": null,
      "outputs": [
        {
          "output_type": "execute_result",
          "data": {
            "text/plain": [
              "deque(['x', 'a', 'b', 'c', 'd'])"
            ]
          },
          "metadata": {
            "tags": []
          },
          "execution_count": 27
        }
      ]
    },
    {
      "cell_type": "code",
      "metadata": {
        "id": "tZujvh3QnGGm",
        "outputId": "b15b2947-35f1-4a38-f496-8698a238f4e6"
      },
      "source": [
        "deq.pop()"
      ],
      "execution_count": null,
      "outputs": [
        {
          "output_type": "execute_result",
          "data": {
            "text/plain": [
              "'d'"
            ]
          },
          "metadata": {
            "tags": []
          },
          "execution_count": 28
        }
      ]
    },
    {
      "cell_type": "code",
      "metadata": {
        "id": "X5m8Pfg5nGGn",
        "outputId": "b6eb1a0c-7c3c-4cbb-e711-bc9bce9d086f"
      },
      "source": [
        "deq"
      ],
      "execution_count": null,
      "outputs": [
        {
          "output_type": "execute_result",
          "data": {
            "text/plain": [
              "deque(['x', 'a', 'b', 'c'])"
            ]
          },
          "metadata": {
            "tags": []
          },
          "execution_count": 29
        }
      ]
    },
    {
      "cell_type": "code",
      "metadata": {
        "id": "voRqngRynGGn",
        "outputId": "b612c485-1e59-4fe7-fef7-d642bed10c86"
      },
      "source": [
        "deq.popleft()"
      ],
      "execution_count": null,
      "outputs": [
        {
          "output_type": "execute_result",
          "data": {
            "text/plain": [
              "'x'"
            ]
          },
          "metadata": {
            "tags": []
          },
          "execution_count": 30
        }
      ]
    },
    {
      "cell_type": "code",
      "metadata": {
        "id": "_4Ix6FQAnGGn",
        "outputId": "e729f7d8-a142-43d6-a135-eb474acd0b8b"
      },
      "source": [
        "deq"
      ],
      "execution_count": null,
      "outputs": [
        {
          "output_type": "execute_result",
          "data": {
            "text/plain": [
              "deque(['a', 'b', 'c'])"
            ]
          },
          "metadata": {
            "tags": []
          },
          "execution_count": 31
        }
      ]
    },
    {
      "cell_type": "code",
      "metadata": {
        "id": "rez1D4mvnGGo",
        "outputId": "daa1ad51-338d-4d26-c5ec-679edf5ab7eb"
      },
      "source": [
        "deq.count(\"c\")"
      ],
      "execution_count": null,
      "outputs": [
        {
          "output_type": "execute_result",
          "data": {
            "text/plain": [
              "1"
            ]
          },
          "metadata": {
            "tags": []
          },
          "execution_count": 32
        }
      ]
    },
    {
      "cell_type": "code",
      "metadata": {
        "id": "jTKJlGp7nGGo"
      },
      "source": [
        "deq.append(\"a\")"
      ],
      "execution_count": null,
      "outputs": []
    },
    {
      "cell_type": "code",
      "metadata": {
        "id": "qUNqCMvrnGGo",
        "outputId": "62de56ba-e9b2-4a41-be74-08c415cb48e0"
      },
      "source": [
        "deq.count(\"a\")"
      ],
      "execution_count": null,
      "outputs": [
        {
          "output_type": "execute_result",
          "data": {
            "text/plain": [
              "2"
            ]
          },
          "metadata": {
            "tags": []
          },
          "execution_count": 27
        }
      ]
    },
    {
      "cell_type": "markdown",
      "metadata": {
        "id": "1i9KYn8unGGp"
      },
      "source": [
        "# ChainMap"
      ]
    },
    {
      "cell_type": "code",
      "metadata": {
        "id": "8eJ9zh5tnGGp"
      },
      "source": [
        "d1 = {'a':1, 'b' : 2}\n",
        "d2 = {'c': 3, 'd': 4}"
      ],
      "execution_count": null,
      "outputs": []
    },
    {
      "cell_type": "code",
      "metadata": {
        "id": "Uh5aTyBZnGGp"
      },
      "source": [
        "from collections import ChainMap\n",
        "c_map = ChainMap(d1,d2)"
      ],
      "execution_count": null,
      "outputs": []
    },
    {
      "cell_type": "code",
      "metadata": {
        "id": "P1rUMk-bnGGq",
        "outputId": "ada9cfb8-57c9-4e2d-849b-ed34c800b33f"
      },
      "source": [
        "c_map.maps"
      ],
      "execution_count": null,
      "outputs": [
        {
          "output_type": "execute_result",
          "data": {
            "text/plain": [
              "[{'a': 1, 'b': 2}, {'c': 3, 'd': 4}]"
            ]
          },
          "metadata": {
            "tags": []
          },
          "execution_count": 35
        }
      ]
    },
    {
      "cell_type": "code",
      "metadata": {
        "id": "xMf7E6cCnGGq",
        "outputId": "793f3c40-c475-4943-a539-f7e372b7586d"
      },
      "source": [
        "c_map['a']"
      ],
      "execution_count": null,
      "outputs": [
        {
          "output_type": "execute_result",
          "data": {
            "text/plain": [
              "1"
            ]
          },
          "metadata": {
            "tags": []
          },
          "execution_count": 36
        }
      ]
    },
    {
      "cell_type": "code",
      "metadata": {
        "id": "Cd-Dnuj1nGGr",
        "outputId": "9ebbc04f-7b32-49b3-c6ec-601dbf86ff66"
      },
      "source": [
        "c_map['c']"
      ],
      "execution_count": null,
      "outputs": [
        {
          "output_type": "execute_result",
          "data": {
            "text/plain": [
              "3"
            ]
          },
          "metadata": {
            "tags": []
          },
          "execution_count": 37
        }
      ]
    },
    {
      "cell_type": "code",
      "metadata": {
        "id": "81mUsDIanGGr",
        "outputId": "b4148287-0408-4383-d069-55e602c6f279"
      },
      "source": [
        "list(c_map.keys())"
      ],
      "execution_count": null,
      "outputs": [
        {
          "output_type": "execute_result",
          "data": {
            "text/plain": [
              "['c', 'd', 'a', 'b']"
            ]
          },
          "metadata": {
            "tags": []
          },
          "execution_count": 38
        }
      ]
    },
    {
      "cell_type": "code",
      "metadata": {
        "id": "zfpoW2cLnGGr",
        "outputId": "bb8ed6ff-ae36-4d7a-d8b1-97bc6655351a"
      },
      "source": [
        "list(c_map.values())"
      ],
      "execution_count": null,
      "outputs": [
        {
          "output_type": "execute_result",
          "data": {
            "text/plain": [
              "[3, 4, 1, 2]"
            ]
          },
          "metadata": {
            "tags": []
          },
          "execution_count": 36
        }
      ]
    },
    {
      "cell_type": "code",
      "metadata": {
        "id": "wOQiu8I3nGGs"
      },
      "source": [
        "d3 = {'e' : 5, 'f': 6}\n",
        "c_map = c_map.new_child(d3)"
      ],
      "execution_count": null,
      "outputs": []
    },
    {
      "cell_type": "code",
      "metadata": {
        "id": "SczJ3j87nGGs",
        "outputId": "571ab0b2-4f9c-4e1d-ca78-675e93bd561f"
      },
      "source": [
        "c_map"
      ],
      "execution_count": null,
      "outputs": [
        {
          "output_type": "execute_result",
          "data": {
            "text/plain": [
              "ChainMap({'e': 5, 'f': 6}, {'a': 1, 'b': 2}, {'c': 3, 'd': 4})"
            ]
          },
          "metadata": {
            "tags": []
          },
          "execution_count": 40
        }
      ]
    },
    {
      "cell_type": "code",
      "metadata": {
        "id": "D0JBipronGGs",
        "outputId": "801c1f4a-a13a-4d90-ea6c-57ca76cf6f14"
      },
      "source": [
        "c_map['a']"
      ],
      "execution_count": null,
      "outputs": [
        {
          "output_type": "execute_result",
          "data": {
            "text/plain": [
              "1"
            ]
          },
          "metadata": {
            "tags": []
          },
          "execution_count": 41
        }
      ]
    },
    {
      "cell_type": "code",
      "metadata": {
        "id": "jXwrvQRPnGGt",
        "outputId": "a766951b-3f8c-4957-de89-da4e0c1e5fe7"
      },
      "source": [
        "c_map['e']"
      ],
      "execution_count": null,
      "outputs": [
        {
          "output_type": "execute_result",
          "data": {
            "text/plain": [
              "5"
            ]
          },
          "metadata": {
            "tags": []
          },
          "execution_count": 42
        }
      ]
    },
    {
      "cell_type": "markdown",
      "metadata": {
        "id": "NzMQEwZinGGt"
      },
      "source": [
        "# namedtuple"
      ]
    },
    {
      "cell_type": "code",
      "metadata": {
        "id": "ts2gRj8CnGGu"
      },
      "source": [
        "from collections import namedtuple"
      ],
      "execution_count": null,
      "outputs": []
    },
    {
      "cell_type": "code",
      "metadata": {
        "id": "hU1EPsq_nGGu"
      },
      "source": [
        "Student = namedtuple('Student', 'fname, lname, age')"
      ],
      "execution_count": null,
      "outputs": []
    },
    {
      "cell_type": "code",
      "metadata": {
        "id": "e0ZgYnx9nGGu"
      },
      "source": [
        "s1 = Student('Tom', 'Hanks', '60')"
      ],
      "execution_count": null,
      "outputs": []
    },
    {
      "cell_type": "code",
      "metadata": {
        "id": "NlPg9AZwnGGu",
        "outputId": "f71ba24d-d9b0-4f84-8983-501179975ec0"
      },
      "source": [
        "s1"
      ],
      "execution_count": null,
      "outputs": [
        {
          "output_type": "execute_result",
          "data": {
            "text/plain": [
              "Student(fname='Tom', lname='Hanks', age='60')"
            ]
          },
          "metadata": {
            "tags": []
          },
          "execution_count": 44
        }
      ]
    },
    {
      "cell_type": "code",
      "metadata": {
        "id": "rBgpVV66nGGv",
        "outputId": "806edd93-8de4-4091-c79b-ca8a9d3774db"
      },
      "source": [
        "s1.fname"
      ],
      "execution_count": null,
      "outputs": [
        {
          "output_type": "execute_result",
          "data": {
            "text/plain": [
              "'Tom'"
            ]
          },
          "metadata": {
            "tags": []
          },
          "execution_count": 45
        }
      ]
    },
    {
      "cell_type": "code",
      "metadata": {
        "id": "SqjIt3v3nGGv",
        "outputId": "85db35ec-91f7-4e07-9ff5-7d40a2ba41b9"
      },
      "source": [
        "s1.age"
      ],
      "execution_count": null,
      "outputs": [
        {
          "output_type": "execute_result",
          "data": {
            "text/plain": [
              "'60'"
            ]
          },
          "metadata": {
            "tags": []
          },
          "execution_count": 46
        }
      ]
    },
    {
      "cell_type": "code",
      "metadata": {
        "id": "s8I2mrjKnGGw"
      },
      "source": [
        "l = ['John', 'Wick', '50']\n",
        "s2 = Student._make(l)"
      ],
      "execution_count": null,
      "outputs": []
    },
    {
      "cell_type": "code",
      "metadata": {
        "id": "rn9hiEpxnGGx",
        "outputId": "8ace2d30-7319-47a7-9ca6-ca429292aaa6"
      },
      "source": [
        "s2"
      ],
      "execution_count": null,
      "outputs": [
        {
          "output_type": "execute_result",
          "data": {
            "text/plain": [
              "Student(fname='John', lname='Wick', age='50')"
            ]
          },
          "metadata": {
            "tags": []
          },
          "execution_count": 47
        }
      ]
    },
    {
      "cell_type": "code",
      "metadata": {
        "id": "lOhHCvnDnGGx"
      },
      "source": [
        ""
      ],
      "execution_count": null,
      "outputs": []
    }
  ]
}