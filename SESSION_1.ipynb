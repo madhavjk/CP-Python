{
  "nbformat": 4,
  "nbformat_minor": 0,
  "metadata": {
    "kernelspec": {
      "display_name": "Python 3",
      "language": "python",
      "name": "python3"
    },
    "language_info": {
      "codemirror_mode": {
        "name": "ipython",
        "version": 3
      },
      "file_extension": ".py",
      "mimetype": "text/x-python",
      "name": "python",
      "nbconvert_exporter": "python",
      "pygments_lexer": "ipython3",
      "version": "3.8.5"
    },
    "colab": {
      "name": "SESSION 1.ipynb",
      "provenance": [],
      "include_colab_link": true
    }
  },
  "cells": [
    {
      "cell_type": "markdown",
      "metadata": {
        "id": "view-in-github",
        "colab_type": "text"
      },
      "source": [
        "<a href=\"https://colab.research.google.com/github/madhavjk/CP-Python/blob/main/SESSION_1.ipynb\" target=\"_parent\"><img src=\"https://colab.research.google.com/assets/colab-badge.svg\" alt=\"Open In Colab\"/></a>"
      ]
    },
    {
      "cell_type": "markdown",
      "metadata": {
        "id": "ucOA6Tzqjzor"
      },
      "source": [
        "# Python\n",
        "\n",
        "### >Interpreted\n",
        "### >Easy to use\n",
        "### >Readable\n",
        "### >Dynamically Typed\n",
        "### >Object Oriented\n",
        "\n",
        "# Competitive Programming\n",
        "\n",
        "### >Brain Sport\n",
        "### >Enhances Logical Thinking\n",
        "### >Optimization\n",
        "### >Working under constraints\n",
        "### >A good Career Option"
      ]
    },
    {
      "cell_type": "markdown",
      "metadata": {
        "id": "ZOTpciagjzos"
      },
      "source": [
        "# How to get Noticed?\n",
        "\n",
        "###   1. Competitive Programming\n",
        "###   2. Solid Open Source Contribution"
      ]
    },
    {
      "cell_type": "markdown",
      "metadata": {
        "id": "3ZabeW_Tjzos"
      },
      "source": [
        "# Problem Solving\n",
        "### 1.Understanding The problem\n",
        "### 2.Understanding The Constraints\n",
        "### 3.Coming Up With a Simple Approach\n",
        "### 4.Can We optimize further?\n",
        "### 5.Thinking of ways to optimize your existing solution\n",
        "### 6.Final Solution"
      ]
    },
    {
      "cell_type": "markdown",
      "metadata": {
        "id": "5IA2jTojjzot"
      },
      "source": [
        "## Brute force approach"
      ]
    },
    {
      "cell_type": "code",
      "metadata": {
        "id": "67Dp9ZF_jzou"
      },
      "source": [
        "def minion_game(string):\n",
        "    vowels = 'AEIOU'\n",
        "    kevin = 0\n",
        "    stuart = 0\n",
        "    \n",
        "    for i in range(0,len(string)):\n",
        "        for j in range(i+1, len(string)+1):  # i+1 because string slicing picks up characters one less than the specified upper limit\n",
        "            sub = string[i:j]                # length+1 because the range function will return one less than upper limit so we will have\n",
        "            if sub[0] in vowels:             # n( let us assume 6). Now slicing will pick upto 5 when n (=6) is specified \n",
        "                kevin +=1                    # 5 is the index of of last character in 'BANANA' \n",
        "            else: stuart +=1\n",
        "        \n",
        "    if stuart > kevin:\n",
        "        print(\"Stuart\",stuart)\n",
        "    elif kevin > stuart:\n",
        "        print(\"Kevin\",kevin)\n",
        "    else:\n",
        "        print('Draw')"
      ],
      "execution_count": null,
      "outputs": []
    },
    {
      "cell_type": "code",
      "metadata": {
        "id": "3vPpdhNDjzow",
        "outputId": "46a970bd-ef19-47e8-8e90-601432de9894"
      },
      "source": [
        "minion_game('BANANA')"
      ],
      "execution_count": null,
      "outputs": [
        {
          "output_type": "stream",
          "text": [
            "Stuart 12\n"
          ],
          "name": "stdout"
        }
      ]
    },
    {
      "cell_type": "markdown",
      "metadata": {
        "id": "jGHbiJGdjzox"
      },
      "source": [
        "## Optimized Approach"
      ]
    },
    {
      "cell_type": "code",
      "metadata": {
        "id": "TKAS-j4Sjzox"
      },
      "source": [
        "def minion_game(string):\n",
        "    vowels = 'AEIOU'\n",
        "    n = len(string)\n",
        "    total_sub_strings = n*(n+1)//2           #Sum of first n natural numbers (Total Points)\n",
        "    kevin = 0\n",
        "\n",
        "    for i in string:\n",
        "        if i in vowels:\n",
        "            kevin += n                       #We can form n substrings starting with a character at position n(from end)\n",
        "        n-=1\n",
        "\n",
        "    stuart = total_sub_strings - kevin       #Stuart's Points = Total points - Kevin's Points\n",
        "    if stuart > kevin:\n",
        "        print(\"Stuart\",stuart)\n",
        "    elif kevin > stuart:\n",
        "        print(\"Kevin\",kevin)\n",
        "    else:\n",
        "        print('Draw')"
      ],
      "execution_count": null,
      "outputs": []
    },
    {
      "cell_type": "code",
      "metadata": {
        "id": "ZHvWT9xJjzoy",
        "outputId": "69a651b4-f1ad-4987-fde0-647f94062f24"
      },
      "source": [
        "minion_game('BANANA')"
      ],
      "execution_count": null,
      "outputs": [
        {
          "output_type": "stream",
          "text": [
            "Stuart 12\n"
          ],
          "name": "stdout"
        }
      ]
    },
    {
      "cell_type": "code",
      "metadata": {
        "id": "uFMhJqsUjzoz",
        "outputId": "acfe96dc-7e1a-4878-ae03-16a4a7f337b7"
      },
      "source": [
        "minion_game('ADBAFAGABAFDASAE')"
      ],
      "execution_count": null,
      "outputs": [
        {
          "output_type": "stream",
          "text": [
            "Stuart 73\n"
          ],
          "name": "stdout"
        }
      ]
    },
    {
      "cell_type": "code",
      "metadata": {
        "id": "ASwu7x2Ojzoz",
        "outputId": "9f60f0de-156c-47d0-940f-143dacca9de1"
      },
      "source": [
        "minion_game('AAAAAAAAFFFFFGGGGGTTTTTUUUUUUUUIIIIIIIIOOOOOOOFFFFFFBBBB')"
      ],
      "execution_count": null,
      "outputs": [
        {
          "output_type": "stream",
          "text": [
            "Kevin 926\n"
          ],
          "name": "stdout"
        }
      ]
    },
    {
      "cell_type": "code",
      "metadata": {
        "id": "XnhejE99jzo0"
      },
      "source": [
        ""
      ],
      "execution_count": null,
      "outputs": []
    }
  ]
}