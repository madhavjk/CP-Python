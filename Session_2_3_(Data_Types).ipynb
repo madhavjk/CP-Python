{
  "nbformat": 4,
  "nbformat_minor": 5,
  "metadata": {
    "kernelspec": {
      "display_name": "Python 3",
      "language": "python",
      "name": "python3"
    },
    "language_info": {
      "codemirror_mode": {
        "name": "ipython",
        "version": 3
      },
      "file_extension": ".py",
      "mimetype": "text/x-python",
      "name": "python",
      "nbconvert_exporter": "python",
      "pygments_lexer": "ipython3",
      "version": "3.8.5"
    },
    "colab": {
      "name": "Session 2-3 (Data Types).ipynb",
      "provenance": [],
      "include_colab_link": true
    }
  },
  "cells": [
    {
      "cell_type": "markdown",
      "metadata": {
        "id": "view-in-github",
        "colab_type": "text"
      },
      "source": [
        "<a href=\"https://colab.research.google.com/github/madhavjk/CP-Python/blob/main/Session_2_3_(Data_Types).ipynb\" target=\"_parent\"><img src=\"https://colab.research.google.com/assets/colab-badge.svg\" alt=\"Open In Colab\"/></a>"
      ]
    },
    {
      "cell_type": "markdown",
      "metadata": {
        "id": "fd0be232"
      },
      "source": [
        "# Data Types In Python\n",
        "* **int** (for integer)\n",
        "* **float**\n",
        "* **str** (for string)\n",
        "* **list**\n",
        "* **tuple**\n",
        "* **dict** (for dictionary)\n",
        "* **set**\n",
        "* **bool** (for Boolean True/False)\n",
        "\n",
        "## Dynamic Typing\n",
        "\n",
        "Python uses *dynamic typing*, meaning you can reassign variables to different data types. This makes Python very flexible in assigning data types; it differs from other languages that are *statically typed*.\n",
        "\n",
        "### Pros and Cons of Dynamic Typing\n",
        "#### Pros of Dynamic Typing\n",
        "* very easy to work with\n",
        "* faster development time\n",
        "\n",
        "#### Cons of Dynamic Typing\n",
        "* may result in unexpected bugs!"
      ],
      "id": "fd0be232"
    },
    {
      "cell_type": "code",
      "metadata": {
        "id": "44968497",
        "outputId": "4010a508-be9f-4afc-f255-7b10af4f62f7"
      },
      "source": [
        "a = 2\n",
        "a"
      ],
      "id": "44968497",
      "execution_count": null,
      "outputs": [
        {
          "output_type": "execute_result",
          "data": {
            "text/plain": [
              "2"
            ]
          },
          "metadata": {
            "tags": []
          },
          "execution_count": 5
        }
      ]
    },
    {
      "cell_type": "code",
      "metadata": {
        "id": "767c5293",
        "outputId": "48e02cbf-458e-475b-8f61-b9de1671a847"
      },
      "source": [
        "type(a)"
      ],
      "id": "767c5293",
      "execution_count": null,
      "outputs": [
        {
          "output_type": "execute_result",
          "data": {
            "text/plain": [
              "int"
            ]
          },
          "metadata": {
            "tags": []
          },
          "execution_count": 2
        }
      ]
    },
    {
      "cell_type": "code",
      "metadata": {
        "id": "9f38ad96",
        "outputId": "9d4f89a6-9c55-4720-c48f-6ea827c8c3f2"
      },
      "source": [
        "a = 'Pawri ho rahi hai'\n",
        "a"
      ],
      "id": "9f38ad96",
      "execution_count": null,
      "outputs": [
        {
          "output_type": "execute_result",
          "data": {
            "text/plain": [
              "'Pawri ho rahi hai'"
            ]
          },
          "metadata": {
            "tags": []
          },
          "execution_count": 8
        }
      ]
    },
    {
      "cell_type": "code",
      "metadata": {
        "id": "35fb778f",
        "outputId": "34996cbf-1bc4-445f-a58a-26d2c66b5c6e"
      },
      "source": [
        "type(a)"
      ],
      "id": "35fb778f",
      "execution_count": null,
      "outputs": [
        {
          "output_type": "execute_result",
          "data": {
            "text/plain": [
              "str"
            ]
          },
          "metadata": {
            "tags": []
          },
          "execution_count": 7
        }
      ]
    },
    {
      "cell_type": "markdown",
      "metadata": {
        "id": "78170a11"
      },
      "source": [
        "## Assigning Values to variables"
      ],
      "id": "78170a11"
    },
    {
      "cell_type": "code",
      "metadata": {
        "id": "e2f2fd0e"
      },
      "source": [
        "a = 10"
      ],
      "id": "e2f2fd0e",
      "execution_count": null,
      "outputs": []
    },
    {
      "cell_type": "code",
      "metadata": {
        "id": "ecd88b3c",
        "outputId": "3aa8dd3c-93f1-401d-952e-8696a2155339"
      },
      "source": [
        "a"
      ],
      "id": "ecd88b3c",
      "execution_count": null,
      "outputs": [
        {
          "output_type": "execute_result",
          "data": {
            "text/plain": [
              "10"
            ]
          },
          "metadata": {
            "tags": []
          },
          "execution_count": 10
        }
      ]
    },
    {
      "cell_type": "code",
      "metadata": {
        "id": "a5848bbd",
        "outputId": "276ce18d-ef6e-4d3c-f273-a2ea6e5c807c"
      },
      "source": [
        "b = a + 10\n",
        "b"
      ],
      "id": "a5848bbd",
      "execution_count": null,
      "outputs": [
        {
          "output_type": "execute_result",
          "data": {
            "text/plain": [
              "20"
            ]
          },
          "metadata": {
            "tags": []
          },
          "execution_count": 11
        }
      ]
    },
    {
      "cell_type": "code",
      "metadata": {
        "id": "8f1d9cc2",
        "outputId": "179a353e-a9f2-4f13-b83a-a3e9bb8191c0"
      },
      "source": [
        "# Shorthand Notation\n",
        "b += 10  # b= b+10\n",
        "b"
      ],
      "id": "8f1d9cc2",
      "execution_count": null,
      "outputs": [
        {
          "output_type": "execute_result",
          "data": {
            "text/plain": [
              "30"
            ]
          },
          "metadata": {
            "tags": []
          },
          "execution_count": 12
        }
      ]
    },
    {
      "cell_type": "markdown",
      "metadata": {
        "id": "dc5984d0"
      },
      "source": [
        "## Numbers in Python"
      ],
      "id": "dc5984d0"
    },
    {
      "cell_type": "code",
      "metadata": {
        "id": "1a3230d9",
        "outputId": "d80a8de6-7b6a-4861-afcf-b3e898c5c898"
      },
      "source": [
        "a = 5\n",
        "a"
      ],
      "id": "1a3230d9",
      "execution_count": null,
      "outputs": [
        {
          "output_type": "execute_result",
          "data": {
            "text/plain": [
              "5"
            ]
          },
          "metadata": {
            "tags": []
          },
          "execution_count": 13
        }
      ]
    },
    {
      "cell_type": "code",
      "metadata": {
        "id": "8856154b",
        "outputId": "9d600458-89d0-4453-a294-6551854645c7"
      },
      "source": [
        "type(a)"
      ],
      "id": "8856154b",
      "execution_count": null,
      "outputs": [
        {
          "output_type": "execute_result",
          "data": {
            "text/plain": [
              "int"
            ]
          },
          "metadata": {
            "tags": []
          },
          "execution_count": 14
        }
      ]
    },
    {
      "cell_type": "code",
      "metadata": {
        "id": "81b8c543",
        "outputId": "5638651e-a2a6-40d8-ef9c-b313dbf97db5"
      },
      "source": [
        "b = 5.5\n",
        "b"
      ],
      "id": "81b8c543",
      "execution_count": null,
      "outputs": [
        {
          "output_type": "execute_result",
          "data": {
            "text/plain": [
              "5.5"
            ]
          },
          "metadata": {
            "tags": []
          },
          "execution_count": 15
        }
      ]
    },
    {
      "cell_type": "code",
      "metadata": {
        "id": "a2eb7166",
        "outputId": "1fd3bf33-2023-4b8e-a42c-0b23a438f9af"
      },
      "source": [
        "type(b)"
      ],
      "id": "a2eb7166",
      "execution_count": null,
      "outputs": [
        {
          "output_type": "execute_result",
          "data": {
            "text/plain": [
              "float"
            ]
          },
          "metadata": {
            "tags": []
          },
          "execution_count": 16
        }
      ]
    },
    {
      "cell_type": "code",
      "metadata": {
        "id": "7ae3a7b2",
        "outputId": "47a269e3-ba51-4d0a-8c54-5b1e4b5d84b4"
      },
      "source": [
        "# Arithmatic operations\n",
        "a = 20\n",
        "b = 10\n",
        "x = a + b\n",
        "y = a - b\n",
        "z = a * b\n",
        "print(x,y,z)"
      ],
      "id": "7ae3a7b2",
      "execution_count": null,
      "outputs": [
        {
          "output_type": "stream",
          "text": [
            "30 10 200\n"
          ],
          "name": "stdout"
        }
      ]
    },
    {
      "cell_type": "code",
      "metadata": {
        "id": "147b2e36",
        "outputId": "11e5a7ca-298b-48f8-f11f-0e9534196a99"
      },
      "source": [
        "a = 20.0\n",
        "b = 10\n",
        "x = a + b\n",
        "y = a - b\n",
        "z = a * b\n",
        "print(x,y,z)"
      ],
      "id": "147b2e36",
      "execution_count": null,
      "outputs": [
        {
          "output_type": "stream",
          "text": [
            "30.0 10.0 200.0\n"
          ],
          "name": "stdout"
        }
      ]
    },
    {
      "cell_type": "code",
      "metadata": {
        "id": "d048eddb",
        "outputId": "6828a4a3-5699-48e2-a8ff-e025149308e8"
      },
      "source": [
        "# Typecasting\n",
        "a = int(x)\n",
        "print(a)\n",
        "type(a)"
      ],
      "id": "d048eddb",
      "execution_count": null,
      "outputs": [
        {
          "output_type": "stream",
          "text": [
            "30\n"
          ],
          "name": "stdout"
        },
        {
          "output_type": "execute_result",
          "data": {
            "text/plain": [
              "int"
            ]
          },
          "metadata": {
            "tags": []
          },
          "execution_count": 19
        }
      ]
    },
    {
      "cell_type": "code",
      "metadata": {
        "id": "af5b35e6",
        "outputId": "16c925e9-fa2c-4e96-91b9-75d5bb7b31b9"
      },
      "source": [
        "a = float(a)\n",
        "print(a)\n",
        "type(a)"
      ],
      "id": "af5b35e6",
      "execution_count": null,
      "outputs": [
        {
          "output_type": "stream",
          "text": [
            "30.0\n"
          ],
          "name": "stdout"
        },
        {
          "output_type": "execute_result",
          "data": {
            "text/plain": [
              "float"
            ]
          },
          "metadata": {
            "tags": []
          },
          "execution_count": 20
        }
      ]
    },
    {
      "cell_type": "code",
      "metadata": {
        "id": "bf56b44d",
        "outputId": "44b0de84-26e4-4670-c2b6-66bc60961cdd"
      },
      "source": [
        "# Normal division\n",
        "a = 25\n",
        "b = 4\n",
        "x = a / b\n",
        "print(x)\n",
        "type(x)"
      ],
      "id": "bf56b44d",
      "execution_count": null,
      "outputs": [
        {
          "output_type": "stream",
          "text": [
            "6.25\n"
          ],
          "name": "stdout"
        },
        {
          "output_type": "execute_result",
          "data": {
            "text/plain": [
              "float"
            ]
          },
          "metadata": {
            "tags": []
          },
          "execution_count": 22
        }
      ]
    },
    {
      "cell_type": "code",
      "metadata": {
        "id": "6181616c",
        "outputId": "85141bda-0a33-4193-f169-a49ef83c26b0"
      },
      "source": [
        "# Floor Division\n",
        "a = 25\n",
        "b = 4\n",
        "x = a // b\n",
        "print(x)\n",
        "type(x)"
      ],
      "id": "6181616c",
      "execution_count": null,
      "outputs": [
        {
          "output_type": "stream",
          "text": [
            "6\n"
          ],
          "name": "stdout"
        },
        {
          "output_type": "execute_result",
          "data": {
            "text/plain": [
              "int"
            ]
          },
          "metadata": {
            "tags": []
          },
          "execution_count": 23
        }
      ]
    },
    {
      "cell_type": "code",
      "metadata": {
        "id": "38e0a975",
        "outputId": "ad17009e-0a98-4691-b0a5-7596621aa0dd"
      },
      "source": [
        "a = 25.0\n",
        "b = 4\n",
        "x = a // b\n",
        "print(x)\n",
        "type(x)"
      ],
      "id": "38e0a975",
      "execution_count": null,
      "outputs": [
        {
          "output_type": "stream",
          "text": [
            "6.0\n"
          ],
          "name": "stdout"
        },
        {
          "output_type": "execute_result",
          "data": {
            "text/plain": [
              "float"
            ]
          },
          "metadata": {
            "tags": []
          },
          "execution_count": 24
        }
      ]
    },
    {
      "cell_type": "code",
      "metadata": {
        "id": "3b292a68",
        "outputId": "6833a139-528e-4ab3-f4cc-b38e9f1938a8"
      },
      "source": [
        "# Modulous Operator\n",
        "a = 10.0\n",
        "b = 3\n",
        "print(a % b)"
      ],
      "id": "3b292a68",
      "execution_count": null,
      "outputs": [
        {
          "output_type": "stream",
          "text": [
            "1.0\n"
          ],
          "name": "stdout"
        }
      ]
    },
    {
      "cell_type": "code",
      "metadata": {
        "id": "201d1e34",
        "outputId": "0a90d8d7-485b-41f4-f563-feb90b2afcf3"
      },
      "source": [
        "# Power operator\n",
        "a = 10\n",
        "a ** 3"
      ],
      "id": "201d1e34",
      "execution_count": null,
      "outputs": [
        {
          "output_type": "execute_result",
          "data": {
            "text/plain": [
              "1000"
            ]
          },
          "metadata": {
            "tags": []
          },
          "execution_count": 30
        }
      ]
    },
    {
      "cell_type": "code",
      "metadata": {
        "id": "01e9c583",
        "outputId": "406d200c-4cc3-4780-bd20-a62270e2bdda"
      },
      "source": [
        "a = 16\n",
        "a ** 0.5"
      ],
      "id": "01e9c583",
      "execution_count": null,
      "outputs": [
        {
          "output_type": "execute_result",
          "data": {
            "text/plain": [
              "4.0"
            ]
          },
          "metadata": {
            "tags": []
          },
          "execution_count": 32
        }
      ]
    },
    {
      "cell_type": "markdown",
      "metadata": {
        "id": "5393f4b4"
      },
      "source": [
        "## Some Concepts to Remember\n",
        "#### Mutable\n",
        "#### Immutable\n",
        "#### Sequences\n",
        "#### Iterable\n",
        "#### Non Iterable"
      ],
      "id": "5393f4b4"
    },
    {
      "cell_type": "code",
      "metadata": {
        "id": "c7453642",
        "outputId": "3f6bce62-dee0-489c-f891-254d08d3c71f"
      },
      "source": [
        "a = \"ABCD\"\n",
        "b = [1,2,3,4]\n",
        "for i in a:\n",
        "    print(i, end = \" \")\n",
        "print()\n",
        "for i in b:\n",
        "    print(i, end = \" \")"
      ],
      "id": "c7453642",
      "execution_count": null,
      "outputs": [
        {
          "output_type": "stream",
          "text": [
            "A B C D \n",
            "1 2 3 4 "
          ],
          "name": "stdout"
        }
      ]
    },
    {
      "cell_type": "code",
      "metadata": {
        "id": "283158af",
        "outputId": "cf024391-b543-491b-91a9-29cccd5b81fb"
      },
      "source": [
        "b[0] = 5\n",
        "for i in b:\n",
        "    print(i, end = \" \")"
      ],
      "id": "283158af",
      "execution_count": null,
      "outputs": [
        {
          "output_type": "stream",
          "text": [
            "5 2 3 4 "
          ],
          "name": "stdout"
        }
      ]
    },
    {
      "cell_type": "code",
      "metadata": {
        "id": "be6b547f",
        "outputId": "b009c163-a805-484c-f7b3-207918b2ea7c"
      },
      "source": [
        "a[0] = 'E'"
      ],
      "id": "be6b547f",
      "execution_count": null,
      "outputs": [
        {
          "output_type": "error",
          "ename": "TypeError",
          "evalue": "'str' object does not support item assignment",
          "traceback": [
            "\u001b[1;31m---------------------------------------------------------------------------\u001b[0m",
            "\u001b[1;31mTypeError\u001b[0m                                 Traceback (most recent call last)",
            "\u001b[1;32m<ipython-input-46-e080148844fb>\u001b[0m in \u001b[0;36m<module>\u001b[1;34m\u001b[0m\n\u001b[1;32m----> 1\u001b[1;33m \u001b[0ma\u001b[0m\u001b[1;33m[\u001b[0m\u001b[1;36m0\u001b[0m\u001b[1;33m]\u001b[0m \u001b[1;33m=\u001b[0m \u001b[1;34m'E'\u001b[0m\u001b[1;33m\u001b[0m\u001b[1;33m\u001b[0m\u001b[0m\n\u001b[0m",
            "\u001b[1;31mTypeError\u001b[0m: 'str' object does not support item assignment"
          ]
        }
      ]
    },
    {
      "cell_type": "code",
      "metadata": {
        "id": "ed35e3e6",
        "outputId": "a3788752-2ed1-48fd-e49a-8a29b701ff95"
      },
      "source": [
        "a + \"XYZ\""
      ],
      "id": "ed35e3e6",
      "execution_count": null,
      "outputs": [
        {
          "output_type": "execute_result",
          "data": {
            "text/plain": [
              "'ABCDEFGXYZ'"
            ]
          },
          "metadata": {
            "tags": []
          },
          "execution_count": 48
        }
      ]
    },
    {
      "cell_type": "markdown",
      "metadata": {
        "id": "dcb492fb"
      },
      "source": [
        "# Strings"
      ],
      "id": "dcb492fb"
    },
    {
      "cell_type": "code",
      "metadata": {
        "id": "fc8bf36c",
        "outputId": "15b8b42b-bf86-47c7-b0d3-012a234ff14f"
      },
      "source": [
        "a = 'Hello'\n",
        "b = \"Hello\"\n",
        "print(a,b)"
      ],
      "id": "fc8bf36c",
      "execution_count": null,
      "outputs": [
        {
          "output_type": "stream",
          "text": [
            "Hello Hello\n"
          ],
          "name": "stdout"
        }
      ]
    },
    {
      "cell_type": "code",
      "metadata": {
        "id": "ceda5179",
        "outputId": "2d196adc-6c71-42e8-c98c-36d38cef827a"
      },
      "source": [
        "a = 'hello i am \"Mike\"'\n",
        "print(a)"
      ],
      "id": "ceda5179",
      "execution_count": null,
      "outputs": [
        {
          "output_type": "stream",
          "text": [
            "hello i am \"Mike\"\n"
          ],
          "name": "stdout"
        }
      ]
    },
    {
      "cell_type": "code",
      "metadata": {
        "id": "648579a4",
        "outputId": "b2a3169f-300b-4bcb-8d49-0d6ddd05f1fd"
      },
      "source": [
        "a = \"Hello\"\n",
        "b = 'H'\n",
        "print(type(a), type(b))"
      ],
      "id": "648579a4",
      "execution_count": null,
      "outputs": [
        {
          "output_type": "stream",
          "text": [
            "<class 'str'> <class 'str'>\n"
          ],
          "name": "stdout"
        }
      ]
    },
    {
      "cell_type": "markdown",
      "metadata": {
        "id": "ab5ec822"
      },
      "source": [
        "### Indexing"
      ],
      "id": "ab5ec822"
    },
    {
      "cell_type": "code",
      "metadata": {
        "id": "36feb826",
        "outputId": "a6c549c6-7106-40df-990b-ab76b6c9f7f0"
      },
      "source": [
        "a = 'Hello World'\n",
        "a"
      ],
      "id": "36feb826",
      "execution_count": null,
      "outputs": [
        {
          "output_type": "execute_result",
          "data": {
            "text/plain": [
              "'Hello World'"
            ]
          },
          "metadata": {
            "tags": []
          },
          "execution_count": 56
        }
      ]
    },
    {
      "cell_type": "code",
      "metadata": {
        "id": "087d1419",
        "outputId": "da3d2d27-42f9-4d19-a003-0f2c16ab207a"
      },
      "source": [
        "a[0]"
      ],
      "id": "087d1419",
      "execution_count": null,
      "outputs": [
        {
          "output_type": "execute_result",
          "data": {
            "text/plain": [
              "'H'"
            ]
          },
          "metadata": {
            "tags": []
          },
          "execution_count": 57
        }
      ]
    },
    {
      "cell_type": "code",
      "metadata": {
        "id": "2ad38d6b",
        "outputId": "e3f639ba-63ff-4060-849a-79d9386e21a6"
      },
      "source": [
        "a[5]"
      ],
      "id": "2ad38d6b",
      "execution_count": null,
      "outputs": [
        {
          "output_type": "execute_result",
          "data": {
            "text/plain": [
              "' '"
            ]
          },
          "metadata": {
            "tags": []
          },
          "execution_count": 59
        }
      ]
    },
    {
      "cell_type": "code",
      "metadata": {
        "id": "60d0995f",
        "outputId": "7f080b13-6b76-41c5-f89e-d53591353546"
      },
      "source": [
        "len(a)"
      ],
      "id": "60d0995f",
      "execution_count": null,
      "outputs": [
        {
          "output_type": "execute_result",
          "data": {
            "text/plain": [
              "11"
            ]
          },
          "metadata": {
            "tags": []
          },
          "execution_count": 60
        }
      ]
    },
    {
      "cell_type": "code",
      "metadata": {
        "id": "e78777ff",
        "outputId": "d4dda428-4c8b-4b69-b872-fdc6bf273999"
      },
      "source": [
        "a[-3]"
      ],
      "id": "e78777ff",
      "execution_count": null,
      "outputs": [
        {
          "output_type": "execute_result",
          "data": {
            "text/plain": [
              "'r'"
            ]
          },
          "metadata": {
            "tags": []
          },
          "execution_count": 61
        }
      ]
    },
    {
      "cell_type": "code",
      "metadata": {
        "id": "679f2489",
        "outputId": "a20c3651-24db-41de-8e23-602656a0def7"
      },
      "source": [
        "a[-11]"
      ],
      "id": "679f2489",
      "execution_count": null,
      "outputs": [
        {
          "output_type": "execute_result",
          "data": {
            "text/plain": [
              "'H'"
            ]
          },
          "metadata": {
            "tags": []
          },
          "execution_count": 62
        }
      ]
    },
    {
      "cell_type": "markdown",
      "metadata": {
        "id": "7c1e7bfa"
      },
      "source": [
        "### Slicing"
      ],
      "id": "7c1e7bfa"
    },
    {
      "cell_type": "code",
      "metadata": {
        "id": "92eae6fe",
        "outputId": "ff89f231-4d7f-4956-bce0-7d8d82e436c0"
      },
      "source": [
        "a = 'Hello World'\n",
        "a"
      ],
      "id": "92eae6fe",
      "execution_count": null,
      "outputs": [
        {
          "output_type": "execute_result",
          "data": {
            "text/plain": [
              "'Hello World'"
            ]
          },
          "metadata": {
            "tags": []
          },
          "execution_count": 63
        }
      ]
    },
    {
      "cell_type": "code",
      "metadata": {
        "id": "20819441",
        "outputId": "9f37a6d5-149c-4581-c2f5-56ddf412a2a5"
      },
      "source": [
        "a[0:5]"
      ],
      "id": "20819441",
      "execution_count": null,
      "outputs": [
        {
          "output_type": "execute_result",
          "data": {
            "text/plain": [
              "'Hello'"
            ]
          },
          "metadata": {
            "tags": []
          },
          "execution_count": 65
        }
      ]
    },
    {
      "cell_type": "code",
      "metadata": {
        "id": "b2c9767d",
        "outputId": "36113c6f-1050-4d6b-a201-db1d32b70b6c"
      },
      "source": [
        "a[:5]"
      ],
      "id": "b2c9767d",
      "execution_count": null,
      "outputs": [
        {
          "output_type": "execute_result",
          "data": {
            "text/plain": [
              "'Hello'"
            ]
          },
          "metadata": {
            "tags": []
          },
          "execution_count": 66
        }
      ]
    },
    {
      "cell_type": "code",
      "metadata": {
        "id": "ee928bf3",
        "outputId": "1e334454-3157-4bd3-8de7-1decde58f2d1"
      },
      "source": [
        "a[6:]"
      ],
      "id": "ee928bf3",
      "execution_count": null,
      "outputs": [
        {
          "output_type": "execute_result",
          "data": {
            "text/plain": [
              "'World'"
            ]
          },
          "metadata": {
            "tags": []
          },
          "execution_count": 67
        }
      ]
    },
    {
      "cell_type": "code",
      "metadata": {
        "id": "442fb29c",
        "outputId": "0c852d02-502c-448f-ecc1-e1dcb040dea3"
      },
      "source": [
        "a[:]"
      ],
      "id": "442fb29c",
      "execution_count": null,
      "outputs": [
        {
          "output_type": "execute_result",
          "data": {
            "text/plain": [
              "'Hello World'"
            ]
          },
          "metadata": {
            "tags": []
          },
          "execution_count": 68
        }
      ]
    },
    {
      "cell_type": "code",
      "metadata": {
        "id": "cc589b69",
        "outputId": "bf355890-97d6-4da2-83ad-4914468390e3"
      },
      "source": [
        "# a[start : end : stepsize]\n",
        "a[0::2]"
      ],
      "id": "cc589b69",
      "execution_count": null,
      "outputs": [
        {
          "output_type": "execute_result",
          "data": {
            "text/plain": [
              "'HloWrd'"
            ]
          },
          "metadata": {
            "tags": []
          },
          "execution_count": 69
        }
      ]
    },
    {
      "cell_type": "code",
      "metadata": {
        "id": "99934e42",
        "outputId": "eaffe8f9-f66b-4925-ccd0-0ccf132061a2"
      },
      "source": [
        "a[0:-1]"
      ],
      "id": "99934e42",
      "execution_count": null,
      "outputs": [
        {
          "output_type": "execute_result",
          "data": {
            "text/plain": [
              "'Hello Worl'"
            ]
          },
          "metadata": {
            "tags": []
          },
          "execution_count": 70
        }
      ]
    },
    {
      "cell_type": "code",
      "metadata": {
        "id": "8cfba84e",
        "outputId": "6a640192-e813-4cc9-80f9-aa8fb144d4ac"
      },
      "source": [
        "a[::-1]"
      ],
      "id": "8cfba84e",
      "execution_count": null,
      "outputs": [
        {
          "output_type": "execute_result",
          "data": {
            "text/plain": [
              "'dlroW olleH'"
            ]
          },
          "metadata": {
            "tags": []
          },
          "execution_count": 71
        }
      ]
    },
    {
      "cell_type": "code",
      "metadata": {
        "id": "389e8a3f",
        "outputId": "333fce6e-7e0e-4f95-cdbe-1f704dcebb71"
      },
      "source": [
        "a[-1::-1]"
      ],
      "id": "389e8a3f",
      "execution_count": null,
      "outputs": [
        {
          "output_type": "execute_result",
          "data": {
            "text/plain": [
              "'dlroW olleH'"
            ]
          },
          "metadata": {
            "tags": []
          },
          "execution_count": 73
        }
      ]
    },
    {
      "cell_type": "code",
      "metadata": {
        "id": "be131cbd",
        "outputId": "6c100469-4786-4ddf-850b-f3427664ed0e"
      },
      "source": [
        "a = \"Hello World\"\n",
        "b = \"I am Utkarsh\"\n",
        "c = a + \" \" + b\n",
        "c"
      ],
      "id": "be131cbd",
      "execution_count": null,
      "outputs": [
        {
          "output_type": "execute_result",
          "data": {
            "text/plain": [
              "'Hello World I am Utkarsh'"
            ]
          },
          "metadata": {
            "tags": []
          },
          "execution_count": 75
        }
      ]
    },
    {
      "cell_type": "markdown",
      "metadata": {
        "id": "1b4f9693"
      },
      "source": [
        "### String Functions"
      ],
      "id": "1b4f9693"
    },
    {
      "cell_type": "code",
      "metadata": {
        "id": "19b79de6",
        "outputId": "50fdf3f2-6f0f-409c-ebae-fbdc7983e590"
      },
      "source": [
        "len(b)"
      ],
      "id": "19b79de6",
      "execution_count": null,
      "outputs": [
        {
          "output_type": "execute_result",
          "data": {
            "text/plain": [
              "12"
            ]
          },
          "metadata": {
            "tags": []
          },
          "execution_count": 77
        }
      ]
    },
    {
      "cell_type": "code",
      "metadata": {
        "id": "24114828",
        "outputId": "af04aa85-850d-4061-dcfd-52b61500ab58"
      },
      "source": [
        "b.split()"
      ],
      "id": "24114828",
      "execution_count": null,
      "outputs": [
        {
          "output_type": "execute_result",
          "data": {
            "text/plain": [
              "['I', 'am', 'Utkarsh']"
            ]
          },
          "metadata": {
            "tags": []
          },
          "execution_count": 78
        }
      ]
    },
    {
      "cell_type": "code",
      "metadata": {
        "id": "fbbb73ad",
        "outputId": "f285c10f-ff9e-474d-f495-1080710e689a"
      },
      "source": [
        "b.split('a')"
      ],
      "id": "fbbb73ad",
      "execution_count": null,
      "outputs": [
        {
          "output_type": "execute_result",
          "data": {
            "text/plain": [
              "['I ', 'm Utk', 'rsh']"
            ]
          },
          "metadata": {
            "tags": []
          },
          "execution_count": 84
        }
      ]
    },
    {
      "cell_type": "code",
      "metadata": {
        "id": "37ea5c71",
        "outputId": "27734e97-47c4-4301-c538-2197d87f68ce"
      },
      "source": [
        "b.lower()"
      ],
      "id": "37ea5c71",
      "execution_count": null,
      "outputs": [
        {
          "output_type": "execute_result",
          "data": {
            "text/plain": [
              "'i am utkarsh'"
            ]
          },
          "metadata": {
            "tags": []
          },
          "execution_count": 80
        }
      ]
    },
    {
      "cell_type": "code",
      "metadata": {
        "id": "4411e5ca",
        "outputId": "1c1cbb8c-c1e3-4a6d-d015-d5661812d59d"
      },
      "source": [
        "b.upper()"
      ],
      "id": "4411e5ca",
      "execution_count": null,
      "outputs": [
        {
          "output_type": "execute_result",
          "data": {
            "text/plain": [
              "'I AM UTKARSH'"
            ]
          },
          "metadata": {
            "tags": []
          },
          "execution_count": 81
        }
      ]
    },
    {
      "cell_type": "code",
      "metadata": {
        "id": "a53b9c6b",
        "outputId": "3749a68d-1068-46eb-d48d-2d83db32d2f3"
      },
      "source": [
        "b.count('a')"
      ],
      "id": "a53b9c6b",
      "execution_count": null,
      "outputs": [
        {
          "output_type": "execute_result",
          "data": {
            "text/plain": [
              "2"
            ]
          },
          "metadata": {
            "tags": []
          },
          "execution_count": 87
        }
      ]
    },
    {
      "cell_type": "code",
      "metadata": {
        "id": "7c669265",
        "outputId": "ce9d918d-8002-49c1-c139-0e6284c25986"
      },
      "source": [
        "b.endswith('h')"
      ],
      "id": "7c669265",
      "execution_count": null,
      "outputs": [
        {
          "output_type": "execute_result",
          "data": {
            "text/plain": [
              "True"
            ]
          },
          "metadata": {
            "tags": []
          },
          "execution_count": 91
        }
      ]
    },
    {
      "cell_type": "code",
      "metadata": {
        "id": "2ad4ff2a",
        "outputId": "752c800d-5c98-4e0f-b986-938522b9fd95"
      },
      "source": [
        "b.find('am')"
      ],
      "id": "2ad4ff2a",
      "execution_count": null,
      "outputs": [
        {
          "output_type": "execute_result",
          "data": {
            "text/plain": [
              "2"
            ]
          },
          "metadata": {
            "tags": []
          },
          "execution_count": 94
        }
      ]
    },
    {
      "cell_type": "code",
      "metadata": {
        "id": "f881f689",
        "outputId": "3e23e432-1884-4d7b-820e-abf4fb7f837b"
      },
      "source": [
        "b.isalpha()"
      ],
      "id": "f881f689",
      "execution_count": null,
      "outputs": [
        {
          "output_type": "execute_result",
          "data": {
            "text/plain": [
              "False"
            ]
          },
          "metadata": {
            "tags": []
          },
          "execution_count": 95
        }
      ]
    },
    {
      "cell_type": "code",
      "metadata": {
        "id": "fbe4c7e5",
        "outputId": "42db0833-b2f5-4e01-cec2-7b048061e568"
      },
      "source": [
        "a = 'abcd'\n",
        "c = '123'\n",
        "a.isalpha()"
      ],
      "id": "fbe4c7e5",
      "execution_count": null,
      "outputs": [
        {
          "output_type": "execute_result",
          "data": {
            "text/plain": [
              "True"
            ]
          },
          "metadata": {
            "tags": []
          },
          "execution_count": 98
        }
      ]
    },
    {
      "cell_type": "code",
      "metadata": {
        "id": "8298f774",
        "outputId": "babc7c29-83f5-481f-c5db-6d03e2d64758"
      },
      "source": [
        "c.isnumeric()"
      ],
      "id": "8298f774",
      "execution_count": null,
      "outputs": [
        {
          "output_type": "execute_result",
          "data": {
            "text/plain": [
              "True"
            ]
          },
          "metadata": {
            "tags": []
          },
          "execution_count": 99
        }
      ]
    },
    {
      "cell_type": "code",
      "metadata": {
        "id": "e6d4f078",
        "outputId": "13f5414c-b157-4c2a-e2ad-8ee3bfbd62f3"
      },
      "source": [
        "a = int(c)\n",
        "print(a)\n",
        "type(a)"
      ],
      "id": "e6d4f078",
      "execution_count": null,
      "outputs": [
        {
          "output_type": "stream",
          "text": [
            "123\n"
          ],
          "name": "stdout"
        },
        {
          "output_type": "execute_result",
          "data": {
            "text/plain": [
              "int"
            ]
          },
          "metadata": {
            "tags": []
          },
          "execution_count": 100
        }
      ]
    },
    {
      "cell_type": "code",
      "metadata": {
        "id": "f1aecdc8",
        "outputId": "93a971f7-2216-4360-eb64-898b5532f46a"
      },
      "source": [
        "b.replace('Utkarsh', 'Thanos')"
      ],
      "id": "f1aecdc8",
      "execution_count": null,
      "outputs": [
        {
          "output_type": "execute_result",
          "data": {
            "text/plain": [
              "'I am Thanos'"
            ]
          },
          "metadata": {
            "tags": []
          },
          "execution_count": 101
        }
      ]
    },
    {
      "cell_type": "code",
      "metadata": {
        "id": "ff6d010d"
      },
      "source": [
        ""
      ],
      "id": "ff6d010d",
      "execution_count": null,
      "outputs": []
    },
    {
      "cell_type": "markdown",
      "metadata": {
        "id": "723b82ec"
      },
      "source": [
        "# List"
      ],
      "id": "723b82ec"
    },
    {
      "cell_type": "code",
      "metadata": {
        "id": "8a504ca0",
        "outputId": "5d1b0ff2-d9b1-4b79-c766-fc4da64daa82"
      },
      "source": [
        "l1 = [1,2,3]\n",
        "l1"
      ],
      "id": "8a504ca0",
      "execution_count": null,
      "outputs": [
        {
          "output_type": "execute_result",
          "data": {
            "text/plain": [
              "[1, 2, 3]"
            ]
          },
          "metadata": {
            "tags": []
          },
          "execution_count": 1
        }
      ]
    },
    {
      "cell_type": "code",
      "metadata": {
        "id": "75ad2f32",
        "outputId": "d6355e99-49fa-4891-ed48-cf93c8392f0e"
      },
      "source": [
        "l1[2] = 4\n",
        "l1"
      ],
      "id": "75ad2f32",
      "execution_count": null,
      "outputs": [
        {
          "output_type": "execute_result",
          "data": {
            "text/plain": [
              "[1, 2, 4]"
            ]
          },
          "metadata": {
            "tags": []
          },
          "execution_count": 2
        }
      ]
    },
    {
      "cell_type": "code",
      "metadata": {
        "id": "3acc8204"
      },
      "source": [
        "list1 = [1,2,3]\n",
        "list2 = list1"
      ],
      "id": "3acc8204",
      "execution_count": null,
      "outputs": []
    },
    {
      "cell_type": "code",
      "metadata": {
        "id": "fefe4107",
        "outputId": "1952d9d4-058c-4a3a-dc04-6f042dfaf8fc"
      },
      "source": [
        "list2[0] = 3\n",
        "list2"
      ],
      "id": "fefe4107",
      "execution_count": null,
      "outputs": [
        {
          "output_type": "execute_result",
          "data": {
            "text/plain": [
              "[3, 2, 3]"
            ]
          },
          "metadata": {
            "tags": []
          },
          "execution_count": 22
        }
      ]
    },
    {
      "cell_type": "code",
      "metadata": {
        "id": "9a130781",
        "outputId": "313a7619-28b1-4d75-fa9c-cb6ee4fe60ec"
      },
      "source": [
        "list1"
      ],
      "id": "9a130781",
      "execution_count": null,
      "outputs": [
        {
          "output_type": "execute_result",
          "data": {
            "text/plain": [
              "[3, 2, 3]"
            ]
          },
          "metadata": {
            "tags": []
          },
          "execution_count": 23
        }
      ]
    },
    {
      "cell_type": "code",
      "metadata": {
        "id": "09ccf73e",
        "outputId": "e072f30a-489a-43ea-ec93-511f9dfbbbe6"
      },
      "source": [
        "l2 = ['hello', 'world']\n",
        "l2"
      ],
      "id": "09ccf73e",
      "execution_count": null,
      "outputs": [
        {
          "output_type": "execute_result",
          "data": {
            "text/plain": [
              "['hello', 'world']"
            ]
          },
          "metadata": {
            "tags": []
          },
          "execution_count": 3
        }
      ]
    },
    {
      "cell_type": "code",
      "metadata": {
        "id": "3b456fc3",
        "outputId": "19e0c2b2-5788-485b-f6c5-f33a438d8889"
      },
      "source": [
        "l3 = [1,2,3,'hello', 'world']\n",
        "l3"
      ],
      "id": "3b456fc3",
      "execution_count": null,
      "outputs": [
        {
          "output_type": "execute_result",
          "data": {
            "text/plain": [
              "[1, 2, 3, 'hello', 'world']"
            ]
          },
          "metadata": {
            "tags": []
          },
          "execution_count": 4
        }
      ]
    },
    {
      "cell_type": "code",
      "metadata": {
        "id": "5315b259",
        "outputId": "82e2dfb5-fc33-42ec-a854-5813bf7f928b"
      },
      "source": [
        "l1 + l2"
      ],
      "id": "5315b259",
      "execution_count": null,
      "outputs": [
        {
          "output_type": "execute_result",
          "data": {
            "text/plain": [
              "[1, 2, 4, 'hello', 'world']"
            ]
          },
          "metadata": {
            "tags": []
          },
          "execution_count": 5
        }
      ]
    },
    {
      "cell_type": "code",
      "metadata": {
        "id": "9ac105dd",
        "outputId": "65fac8a7-604a-4b2c-d755-6f6f060c5a4e"
      },
      "source": [
        "l1 * 2"
      ],
      "id": "9ac105dd",
      "execution_count": null,
      "outputs": [
        {
          "output_type": "execute_result",
          "data": {
            "text/plain": [
              "[1, 2, 4, 1, 2, 4]"
            ]
          },
          "metadata": {
            "tags": []
          },
          "execution_count": 6
        }
      ]
    },
    {
      "cell_type": "code",
      "metadata": {
        "id": "e3eeafb8",
        "outputId": "023461a7-0d83-4ce7-9f8b-bd5948ab5ee0"
      },
      "source": [
        "l1 + [5]"
      ],
      "id": "e3eeafb8",
      "execution_count": null,
      "outputs": [
        {
          "output_type": "execute_result",
          "data": {
            "text/plain": [
              "[1, 2, 4, 5]"
            ]
          },
          "metadata": {
            "tags": []
          },
          "execution_count": 8
        }
      ]
    },
    {
      "cell_type": "markdown",
      "metadata": {
        "id": "27f13261"
      },
      "source": [
        "## Indexing"
      ],
      "id": "27f13261"
    },
    {
      "cell_type": "code",
      "metadata": {
        "id": "6b97c034",
        "outputId": "f97602d1-6dcb-4e55-e297-9f502fc9fbae"
      },
      "source": [
        "l1 = [1,2,3,4,5]\n",
        "l1"
      ],
      "id": "6b97c034",
      "execution_count": null,
      "outputs": [
        {
          "output_type": "execute_result",
          "data": {
            "text/plain": [
              "[1, 2, 3, 4, 5]"
            ]
          },
          "metadata": {
            "tags": []
          },
          "execution_count": 9
        }
      ]
    },
    {
      "cell_type": "code",
      "metadata": {
        "id": "8e8709df",
        "outputId": "a19e3660-b4a5-4e22-e910-c59625234da8"
      },
      "source": [
        "l1[0]"
      ],
      "id": "8e8709df",
      "execution_count": null,
      "outputs": [
        {
          "output_type": "execute_result",
          "data": {
            "text/plain": [
              "1"
            ]
          },
          "metadata": {
            "tags": []
          },
          "execution_count": 10
        }
      ]
    },
    {
      "cell_type": "code",
      "metadata": {
        "id": "5c486ffc",
        "outputId": "82ce5517-d25c-40f8-f659-cb8abec8bf8e"
      },
      "source": [
        "l1[4]"
      ],
      "id": "5c486ffc",
      "execution_count": null,
      "outputs": [
        {
          "output_type": "execute_result",
          "data": {
            "text/plain": [
              "5"
            ]
          },
          "metadata": {
            "tags": []
          },
          "execution_count": 11
        }
      ]
    },
    {
      "cell_type": "code",
      "metadata": {
        "id": "3ebddfdc",
        "outputId": "8fe01d06-fcf1-479f-8732-7747a7e54b0f"
      },
      "source": [
        "l1[-1]"
      ],
      "id": "3ebddfdc",
      "execution_count": null,
      "outputs": [
        {
          "output_type": "execute_result",
          "data": {
            "text/plain": [
              "5"
            ]
          },
          "metadata": {
            "tags": []
          },
          "execution_count": 12
        }
      ]
    },
    {
      "cell_type": "markdown",
      "metadata": {
        "id": "74d21933"
      },
      "source": [
        "## Slicing"
      ],
      "id": "74d21933"
    },
    {
      "cell_type": "code",
      "metadata": {
        "id": "0858d559",
        "outputId": "fdf4d8a4-1f5e-49b7-c7a6-26e1e40bb0e9"
      },
      "source": [
        "l1[0:4]"
      ],
      "id": "0858d559",
      "execution_count": null,
      "outputs": [
        {
          "output_type": "execute_result",
          "data": {
            "text/plain": [
              "[1, 2, 3, 4]"
            ]
          },
          "metadata": {
            "tags": []
          },
          "execution_count": 13
        }
      ]
    },
    {
      "cell_type": "code",
      "metadata": {
        "id": "8d4bddd7",
        "outputId": "e9b4926e-0223-4fed-c872-923759fb629a"
      },
      "source": [
        "l1[:]"
      ],
      "id": "8d4bddd7",
      "execution_count": null,
      "outputs": [
        {
          "output_type": "execute_result",
          "data": {
            "text/plain": [
              "[1, 2, 3, 4, 5]"
            ]
          },
          "metadata": {
            "tags": []
          },
          "execution_count": 14
        }
      ]
    },
    {
      "cell_type": "code",
      "metadata": {
        "id": "a9629fcd",
        "outputId": "2cb0dfaa-43ee-4836-9901-dcbb7e80e03c"
      },
      "source": [
        "l1[2:]"
      ],
      "id": "a9629fcd",
      "execution_count": null,
      "outputs": [
        {
          "output_type": "execute_result",
          "data": {
            "text/plain": [
              "[3, 4, 5]"
            ]
          },
          "metadata": {
            "tags": []
          },
          "execution_count": 15
        }
      ]
    },
    {
      "cell_type": "code",
      "metadata": {
        "id": "0bd93a9e",
        "outputId": "1fedd05d-24c2-4360-e832-e5d13465120c"
      },
      "source": [
        "l1[:3]"
      ],
      "id": "0bd93a9e",
      "execution_count": null,
      "outputs": [
        {
          "output_type": "execute_result",
          "data": {
            "text/plain": [
              "[1, 2, 3]"
            ]
          },
          "metadata": {
            "tags": []
          },
          "execution_count": 16
        }
      ]
    },
    {
      "cell_type": "code",
      "metadata": {
        "id": "53abd2b7",
        "outputId": "61e92a81-9828-42d0-cf41-8df470eca6a7"
      },
      "source": [
        "l1[::-1]"
      ],
      "id": "53abd2b7",
      "execution_count": null,
      "outputs": [
        {
          "output_type": "execute_result",
          "data": {
            "text/plain": [
              "[5, 4, 3, 2, 1]"
            ]
          },
          "metadata": {
            "tags": []
          },
          "execution_count": 17
        }
      ]
    },
    {
      "cell_type": "markdown",
      "metadata": {
        "id": "5ffaef3b"
      },
      "source": [
        "## Nested Lists"
      ],
      "id": "5ffaef3b"
    },
    {
      "cell_type": "code",
      "metadata": {
        "id": "ec1e642e",
        "outputId": "5c2a8296-a4a3-4f19-cb8e-1d9cbe54b7c6"
      },
      "source": [
        "l1 = [1,2,3]\n",
        "l2 = [4,5,6]\n",
        "l3 = [7,8,9]\n",
        "l4 = [l1,l2,l3]\n",
        "l4"
      ],
      "id": "ec1e642e",
      "execution_count": null,
      "outputs": [
        {
          "output_type": "execute_result",
          "data": {
            "text/plain": [
              "[[1, 2, 3], [4, 5, 6], [7, 8, 9]]"
            ]
          },
          "metadata": {
            "tags": []
          },
          "execution_count": 24
        }
      ]
    },
    {
      "cell_type": "code",
      "metadata": {
        "id": "d9e9a3e5",
        "outputId": "e4f9a905-e789-4478-ad56-bc74be9319d1"
      },
      "source": [
        "l4[1][1]"
      ],
      "id": "d9e9a3e5",
      "execution_count": null,
      "outputs": [
        {
          "output_type": "execute_result",
          "data": {
            "text/plain": [
              "5"
            ]
          },
          "metadata": {
            "tags": []
          },
          "execution_count": 25
        }
      ]
    },
    {
      "cell_type": "code",
      "metadata": {
        "id": "1498eb62",
        "outputId": "3fccf766-1211-42ed-9763-6c0f849496a2"
      },
      "source": [
        "l4[2][0]"
      ],
      "id": "1498eb62",
      "execution_count": null,
      "outputs": [
        {
          "output_type": "execute_result",
          "data": {
            "text/plain": [
              "7"
            ]
          },
          "metadata": {
            "tags": []
          },
          "execution_count": 26
        }
      ]
    },
    {
      "cell_type": "code",
      "metadata": {
        "id": "8988cdb0",
        "outputId": "6f049a0d-0580-4be3-b844-02879b80ecac"
      },
      "source": [
        "l1 = [1,2,3]\n",
        "l2 = [4,[5,6]]\n",
        "l3 = [7,[8,[9,10]]]\n",
        "l4 = [l1,l2,l3]\n",
        "l4"
      ],
      "id": "8988cdb0",
      "execution_count": null,
      "outputs": [
        {
          "output_type": "execute_result",
          "data": {
            "text/plain": [
              "[[1, 2, 3], [4, [5, 6]], [7, [8, [9, 10]]]]"
            ]
          },
          "metadata": {
            "tags": []
          },
          "execution_count": 27
        }
      ]
    },
    {
      "cell_type": "code",
      "metadata": {
        "id": "57d90242",
        "outputId": "28247161-14b3-4015-8e09-66c6fe3c9f00"
      },
      "source": [
        "l4[1][1][0]"
      ],
      "id": "57d90242",
      "execution_count": null,
      "outputs": [
        {
          "output_type": "execute_result",
          "data": {
            "text/plain": [
              "5"
            ]
          },
          "metadata": {
            "tags": []
          },
          "execution_count": 28
        }
      ]
    },
    {
      "cell_type": "code",
      "metadata": {
        "id": "c5e5330b",
        "outputId": "09f84929-d0e0-4858-99bc-74c14d6ac984"
      },
      "source": [
        "l4[2][1][1][0]"
      ],
      "id": "c5e5330b",
      "execution_count": null,
      "outputs": [
        {
          "output_type": "execute_result",
          "data": {
            "text/plain": [
              "9"
            ]
          },
          "metadata": {
            "tags": []
          },
          "execution_count": 29
        }
      ]
    },
    {
      "cell_type": "code",
      "metadata": {
        "id": "cbc72536",
        "outputId": "1fe9422a-bc3a-4362-da24-97a772cbccfa"
      },
      "source": [
        "l4[-1][-1][-1][0]"
      ],
      "id": "cbc72536",
      "execution_count": null,
      "outputs": [
        {
          "output_type": "execute_result",
          "data": {
            "text/plain": [
              "9"
            ]
          },
          "metadata": {
            "tags": []
          },
          "execution_count": 30
        }
      ]
    },
    {
      "cell_type": "markdown",
      "metadata": {
        "id": "90f8f428"
      },
      "source": [
        "## List methods"
      ],
      "id": "90f8f428"
    },
    {
      "cell_type": "code",
      "metadata": {
        "id": "1d345240",
        "outputId": "49425be1-8569-4bc2-ea1e-9d9269d95ded"
      },
      "source": [
        "l1 = [1,2,3]\n",
        "l1.append(4)\n",
        "l1"
      ],
      "id": "1d345240",
      "execution_count": null,
      "outputs": [
        {
          "output_type": "execute_result",
          "data": {
            "text/plain": [
              "[1, 2, 3, 4]"
            ]
          },
          "metadata": {
            "tags": []
          },
          "execution_count": 31
        }
      ]
    },
    {
      "cell_type": "code",
      "metadata": {
        "id": "4c3853ae",
        "outputId": "f56b76b4-34c3-477f-a7f3-00f65097225f"
      },
      "source": [
        "l1.pop()"
      ],
      "id": "4c3853ae",
      "execution_count": null,
      "outputs": [
        {
          "output_type": "execute_result",
          "data": {
            "text/plain": [
              "4"
            ]
          },
          "metadata": {
            "tags": []
          },
          "execution_count": 32
        }
      ]
    },
    {
      "cell_type": "code",
      "metadata": {
        "id": "0cdebfe4",
        "outputId": "a56ccf38-d3a3-4c4c-aa4f-f3b9d0cbe9ed"
      },
      "source": [
        "l1"
      ],
      "id": "0cdebfe4",
      "execution_count": null,
      "outputs": [
        {
          "output_type": "execute_result",
          "data": {
            "text/plain": [
              "[1, 2, 3]"
            ]
          },
          "metadata": {
            "tags": []
          },
          "execution_count": 33
        }
      ]
    },
    {
      "cell_type": "code",
      "metadata": {
        "id": "f512007a",
        "outputId": "835444dd-f717-45a0-a209-1ae09a9f5dc2"
      },
      "source": [
        "l1.pop(1)\n",
        "l1"
      ],
      "id": "f512007a",
      "execution_count": null,
      "outputs": [
        {
          "output_type": "execute_result",
          "data": {
            "text/plain": [
              "[1, 3]"
            ]
          },
          "metadata": {
            "tags": []
          },
          "execution_count": 34
        }
      ]
    },
    {
      "cell_type": "code",
      "metadata": {
        "id": "4f7d7d1c",
        "outputId": "a43b6ca3-1af9-404b-e38d-bdabcaac6cf5"
      },
      "source": [
        "l2 = [9,7,6,8,1,4,6,5,7,0]\n",
        "l2.sort"
      ],
      "id": "4f7d7d1c",
      "execution_count": null,
      "outputs": [
        {
          "output_type": "execute_result",
          "data": {
            "text/plain": [
              "<function list.sort(*, key=None, reverse=False)>"
            ]
          },
          "metadata": {
            "tags": []
          },
          "execution_count": 35
        }
      ]
    },
    {
      "cell_type": "code",
      "metadata": {
        "id": "5b1802ca",
        "outputId": "fba6ca5c-c9e5-4237-c446-250fbbf0f004"
      },
      "source": [
        "l2.sort()\n",
        "l2"
      ],
      "id": "5b1802ca",
      "execution_count": null,
      "outputs": [
        {
          "output_type": "execute_result",
          "data": {
            "text/plain": [
              "[0, 1, 4, 5, 6, 6, 7, 7, 8, 9]"
            ]
          },
          "metadata": {
            "tags": []
          },
          "execution_count": 36
        }
      ]
    },
    {
      "cell_type": "code",
      "metadata": {
        "id": "472849da"
      },
      "source": [
        "l2.reverse()"
      ],
      "id": "472849da",
      "execution_count": null,
      "outputs": []
    },
    {
      "cell_type": "code",
      "metadata": {
        "id": "98d7dbc4",
        "outputId": "66f442ca-e820-4af6-d2ac-762afcf10937"
      },
      "source": [
        "l2"
      ],
      "id": "98d7dbc4",
      "execution_count": null,
      "outputs": [
        {
          "output_type": "execute_result",
          "data": {
            "text/plain": [
              "[9, 8, 7, 7, 6, 6, 5, 4, 1, 0]"
            ]
          },
          "metadata": {
            "tags": []
          },
          "execution_count": 38
        }
      ]
    },
    {
      "cell_type": "code",
      "metadata": {
        "id": "fa8a35c4",
        "outputId": "74570a4e-0be9-4124-98b6-69bc2a603685"
      },
      "source": [
        "l2 = [9,7,6,8,1,4,6,5,7,0]\n",
        "l2.sort(reverse = True)\n",
        "l2"
      ],
      "id": "fa8a35c4",
      "execution_count": null,
      "outputs": [
        {
          "output_type": "execute_result",
          "data": {
            "text/plain": [
              "[9, 8, 7, 7, 6, 6, 5, 4, 1, 0]"
            ]
          },
          "metadata": {
            "tags": []
          },
          "execution_count": 39
        }
      ]
    },
    {
      "cell_type": "markdown",
      "metadata": {
        "id": "a9244732"
      },
      "source": [
        "# Dictionaries"
      ],
      "id": "a9244732"
    },
    {
      "cell_type": "code",
      "metadata": {
        "id": "05138d31",
        "outputId": "2ad14e6c-ffba-447c-f372-65d6e35ae550"
      },
      "source": [
        "d1 = {1 : 'abc', 2 : 'xyz', 3 : 'pqr'}\n",
        "d1"
      ],
      "id": "05138d31",
      "execution_count": null,
      "outputs": [
        {
          "output_type": "execute_result",
          "data": {
            "text/plain": [
              "{1: 'abc', 2: 'xyz', 3: 'pqr'}"
            ]
          },
          "metadata": {
            "tags": []
          },
          "execution_count": 40
        }
      ]
    },
    {
      "cell_type": "code",
      "metadata": {
        "id": "1c27d3b4",
        "outputId": "5ee55cbc-93c0-446c-c58a-31ebcc8194df"
      },
      "source": [
        "d1[0]"
      ],
      "id": "1c27d3b4",
      "execution_count": null,
      "outputs": [
        {
          "output_type": "error",
          "ename": "KeyError",
          "evalue": "0",
          "traceback": [
            "\u001b[1;31m---------------------------------------------------------------------------\u001b[0m",
            "\u001b[1;31mKeyError\u001b[0m                                  Traceback (most recent call last)",
            "\u001b[1;32m<ipython-input-41-f64ff61913e8>\u001b[0m in \u001b[0;36m<module>\u001b[1;34m\u001b[0m\n\u001b[1;32m----> 1\u001b[1;33m \u001b[0md1\u001b[0m\u001b[1;33m[\u001b[0m\u001b[1;36m0\u001b[0m\u001b[1;33m]\u001b[0m\u001b[1;33m\u001b[0m\u001b[1;33m\u001b[0m\u001b[0m\n\u001b[0m",
            "\u001b[1;31mKeyError\u001b[0m: 0"
          ]
        }
      ]
    },
    {
      "cell_type": "code",
      "metadata": {
        "id": "8f1769e1",
        "outputId": "38050ec7-06d5-48a3-87ed-ddf89688d5f7"
      },
      "source": [
        "d1[2]"
      ],
      "id": "8f1769e1",
      "execution_count": null,
      "outputs": [
        {
          "output_type": "execute_result",
          "data": {
            "text/plain": [
              "'xyz'"
            ]
          },
          "metadata": {
            "tags": []
          },
          "execution_count": 42
        }
      ]
    },
    {
      "cell_type": "code",
      "metadata": {
        "id": "84372bec",
        "outputId": "d9df123b-4a53-4bfa-a5f7-304fd077cd46"
      },
      "source": [
        "d1[1]"
      ],
      "id": "84372bec",
      "execution_count": null,
      "outputs": [
        {
          "output_type": "execute_result",
          "data": {
            "text/plain": [
              "'abc'"
            ]
          },
          "metadata": {
            "tags": []
          },
          "execution_count": 43
        }
      ]
    },
    {
      "cell_type": "code",
      "metadata": {
        "id": "74a1b9c3",
        "outputId": "f1a0a003-eed4-486d-e2ef-d1a6088d7f23"
      },
      "source": [
        "record1 = {'Name' : 'John', 'Age' : 25, 'Marks' : [80,80,80,80,80]}\n",
        "record1"
      ],
      "id": "74a1b9c3",
      "execution_count": null,
      "outputs": [
        {
          "output_type": "execute_result",
          "data": {
            "text/plain": [
              "{'Name': 'John', 'Age': 25, 'Marks': [80, 80, 80, 80, 80]}"
            ]
          },
          "metadata": {
            "tags": []
          },
          "execution_count": 44
        }
      ]
    },
    {
      "cell_type": "code",
      "metadata": {
        "id": "df9f9e58",
        "outputId": "085c57a8-3a99-46b5-84b0-3c9132dc3018"
      },
      "source": [
        "record1['Name']"
      ],
      "id": "df9f9e58",
      "execution_count": null,
      "outputs": [
        {
          "output_type": "execute_result",
          "data": {
            "text/plain": [
              "'John'"
            ]
          },
          "metadata": {
            "tags": []
          },
          "execution_count": 45
        }
      ]
    },
    {
      "cell_type": "code",
      "metadata": {
        "id": "10dbeb6b",
        "outputId": "0aabed15-a067-4670-9f91-a6920435f3a1"
      },
      "source": [
        "record1['Marks']"
      ],
      "id": "10dbeb6b",
      "execution_count": null,
      "outputs": [
        {
          "output_type": "execute_result",
          "data": {
            "text/plain": [
              "[80, 80, 80, 80, 80]"
            ]
          },
          "metadata": {
            "tags": []
          },
          "execution_count": 46
        }
      ]
    },
    {
      "cell_type": "code",
      "metadata": {
        "id": "30988372",
        "outputId": "e5116cd5-f48e-47bf-857b-991b6efd3bec"
      },
      "source": [
        "d2 = {[1,2,3] : 'Hello'}"
      ],
      "id": "30988372",
      "execution_count": null,
      "outputs": [
        {
          "output_type": "error",
          "ename": "TypeError",
          "evalue": "unhashable type: 'list'",
          "traceback": [
            "\u001b[1;31m---------------------------------------------------------------------------\u001b[0m",
            "\u001b[1;31mTypeError\u001b[0m                                 Traceback (most recent call last)",
            "\u001b[1;32m<ipython-input-47-db0072e2dadd>\u001b[0m in \u001b[0;36m<module>\u001b[1;34m\u001b[0m\n\u001b[1;32m----> 1\u001b[1;33m \u001b[0md2\u001b[0m \u001b[1;33m=\u001b[0m \u001b[1;33m{\u001b[0m\u001b[1;33m[\u001b[0m\u001b[1;36m1\u001b[0m\u001b[1;33m,\u001b[0m\u001b[1;36m2\u001b[0m\u001b[1;33m,\u001b[0m\u001b[1;36m3\u001b[0m\u001b[1;33m]\u001b[0m \u001b[1;33m:\u001b[0m \u001b[1;34m'Hello'\u001b[0m\u001b[1;33m}\u001b[0m\u001b[1;33m\u001b[0m\u001b[1;33m\u001b[0m\u001b[0m\n\u001b[0m",
            "\u001b[1;31mTypeError\u001b[0m: unhashable type: 'list'"
          ]
        }
      ]
    },
    {
      "cell_type": "code",
      "metadata": {
        "id": "ae9fd1da",
        "outputId": "b5eeaa23-ac2a-46ef-c37b-a1227886b7d5"
      },
      "source": [
        "d1 = {1 : 'abc', 2 : 'xyz', 3 : 'pqr'}\n",
        "d1"
      ],
      "id": "ae9fd1da",
      "execution_count": null,
      "outputs": [
        {
          "output_type": "execute_result",
          "data": {
            "text/plain": [
              "{1: 'abc', 2: 'xyz', 3: 'pqr'}"
            ]
          },
          "metadata": {
            "tags": []
          },
          "execution_count": 48
        }
      ]
    },
    {
      "cell_type": "code",
      "metadata": {
        "id": "9b95566f",
        "outputId": "95a9941a-8d32-4e66-af59-5dc90c1fcb31"
      },
      "source": [
        "d1[4] = 'ABC'\n",
        "d1"
      ],
      "id": "9b95566f",
      "execution_count": null,
      "outputs": [
        {
          "output_type": "execute_result",
          "data": {
            "text/plain": [
              "{1: 'abc', 2: 'xyz', 3: 'pqr', 4: 'ABC'}"
            ]
          },
          "metadata": {
            "tags": []
          },
          "execution_count": 50
        }
      ]
    },
    {
      "cell_type": "code",
      "metadata": {
        "id": "9809a131"
      },
      "source": [
        "d2 = {'a': 1}"
      ],
      "id": "9809a131",
      "execution_count": null,
      "outputs": []
    },
    {
      "cell_type": "code",
      "metadata": {
        "id": "9ae39ba8",
        "outputId": "884046bc-1d11-4554-d1fa-c55bbaeb7cad"
      },
      "source": [
        "d2['a'] += 1\n",
        "d2"
      ],
      "id": "9ae39ba8",
      "execution_count": null,
      "outputs": [
        {
          "output_type": "execute_result",
          "data": {
            "text/plain": [
              "{'a': 2}"
            ]
          },
          "metadata": {
            "tags": []
          },
          "execution_count": 52
        }
      ]
    },
    {
      "cell_type": "markdown",
      "metadata": {
        "id": "ab8eca0c"
      },
      "source": [
        "## Dictionary Methods"
      ],
      "id": "ab8eca0c"
    },
    {
      "cell_type": "code",
      "metadata": {
        "id": "3e660a58"
      },
      "source": [
        "d1 = {1 : 'abc', 2 : 'xyz', 3 : 'pqr'}"
      ],
      "id": "3e660a58",
      "execution_count": null,
      "outputs": []
    },
    {
      "cell_type": "code",
      "metadata": {
        "id": "e9418ec1",
        "outputId": "1918be2a-4288-4260-b6fe-c85466ab1748"
      },
      "source": [
        "d1.keys()"
      ],
      "id": "e9418ec1",
      "execution_count": null,
      "outputs": [
        {
          "output_type": "execute_result",
          "data": {
            "text/plain": [
              "dict_keys([1, 2, 3])"
            ]
          },
          "metadata": {
            "tags": []
          },
          "execution_count": 54
        }
      ]
    },
    {
      "cell_type": "code",
      "metadata": {
        "id": "4564d593",
        "outputId": "ff18299b-5c7e-42c6-a191-c2a19a540918"
      },
      "source": [
        "d1.values()"
      ],
      "id": "4564d593",
      "execution_count": null,
      "outputs": [
        {
          "output_type": "execute_result",
          "data": {
            "text/plain": [
              "dict_values(['abc', 'xyz', 'pqr'])"
            ]
          },
          "metadata": {
            "tags": []
          },
          "execution_count": 55
        }
      ]
    },
    {
      "cell_type": "code",
      "metadata": {
        "id": "1f769a8d",
        "outputId": "26e6b831-cb4f-4656-d91f-1edd613c4c63"
      },
      "source": [
        "d1.items()"
      ],
      "id": "1f769a8d",
      "execution_count": null,
      "outputs": [
        {
          "output_type": "execute_result",
          "data": {
            "text/plain": [
              "dict_items([(1, 'abc'), (2, 'xyz'), (3, 'pqr')])"
            ]
          },
          "metadata": {
            "tags": []
          },
          "execution_count": 56
        }
      ]
    },
    {
      "cell_type": "code",
      "metadata": {
        "id": "8ec8d0d3",
        "outputId": "9f515f88-1fa2-47ee-b3ae-222047a2da52"
      },
      "source": [
        "for i in d1.keys():\n",
        "    print(i, d1[i])"
      ],
      "id": "8ec8d0d3",
      "execution_count": null,
      "outputs": [
        {
          "output_type": "stream",
          "text": [
            "1 abc\n",
            "2 xyz\n",
            "3 pqr\n"
          ],
          "name": "stdout"
        }
      ]
    },
    {
      "cell_type": "code",
      "metadata": {
        "id": "3f3bb8d7",
        "outputId": "5f90c4b7-18af-486d-d2d4-a0d795053163"
      },
      "source": [
        "for i in d1.values():\n",
        "    print(i)"
      ],
      "id": "3f3bb8d7",
      "execution_count": null,
      "outputs": [
        {
          "output_type": "stream",
          "text": [
            "abc\n",
            "xyz\n",
            "pqr\n"
          ],
          "name": "stdout"
        }
      ]
    },
    {
      "cell_type": "code",
      "metadata": {
        "id": "6d391f3b",
        "outputId": "b76e075d-b182-4643-b704-ddf1f8e08b19"
      },
      "source": [
        "for i,j in d1.items():\n",
        "    print(i,j)"
      ],
      "id": "6d391f3b",
      "execution_count": null,
      "outputs": [
        {
          "output_type": "stream",
          "text": [
            "1 abc\n",
            "2 xyz\n",
            "3 pqr\n"
          ],
          "name": "stdout"
        }
      ]
    },
    {
      "cell_type": "code",
      "metadata": {
        "id": "e4b74665"
      },
      "source": [
        ""
      ],
      "id": "e4b74665",
      "execution_count": null,
      "outputs": []
    },
    {
      "cell_type": "markdown",
      "metadata": {
        "id": "397c60ce"
      },
      "source": [
        "# Tuple"
      ],
      "id": "397c60ce"
    },
    {
      "cell_type": "code",
      "metadata": {
        "id": "af2e2c54",
        "outputId": "5f2e3791-18e7-4e2e-f50d-dca1e0fcd47b"
      },
      "source": [
        "t1 = (1,2,3)\n",
        "t1"
      ],
      "id": "af2e2c54",
      "execution_count": null,
      "outputs": [
        {
          "output_type": "execute_result",
          "data": {
            "text/plain": [
              "(1, 2, 3)"
            ]
          },
          "metadata": {
            "tags": []
          },
          "execution_count": 60
        }
      ]
    },
    {
      "cell_type": "code",
      "metadata": {
        "id": "69206d55",
        "outputId": "285b52ae-7c42-43f4-f7c7-c6e9a86a5887"
      },
      "source": [
        "t2 = (1,2,3,'hello', [1,2,3])\n",
        "t2"
      ],
      "id": "69206d55",
      "execution_count": null,
      "outputs": [
        {
          "output_type": "execute_result",
          "data": {
            "text/plain": [
              "(1, 2, 3, 'hello', [1, 2, 3])"
            ]
          },
          "metadata": {
            "tags": []
          },
          "execution_count": 61
        }
      ]
    },
    {
      "cell_type": "code",
      "metadata": {
        "id": "a3493b9f",
        "outputId": "2456cdc8-aa33-4a1c-c017-d437f265f1a2"
      },
      "source": [
        "t1[0]"
      ],
      "id": "a3493b9f",
      "execution_count": null,
      "outputs": [
        {
          "output_type": "execute_result",
          "data": {
            "text/plain": [
              "1"
            ]
          },
          "metadata": {
            "tags": []
          },
          "execution_count": 62
        }
      ]
    },
    {
      "cell_type": "code",
      "metadata": {
        "id": "a33471cc",
        "outputId": "99739bb2-e3bc-42c1-b88e-f56e706960ed"
      },
      "source": [
        "t1[-1]"
      ],
      "id": "a33471cc",
      "execution_count": null,
      "outputs": [
        {
          "output_type": "execute_result",
          "data": {
            "text/plain": [
              "3"
            ]
          },
          "metadata": {
            "tags": []
          },
          "execution_count": 63
        }
      ]
    },
    {
      "cell_type": "code",
      "metadata": {
        "id": "dcfdef97",
        "outputId": "c30cb105-866f-461a-f5f7-9002c2e5b64d"
      },
      "source": [
        "t1[0:3]"
      ],
      "id": "dcfdef97",
      "execution_count": null,
      "outputs": [
        {
          "output_type": "execute_result",
          "data": {
            "text/plain": [
              "(1, 2, 3)"
            ]
          },
          "metadata": {
            "tags": []
          },
          "execution_count": 64
        }
      ]
    },
    {
      "cell_type": "code",
      "metadata": {
        "id": "db492f76",
        "outputId": "d2884244-0861-4ac9-a270-1e20978a721b"
      },
      "source": [
        "t1[::-1]"
      ],
      "id": "db492f76",
      "execution_count": null,
      "outputs": [
        {
          "output_type": "execute_result",
          "data": {
            "text/plain": [
              "(3, 2, 1)"
            ]
          },
          "metadata": {
            "tags": []
          },
          "execution_count": 65
        }
      ]
    },
    {
      "cell_type": "code",
      "metadata": {
        "id": "ecd3d7d7",
        "outputId": "e5a21c2a-e58b-4d6f-e447-cde5af130da2"
      },
      "source": [
        "t1[0] = 4"
      ],
      "id": "ecd3d7d7",
      "execution_count": null,
      "outputs": [
        {
          "output_type": "error",
          "ename": "TypeError",
          "evalue": "'tuple' object does not support item assignment",
          "traceback": [
            "\u001b[1;31m---------------------------------------------------------------------------\u001b[0m",
            "\u001b[1;31mTypeError\u001b[0m                                 Traceback (most recent call last)",
            "\u001b[1;32m<ipython-input-66-3db7936c2779>\u001b[0m in \u001b[0;36m<module>\u001b[1;34m\u001b[0m\n\u001b[1;32m----> 1\u001b[1;33m \u001b[0mt1\u001b[0m\u001b[1;33m[\u001b[0m\u001b[1;36m0\u001b[0m\u001b[1;33m]\u001b[0m \u001b[1;33m=\u001b[0m \u001b[1;36m4\u001b[0m\u001b[1;33m\u001b[0m\u001b[1;33m\u001b[0m\u001b[0m\n\u001b[0m",
            "\u001b[1;31mTypeError\u001b[0m: 'tuple' object does not support item assignment"
          ]
        }
      ]
    },
    {
      "cell_type": "code",
      "metadata": {
        "id": "d9300a87",
        "outputId": "2fd5821e-3755-427a-d36e-122465c6079b"
      },
      "source": [
        "t1.index(2)"
      ],
      "id": "d9300a87",
      "execution_count": null,
      "outputs": [
        {
          "output_type": "execute_result",
          "data": {
            "text/plain": [
              "1"
            ]
          },
          "metadata": {
            "tags": []
          },
          "execution_count": 67
        }
      ]
    },
    {
      "cell_type": "code",
      "metadata": {
        "id": "749fb383",
        "outputId": "d9d139a4-e3e6-4e49-eee7-f71d3e50a99f"
      },
      "source": [
        "t1.index(4)"
      ],
      "id": "749fb383",
      "execution_count": null,
      "outputs": [
        {
          "output_type": "error",
          "ename": "ValueError",
          "evalue": "tuple.index(x): x not in tuple",
          "traceback": [
            "\u001b[1;31m---------------------------------------------------------------------------\u001b[0m",
            "\u001b[1;31mValueError\u001b[0m                                Traceback (most recent call last)",
            "\u001b[1;32m<ipython-input-68-9d7de5ff1e2c>\u001b[0m in \u001b[0;36m<module>\u001b[1;34m\u001b[0m\n\u001b[1;32m----> 1\u001b[1;33m \u001b[0mt1\u001b[0m\u001b[1;33m.\u001b[0m\u001b[0mindex\u001b[0m\u001b[1;33m(\u001b[0m\u001b[1;36m4\u001b[0m\u001b[1;33m)\u001b[0m\u001b[1;33m\u001b[0m\u001b[1;33m\u001b[0m\u001b[0m\n\u001b[0m",
            "\u001b[1;31mValueError\u001b[0m: tuple.index(x): x not in tuple"
          ]
        }
      ]
    },
    {
      "cell_type": "code",
      "metadata": {
        "id": "dba55d7c",
        "outputId": "038e2b41-529b-485a-8a58-de212265709e"
      },
      "source": [
        "t1.count(1)"
      ],
      "id": "dba55d7c",
      "execution_count": null,
      "outputs": [
        {
          "output_type": "execute_result",
          "data": {
            "text/plain": [
              "1"
            ]
          },
          "metadata": {
            "tags": []
          },
          "execution_count": 69
        }
      ]
    },
    {
      "cell_type": "code",
      "metadata": {
        "id": "79887c2d",
        "outputId": "052be62f-40bb-477f-8c21-5d89dcc1112f"
      },
      "source": [
        "t1.count(4)"
      ],
      "id": "79887c2d",
      "execution_count": null,
      "outputs": [
        {
          "output_type": "execute_result",
          "data": {
            "text/plain": [
              "0"
            ]
          },
          "metadata": {
            "tags": []
          },
          "execution_count": 70
        }
      ]
    },
    {
      "cell_type": "code",
      "metadata": {
        "id": "8f251683"
      },
      "source": [
        ""
      ],
      "id": "8f251683",
      "execution_count": null,
      "outputs": []
    },
    {
      "cell_type": "markdown",
      "metadata": {
        "id": "3eee2b35"
      },
      "source": [
        "# Sets"
      ],
      "id": "3eee2b35"
    },
    {
      "cell_type": "code",
      "metadata": {
        "id": "4cdfeb10"
      },
      "source": [
        "s1 = set()"
      ],
      "id": "4cdfeb10",
      "execution_count": null,
      "outputs": []
    },
    {
      "cell_type": "code",
      "metadata": {
        "id": "125ff208",
        "outputId": "e7615510-dc3e-47d1-f68a-41d99b32366f"
      },
      "source": [
        "s1.add(1)\n",
        "s1.add(2)\n",
        "s1.add(3)\n",
        "s1"
      ],
      "id": "125ff208",
      "execution_count": null,
      "outputs": [
        {
          "output_type": "execute_result",
          "data": {
            "text/plain": [
              "{1, 2, 3}"
            ]
          },
          "metadata": {
            "tags": []
          },
          "execution_count": 72
        }
      ]
    },
    {
      "cell_type": "code",
      "metadata": {
        "id": "083ee9b3",
        "outputId": "56fa0691-a1a3-4952-dea3-29f2a7e7eb07"
      },
      "source": [
        "s1.remove(3)\n",
        "s1"
      ],
      "id": "083ee9b3",
      "execution_count": null,
      "outputs": [
        {
          "output_type": "execute_result",
          "data": {
            "text/plain": [
              "{1, 2}"
            ]
          },
          "metadata": {
            "tags": []
          },
          "execution_count": 73
        }
      ]
    },
    {
      "cell_type": "code",
      "metadata": {
        "id": "6de635b8",
        "outputId": "eb8d9695-8a23-4540-cf58-8332facd90b7"
      },
      "source": [
        "s1.add(2)\n",
        "s1"
      ],
      "id": "6de635b8",
      "execution_count": null,
      "outputs": [
        {
          "output_type": "execute_result",
          "data": {
            "text/plain": [
              "{1, 2}"
            ]
          },
          "metadata": {
            "tags": []
          },
          "execution_count": 74
        }
      ]
    },
    {
      "cell_type": "code",
      "metadata": {
        "id": "a20cf080"
      },
      "source": [
        ""
      ],
      "id": "a20cf080",
      "execution_count": null,
      "outputs": []
    },
    {
      "cell_type": "markdown",
      "metadata": {
        "id": "806a8da5"
      },
      "source": [
        "# Boolean"
      ],
      "id": "806a8da5"
    },
    {
      "cell_type": "code",
      "metadata": {
        "id": "3869d753",
        "outputId": "45cb548c-709c-4726-90a2-0c1bc243d083"
      },
      "source": [
        "a = True\n",
        "print(a)\n",
        "type(a)"
      ],
      "id": "3869d753",
      "execution_count": null,
      "outputs": [
        {
          "output_type": "stream",
          "text": [
            "True\n"
          ],
          "name": "stdout"
        },
        {
          "output_type": "execute_result",
          "data": {
            "text/plain": [
              "bool"
            ]
          },
          "metadata": {
            "tags": []
          },
          "execution_count": 76
        }
      ]
    },
    {
      "cell_type": "code",
      "metadata": {
        "id": "ce47b144",
        "outputId": "3c3daa15-d843-4462-f979-8cbb7c2818c9"
      },
      "source": [
        "a = False\n",
        "print(a)\n",
        "type(a)"
      ],
      "id": "ce47b144",
      "execution_count": null,
      "outputs": [
        {
          "output_type": "stream",
          "text": [
            "False\n"
          ],
          "name": "stdout"
        },
        {
          "output_type": "execute_result",
          "data": {
            "text/plain": [
              "bool"
            ]
          },
          "metadata": {
            "tags": []
          },
          "execution_count": 77
        }
      ]
    },
    {
      "cell_type": "code",
      "metadata": {
        "id": "f8af3505",
        "outputId": "d87e016d-87bf-48c6-fd90-0f4b8bf7f878"
      },
      "source": [
        "1 < 2"
      ],
      "id": "f8af3505",
      "execution_count": null,
      "outputs": [
        {
          "output_type": "execute_result",
          "data": {
            "text/plain": [
              "True"
            ]
          },
          "metadata": {
            "tags": []
          },
          "execution_count": 78
        }
      ]
    },
    {
      "cell_type": "code",
      "metadata": {
        "id": "59bd0bde",
        "outputId": "9b862497-2589-48de-b776-e3f5265b3c21"
      },
      "source": [
        "a = 1 < 2\n",
        "a"
      ],
      "id": "59bd0bde",
      "execution_count": null,
      "outputs": [
        {
          "output_type": "execute_result",
          "data": {
            "text/plain": [
              "True"
            ]
          },
          "metadata": {
            "tags": []
          },
          "execution_count": 79
        }
      ]
    },
    {
      "cell_type": "markdown",
      "metadata": {
        "id": "378c8d40"
      },
      "source": [
        "# Recieving input from user"
      ],
      "id": "378c8d40"
    },
    {
      "cell_type": "code",
      "metadata": {
        "id": "ec52a63e",
        "outputId": "ad03cd90-5c92-404a-d62f-5c7aba8e7d59"
      },
      "source": [
        "a = int(input('Enter the number: '))"
      ],
      "id": "ec52a63e",
      "execution_count": null,
      "outputs": [
        {
          "output_type": "stream",
          "text": [
            "Enter the number: 5\n"
          ],
          "name": "stdout"
        }
      ]
    },
    {
      "cell_type": "code",
      "metadata": {
        "id": "f94e06c6",
        "outputId": "fd54a9e6-2b64-4632-9fef-88bec138eac8"
      },
      "source": [
        "a"
      ],
      "id": "f94e06c6",
      "execution_count": null,
      "outputs": [
        {
          "output_type": "execute_result",
          "data": {
            "text/plain": [
              "5"
            ]
          },
          "metadata": {
            "tags": []
          },
          "execution_count": 88
        }
      ]
    },
    {
      "cell_type": "code",
      "metadata": {
        "id": "412a7c2b",
        "outputId": "dd389bd8-2a17-4f11-b584-093213bd3b5d"
      },
      "source": [
        "a = int(input('Enter the number 1: '))\n",
        "b = int(input('Enter the number 2: '))\n",
        "c = int(input('Enter the number 3: '))\n",
        "print(a+b+c)"
      ],
      "id": "412a7c2b",
      "execution_count": null,
      "outputs": [
        {
          "output_type": "stream",
          "text": [
            "Enter the number 1: 5\n",
            "Enter the number 2: 5\n",
            "Enter the number 3: 5\n",
            "15\n"
          ],
          "name": "stdout"
        }
      ]
    },
    {
      "cell_type": "code",
      "metadata": {
        "id": "b537e9d2",
        "outputId": "2532c219-d036-43d6-c4ee-7db0972e3147"
      },
      "source": [
        "a = int(input('Enter the number 1: '))\n",
        "b = int(input('Enter the number 2: '))\n",
        "print('Before Swapping: ', a,b)\n",
        "a,b = b,a\n",
        "print('After Swaping: ',a,b)"
      ],
      "id": "b537e9d2",
      "execution_count": null,
      "outputs": [
        {
          "output_type": "stream",
          "text": [
            "Enter the number 1: 5\n",
            "Enter the number 2: 10\n",
            "Before Swapping:  5 10\n",
            "After Swaping:  10 5\n"
          ],
          "name": "stdout"
        }
      ]
    },
    {
      "cell_type": "code",
      "metadata": {
        "id": "4a67181a"
      },
      "source": [
        ""
      ],
      "id": "4a67181a",
      "execution_count": null,
      "outputs": []
    }
  ]
}