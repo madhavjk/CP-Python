{
  "nbformat": 4,
  "nbformat_minor": 5,
  "metadata": {
    "kernelspec": {
      "display_name": "Python 3",
      "language": "python",
      "name": "python3"
    },
    "language_info": {
      "codemirror_mode": {
        "name": "ipython",
        "version": 3
      },
      "file_extension": ".py",
      "mimetype": "text/x-python",
      "name": "python",
      "nbconvert_exporter": "python",
      "pygments_lexer": "ipython3",
      "version": "3.8.5"
    },
    "colab": {
      "name": "Session 6 (Classes and Objects).ipynb",
      "provenance": [],
      "include_colab_link": true
    }
  },
  "cells": [
    {
      "cell_type": "markdown",
      "metadata": {
        "id": "view-in-github",
        "colab_type": "text"
      },
      "source": [
        "<a href=\"https://colab.research.google.com/github/madhavjk/CP-Python/blob/main/Session_6_(Classes_and_Objects).ipynb\" target=\"_parent\"><img src=\"https://colab.research.google.com/assets/colab-badge.svg\" alt=\"Open In Colab\"/></a>"
      ]
    },
    {
      "cell_type": "markdown",
      "metadata": {
        "id": "f6961cfa"
      },
      "source": [
        "# Objects and Classes in Python\n",
        "## Inheritance\n",
        "## Polymorphism\n",
        "## Encapsulation\n",
        "## Abstraction"
      ],
      "id": "f6961cfa"
    },
    {
      "cell_type": "code",
      "metadata": {
        "id": "116fa03e",
        "outputId": "fe6b6ffb-b71a-454e-e0a5-6276ceabbc3b"
      },
      "source": [
        "1 + 2"
      ],
      "id": "116fa03e",
      "execution_count": null,
      "outputs": [
        {
          "output_type": "execute_result",
          "data": {
            "text/plain": [
              "3"
            ]
          },
          "metadata": {
            "tags": []
          },
          "execution_count": 1
        }
      ]
    },
    {
      "cell_type": "code",
      "metadata": {
        "id": "554bd14a",
        "outputId": "7d7470b7-d3bc-4e33-aac1-d284125010b9"
      },
      "source": [
        "2 + 3.0"
      ],
      "id": "554bd14a",
      "execution_count": null,
      "outputs": [
        {
          "output_type": "execute_result",
          "data": {
            "text/plain": [
              "5.0"
            ]
          },
          "metadata": {
            "tags": []
          },
          "execution_count": 2
        }
      ]
    },
    {
      "cell_type": "code",
      "metadata": {
        "id": "f2d0eaba",
        "outputId": "750515de-b15d-455a-e8c0-f6cdd25f8c1f"
      },
      "source": [
        "'Hello' + 'World'"
      ],
      "id": "f2d0eaba",
      "execution_count": null,
      "outputs": [
        {
          "output_type": "execute_result",
          "data": {
            "text/plain": [
              "'HelloWorld'"
            ]
          },
          "metadata": {
            "tags": []
          },
          "execution_count": 3
        }
      ]
    },
    {
      "cell_type": "code",
      "metadata": {
        "id": "5815100a",
        "outputId": "2014d879-ee9b-4d31-990c-017ffcf86dee"
      },
      "source": [
        "1 * 2"
      ],
      "id": "5815100a",
      "execution_count": null,
      "outputs": [
        {
          "output_type": "execute_result",
          "data": {
            "text/plain": [
              "2"
            ]
          },
          "metadata": {
            "tags": []
          },
          "execution_count": 4
        }
      ]
    },
    {
      "cell_type": "code",
      "metadata": {
        "id": "4ea40b52",
        "outputId": "2c1dc49d-900e-4252-a188-f9c5ff04fb1e"
      },
      "source": [
        "'hello' * 2"
      ],
      "id": "4ea40b52",
      "execution_count": null,
      "outputs": [
        {
          "output_type": "execute_result",
          "data": {
            "text/plain": [
              "'hellohello'"
            ]
          },
          "metadata": {
            "tags": []
          },
          "execution_count": 5
        }
      ]
    },
    {
      "cell_type": "code",
      "metadata": {
        "id": "9f9b9994"
      },
      "source": [
        "class class1:\n",
        "    def __init__(self, name, age):\n",
        "        self.name = name\n",
        "        self.age = age \n",
        "        \n",
        "    def display(self):\n",
        "        print(self.name,self.age)\n",
        "        "
      ],
      "id": "9f9b9994",
      "execution_count": null,
      "outputs": []
    },
    {
      "cell_type": "code",
      "metadata": {
        "id": "cdde7040"
      },
      "source": [
        "c1 = class1('Tom', 25)"
      ],
      "id": "cdde7040",
      "execution_count": null,
      "outputs": []
    },
    {
      "cell_type": "code",
      "metadata": {
        "id": "7976cf17",
        "outputId": "3b12755e-311c-4a30-f026-87a8cf036287"
      },
      "source": [
        "c1.name"
      ],
      "id": "7976cf17",
      "execution_count": null,
      "outputs": [
        {
          "output_type": "execute_result",
          "data": {
            "text/plain": [
              "'Tom'"
            ]
          },
          "metadata": {
            "tags": []
          },
          "execution_count": 42
        }
      ]
    },
    {
      "cell_type": "code",
      "metadata": {
        "id": "4ccb68c3",
        "outputId": "895e8322-53ce-460f-abee-260683869e66"
      },
      "source": [
        "c1.age"
      ],
      "id": "4ccb68c3",
      "execution_count": null,
      "outputs": [
        {
          "output_type": "execute_result",
          "data": {
            "text/plain": [
              "25"
            ]
          },
          "metadata": {
            "tags": []
          },
          "execution_count": 37
        }
      ]
    },
    {
      "cell_type": "code",
      "metadata": {
        "id": "cf06946a"
      },
      "source": [
        "c2 = class1('John', 30)"
      ],
      "id": "cf06946a",
      "execution_count": null,
      "outputs": []
    },
    {
      "cell_type": "code",
      "metadata": {
        "id": "6a7f1f83",
        "outputId": "b050bb80-f84a-4650-8bb7-c38d1966b4bf"
      },
      "source": [
        "c2.name"
      ],
      "id": "6a7f1f83",
      "execution_count": null,
      "outputs": [
        {
          "output_type": "execute_result",
          "data": {
            "text/plain": [
              "'John'"
            ]
          },
          "metadata": {
            "tags": []
          },
          "execution_count": 12
        }
      ]
    },
    {
      "cell_type": "code",
      "metadata": {
        "id": "ffb3ce6f",
        "outputId": "2f546ff6-45cb-4a6c-fba1-5552b15adecd"
      },
      "source": [
        "c2.age"
      ],
      "id": "ffb3ce6f",
      "execution_count": null,
      "outputs": [
        {
          "output_type": "execute_result",
          "data": {
            "text/plain": [
              "30"
            ]
          },
          "metadata": {
            "tags": []
          },
          "execution_count": 13
        }
      ]
    },
    {
      "cell_type": "code",
      "metadata": {
        "id": "fe3413a3",
        "outputId": "fa4ac2d1-ed4c-4c36-ec0f-901c21ac3210"
      },
      "source": [
        "c1.display()"
      ],
      "id": "fe3413a3",
      "execution_count": null,
      "outputs": [
        {
          "output_type": "stream",
          "text": [
            "Tom 25\n"
          ],
          "name": "stdout"
        }
      ]
    },
    {
      "cell_type": "code",
      "metadata": {
        "id": "e81b31af",
        "outputId": "7c678708-27d9-4a8e-dd6c-7dcc940bbd31"
      },
      "source": [
        "c2.display()"
      ],
      "id": "e81b31af",
      "execution_count": null,
      "outputs": [
        {
          "output_type": "stream",
          "text": [
            "John 30\n"
          ],
          "name": "stdout"
        }
      ]
    },
    {
      "cell_type": "code",
      "metadata": {
        "id": "62b4ed54",
        "outputId": "28d56a03-a296-4345-a8b5-280072c7c959"
      },
      "source": [
        "type(c1)"
      ],
      "id": "62b4ed54",
      "execution_count": null,
      "outputs": [
        {
          "output_type": "execute_result",
          "data": {
            "text/plain": [
              "__main__.class1"
            ]
          },
          "metadata": {
            "tags": []
          },
          "execution_count": 28
        }
      ]
    },
    {
      "cell_type": "code",
      "metadata": {
        "id": "abd85b71",
        "outputId": "b383d471-dff0-4aec-ee54-26541c9caeb9"
      },
      "source": [
        "type(c2)"
      ],
      "id": "abd85b71",
      "execution_count": null,
      "outputs": [
        {
          "output_type": "execute_result",
          "data": {
            "text/plain": [
              "__main__.class1"
            ]
          },
          "metadata": {
            "tags": []
          },
          "execution_count": 29
        }
      ]
    },
    {
      "cell_type": "markdown",
      "metadata": {
        "id": "399b8024"
      },
      "source": [
        "## Inheritance"
      ],
      "id": "399b8024"
    },
    {
      "cell_type": "code",
      "metadata": {
        "id": "1136d295"
      },
      "source": [
        "class Person:\n",
        "    def __init__(self, name, age):\n",
        "        self.name = name\n",
        "        self.age = age \n",
        "        \n",
        "    def display(self):\n",
        "        print(self.name,self.age)"
      ],
      "id": "1136d295",
      "execution_count": null,
      "outputs": []
    },
    {
      "cell_type": "code",
      "metadata": {
        "id": "3603e903"
      },
      "source": [
        "class Employee(Person):\n",
        "    def __init__(self,name, age, empid):\n",
        "        self.empid = empid\n",
        "        super().__init__(name, age)\n",
        "        \n",
        "        \n",
        "    def display(self):\n",
        "        print(self.empid)\n",
        "        super().display()"
      ],
      "id": "3603e903",
      "execution_count": null,
      "outputs": []
    },
    {
      "cell_type": "code",
      "metadata": {
        "id": "9327d23f"
      },
      "source": [
        "e1 = Employee('Tom', 30, 101)"
      ],
      "id": "9327d23f",
      "execution_count": null,
      "outputs": []
    },
    {
      "cell_type": "code",
      "metadata": {
        "id": "b402e2a7",
        "outputId": "c6dce230-476e-44e6-d843-c74932e918e6"
      },
      "source": [
        "e1.name"
      ],
      "id": "b402e2a7",
      "execution_count": null,
      "outputs": [
        {
          "output_type": "execute_result",
          "data": {
            "text/plain": [
              "'Tom'"
            ]
          },
          "metadata": {
            "tags": []
          },
          "execution_count": 66
        }
      ]
    },
    {
      "cell_type": "code",
      "metadata": {
        "id": "341ddbad",
        "outputId": "76baaf31-8e26-4770-c9cd-9d0228448a60"
      },
      "source": [
        "e1.age"
      ],
      "id": "341ddbad",
      "execution_count": null,
      "outputs": [
        {
          "output_type": "execute_result",
          "data": {
            "text/plain": [
              "30"
            ]
          },
          "metadata": {
            "tags": []
          },
          "execution_count": 67
        }
      ]
    },
    {
      "cell_type": "code",
      "metadata": {
        "id": "3682d07c",
        "outputId": "f52ad6d0-6d6b-4708-c21a-5c52dcc1e530"
      },
      "source": [
        "e1.display()"
      ],
      "id": "3682d07c",
      "execution_count": null,
      "outputs": [
        {
          "output_type": "stream",
          "text": [
            "101\n",
            "Tom 30\n"
          ],
          "name": "stdout"
        }
      ]
    },
    {
      "cell_type": "code",
      "metadata": {
        "id": "57dbe327"
      },
      "source": [
        ""
      ],
      "id": "57dbe327",
      "execution_count": null,
      "outputs": []
    },
    {
      "cell_type": "code",
      "metadata": {
        "id": "56e1e8d2",
        "outputId": "a53de241-5825-4aac-c0f1-0bc00399e597"
      },
      "source": [
        "a = 'hello'\n",
        "type(a)"
      ],
      "id": "56e1e8d2",
      "execution_count": null,
      "outputs": [
        {
          "output_type": "execute_result",
          "data": {
            "text/plain": [
              "str"
            ]
          },
          "metadata": {
            "tags": []
          },
          "execution_count": 69
        }
      ]
    },
    {
      "cell_type": "code",
      "metadata": {
        "id": "638a5c69",
        "outputId": "f25758eb-3caa-43de-94bc-e1d0f2e4b33e"
      },
      "source": [
        "a.upper()"
      ],
      "id": "638a5c69",
      "execution_count": null,
      "outputs": [
        {
          "output_type": "execute_result",
          "data": {
            "text/plain": [
              "'HELLO'"
            ]
          },
          "metadata": {
            "tags": []
          },
          "execution_count": 70
        }
      ]
    },
    {
      "cell_type": "code",
      "metadata": {
        "id": "89d64fa9"
      },
      "source": [
        ""
      ],
      "id": "89d64fa9",
      "execution_count": null,
      "outputs": []
    }
  ]
}