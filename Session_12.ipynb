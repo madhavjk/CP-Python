{
  "nbformat": 4,
  "nbformat_minor": 5,
  "metadata": {
    "kernelspec": {
      "display_name": "Python 3",
      "language": "python",
      "name": "python3"
    },
    "language_info": {
      "codemirror_mode": {
        "name": "ipython",
        "version": 3
      },
      "file_extension": ".py",
      "mimetype": "text/x-python",
      "name": "python",
      "nbconvert_exporter": "python",
      "pygments_lexer": "ipython3",
      "version": "3.8.5"
    },
    "colab": {
      "name": "Session 12.ipynb",
      "provenance": [],
      "include_colab_link": true
    }
  },
  "cells": [
    {
      "cell_type": "markdown",
      "metadata": {
        "id": "view-in-github",
        "colab_type": "text"
      },
      "source": [
        "<a href=\"https://colab.research.google.com/github/madhavjk/CP-Python/blob/main/Session_12.ipynb\" target=\"_parent\"><img src=\"https://colab.research.google.com/assets/colab-badge.svg\" alt=\"Open In Colab\"/></a>"
      ]
    },
    {
      "cell_type": "code",
      "metadata": {
        "id": "eabcf9b6"
      },
      "source": [
        "def fun1(l):\n",
        "    for i in l:\n",
        "        i += 1\n",
        "        print(i, end = ' ')"
      ],
      "id": "eabcf9b6",
      "execution_count": null,
      "outputs": []
    },
    {
      "cell_type": "code",
      "metadata": {
        "id": "ba621394",
        "outputId": "5b26f44b-2970-4b82-9ae6-816d5f7f91b4"
      },
      "source": [
        "fun1([1,2,3,4,5,6])"
      ],
      "id": "ba621394",
      "execution_count": null,
      "outputs": [
        {
          "output_type": "stream",
          "text": [
            "2 3 4 5 6 7 "
          ],
          "name": "stdout"
        }
      ]
    },
    {
      "cell_type": "code",
      "metadata": {
        "id": "87b5c3f1"
      },
      "source": [
        "def fun2(l):\n",
        "    for i in range(0,len(l), 2):\n",
        "        l[i] += 1\n",
        "        print(l[i] ,end = ' ')"
      ],
      "id": "87b5c3f1",
      "execution_count": null,
      "outputs": []
    },
    {
      "cell_type": "code",
      "metadata": {
        "id": "cfc16609",
        "outputId": "78a04e28-61d2-4a36-9ae9-e6bbe62a7135"
      },
      "source": [
        "fun2([1,2,3,4,5,6,7,8,9])"
      ],
      "id": "cfc16609",
      "execution_count": null,
      "outputs": [
        {
          "output_type": "stream",
          "text": [
            "2 4 6 8 10 "
          ],
          "name": "stdout"
        }
      ]
    },
    {
      "cell_type": "code",
      "metadata": {
        "id": "a4462d21"
      },
      "source": [
        "def fun3(n):\n",
        "    for i in range(n):\n",
        "        for j in range(n):\n",
        "            print(i,j, end ='  ')"
      ],
      "id": "a4462d21",
      "execution_count": null,
      "outputs": []
    },
    {
      "cell_type": "code",
      "metadata": {
        "id": "67a43618",
        "outputId": "ab9b7cff-50f5-43a2-af9a-8fce5d954cef"
      },
      "source": [
        "fun3(5)"
      ],
      "id": "67a43618",
      "execution_count": null,
      "outputs": [
        {
          "output_type": "stream",
          "text": [
            "0 0  0 1  0 2  0 3  0 4  1 0  1 1  1 2  1 3  1 4  2 0  2 1  2 2  2 3  2 4  3 0  3 1  3 2  3 3  3 4  4 0  4 1  4 2  4 3  4 4  "
          ],
          "name": "stdout"
        }
      ]
    },
    {
      "cell_type": "code",
      "metadata": {
        "id": "087ffee4"
      },
      "source": [
        "def fun3(n):\n",
        "    for i in range(n):\n",
        "        m = n\n",
        "        while m > 1:\n",
        "            #print(i,j, end ='  ')\n",
        "            print(i,m, end = '  ')\n",
        "            m = m // 2\n",
        "        print()"
      ],
      "id": "087ffee4",
      "execution_count": null,
      "outputs": []
    },
    {
      "cell_type": "code",
      "metadata": {
        "id": "4fd6ad25",
        "outputId": "a91a632d-580a-4588-9e2b-7454d73c1773"
      },
      "source": [
        "fun3(16)"
      ],
      "id": "4fd6ad25",
      "execution_count": null,
      "outputs": [
        {
          "output_type": "stream",
          "text": [
            "0 16  0 8  0 4  0 2  \n",
            "1 16  1 8  1 4  1 2  \n",
            "2 16  2 8  2 4  2 2  \n",
            "3 16  3 8  3 4  3 2  \n",
            "4 16  4 8  4 4  4 2  \n",
            "5 16  5 8  5 4  5 2  \n",
            "6 16  6 8  6 4  6 2  \n",
            "7 16  7 8  7 4  7 2  \n",
            "8 16  8 8  8 4  8 2  \n",
            "9 16  9 8  9 4  9 2  \n",
            "10 16  10 8  10 4  10 2  \n",
            "11 16  11 8  11 4  11 2  \n",
            "12 16  12 8  12 4  12 2  \n",
            "13 16  13 8  13 4  13 2  \n",
            "14 16  14 8  14 4  14 2  \n",
            "15 16  15 8  15 4  15 2  \n"
          ],
          "name": "stdout"
        }
      ]
    },
    {
      "cell_type": "code",
      "metadata": {
        "id": "8bbbdaa7"
      },
      "source": [
        "def fun4(n):\n",
        "    while True:\n",
        "        print('hello')\n",
        "        if n > 2:\n",
        "            n = n//2\n",
        "        else:\n",
        "            break"
      ],
      "id": "8bbbdaa7",
      "execution_count": null,
      "outputs": []
    },
    {
      "cell_type": "code",
      "metadata": {
        "id": "92ce3fd4",
        "outputId": "0bd601d1-47ef-4001-a9bc-b2b6bde1a6ab"
      },
      "source": [
        "fun4(8)"
      ],
      "id": "92ce3fd4",
      "execution_count": null,
      "outputs": [
        {
          "output_type": "stream",
          "text": [
            "hello\n",
            "hello\n",
            "hello\n"
          ],
          "name": "stdout"
        }
      ]
    },
    {
      "cell_type": "code",
      "metadata": {
        "id": "85a24442"
      },
      "source": [
        "def fun5(n):\n",
        "    m = n\n",
        "    for i in range(n):\n",
        "        while m>1:\n",
        "            print('Hello')\n",
        "            \n",
        "            m = m//2"
      ],
      "id": "85a24442",
      "execution_count": null,
      "outputs": []
    },
    {
      "cell_type": "code",
      "metadata": {
        "id": "06bc9d29",
        "outputId": "7ed05f24-b8a0-4d61-c5ca-6ca64c92c834"
      },
      "source": [
        "fun5(8)"
      ],
      "id": "06bc9d29",
      "execution_count": null,
      "outputs": [
        {
          "output_type": "stream",
          "text": [
            "Hello\n",
            "Hello\n",
            "Hello\n"
          ],
          "name": "stdout"
        }
      ]
    },
    {
      "cell_type": "code",
      "metadata": {
        "id": "2b600be3"
      },
      "source": [
        ""
      ],
      "id": "2b600be3",
      "execution_count": null,
      "outputs": []
    }
  ]
}