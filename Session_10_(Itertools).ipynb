{
  "nbformat": 4,
  "nbformat_minor": 0,
  "metadata": {
    "kernelspec": {
      "display_name": "Python 3",
      "language": "python",
      "name": "python3"
    },
    "language_info": {
      "codemirror_mode": {
        "name": "ipython",
        "version": 3
      },
      "file_extension": ".py",
      "mimetype": "text/x-python",
      "name": "python",
      "nbconvert_exporter": "python",
      "pygments_lexer": "ipython3",
      "version": "3.8.5"
    },
    "colab": {
      "name": "Session 10 (Itertools).ipynb",
      "provenance": [],
      "include_colab_link": true
    }
  },
  "cells": [
    {
      "cell_type": "markdown",
      "metadata": {
        "id": "view-in-github",
        "colab_type": "text"
      },
      "source": [
        "<a href=\"https://colab.research.google.com/github/madhavjk/CP-Python/blob/main/Session_10_(Itertools).ipynb\" target=\"_parent\"><img src=\"https://colab.research.google.com/assets/colab-badge.svg\" alt=\"Open In Colab\"/></a>"
      ]
    },
    {
      "cell_type": "markdown",
      "metadata": {
        "id": "gmO13DAXlpe9"
      },
      "source": [
        "# Itertools in Python"
      ]
    },
    {
      "cell_type": "code",
      "metadata": {
        "id": "025TYvGulpe-"
      },
      "source": [
        "import itertools"
      ],
      "execution_count": null,
      "outputs": []
    },
    {
      "cell_type": "code",
      "metadata": {
        "id": "GmcyJAwllpe_"
      },
      "source": [
        "counter = itertools.count(start = 1001, step = 100)"
      ],
      "execution_count": null,
      "outputs": []
    },
    {
      "cell_type": "code",
      "metadata": {
        "id": "D_L_Puu7lpfA",
        "outputId": "b73c79b9-f5d1-43c6-ac5d-ec372ce7dcaf"
      },
      "source": [
        "print(next(counter))"
      ],
      "execution_count": null,
      "outputs": [
        {
          "output_type": "stream",
          "text": [
            "1401\n"
          ],
          "name": "stdout"
        }
      ]
    },
    {
      "cell_type": "code",
      "metadata": {
        "id": "iPYIIrTYlpfB"
      },
      "source": [
        "a = [1,2,3,4,5]"
      ],
      "execution_count": null,
      "outputs": []
    },
    {
      "cell_type": "code",
      "metadata": {
        "id": "ZDgFebwKlpfB"
      },
      "source": [
        "c = itertools.cycle(a)"
      ],
      "execution_count": null,
      "outputs": []
    },
    {
      "cell_type": "code",
      "metadata": {
        "id": "g3ReiM0BlpfC",
        "outputId": "066fb4d6-0fff-4509-ec41-e86115d784aa"
      },
      "source": [
        "print(next(c))"
      ],
      "execution_count": null,
      "outputs": [
        {
          "output_type": "stream",
          "text": [
            "2\n"
          ],
          "name": "stdout"
        }
      ]
    },
    {
      "cell_type": "code",
      "metadata": {
        "id": "wYwza6PZlpfC"
      },
      "source": [
        "a = [\"abc\", \"xyz\", \"pqr\"]"
      ],
      "execution_count": null,
      "outputs": []
    },
    {
      "cell_type": "code",
      "metadata": {
        "id": "dmr4xHSnlpfD"
      },
      "source": [
        "c = itertools.cycle(a)"
      ],
      "execution_count": null,
      "outputs": []
    },
    {
      "cell_type": "code",
      "metadata": {
        "id": "IfZnTBrplpfE",
        "outputId": "4f27fc99-5edc-4757-a065-1d47c34539d2"
      },
      "source": [
        "print(next(c))"
      ],
      "execution_count": null,
      "outputs": [
        {
          "output_type": "stream",
          "text": [
            "abc\n"
          ],
          "name": "stdout"
        }
      ]
    },
    {
      "cell_type": "code",
      "metadata": {
        "id": "rPhPua6BlpfF"
      },
      "source": [
        "r = itertools.repeat(a,5)"
      ],
      "execution_count": null,
      "outputs": []
    },
    {
      "cell_type": "code",
      "metadata": {
        "id": "oGdO490FlpfG",
        "outputId": "200d3d69-e957-47e6-e41e-2c841bff54c2"
      },
      "source": [
        "print(r)"
      ],
      "execution_count": null,
      "outputs": [
        {
          "output_type": "stream",
          "text": [
            "repeat(['abc', 'xyz', 'pqr'], 5)\n"
          ],
          "name": "stdout"
        }
      ]
    },
    {
      "cell_type": "code",
      "metadata": {
        "id": "tW_vbnSZlpfH",
        "outputId": "4b7ee77b-1c06-43df-c37b-c3bd27ac4021"
      },
      "source": [
        "print(next(r))"
      ],
      "execution_count": null,
      "outputs": [
        {
          "output_type": "error",
          "ename": "StopIteration",
          "evalue": "",
          "traceback": [
            "\u001b[1;31m---------------------------------------------------------------------------\u001b[0m",
            "\u001b[1;31mStopIteration\u001b[0m                             Traceback (most recent call last)",
            "\u001b[1;32m<ipython-input-76-0f1e116d63f7>\u001b[0m in \u001b[0;36m<module>\u001b[1;34m\u001b[0m\n\u001b[1;32m----> 1\u001b[1;33m \u001b[0mprint\u001b[0m\u001b[1;33m(\u001b[0m\u001b[0mnext\u001b[0m\u001b[1;33m(\u001b[0m\u001b[0mr\u001b[0m\u001b[1;33m)\u001b[0m\u001b[1;33m)\u001b[0m\u001b[1;33m\u001b[0m\u001b[1;33m\u001b[0m\u001b[0m\n\u001b[0m",
            "\u001b[1;31mStopIteration\u001b[0m: "
          ]
        }
      ]
    },
    {
      "cell_type": "code",
      "metadata": {
        "id": "GuSHhqvRlpfI"
      },
      "source": [
        "a = itertools.permutations(\"ABCD\",3)"
      ],
      "execution_count": null,
      "outputs": []
    },
    {
      "cell_type": "code",
      "metadata": {
        "id": "y67xY0mJlpfK",
        "outputId": "2ffb32e9-bf7b-46af-f77d-dc26af3c1561"
      },
      "source": [
        "print(a)"
      ],
      "execution_count": null,
      "outputs": [
        {
          "output_type": "stream",
          "text": [
            "<itertools.permutations object at 0x00000185792766D0>\n"
          ],
          "name": "stdout"
        }
      ]
    },
    {
      "cell_type": "code",
      "metadata": {
        "id": "xnuaOPl-lpfL",
        "outputId": "8f0be3b2-cb4e-40d7-ee27-b67eb09437e8"
      },
      "source": [
        "for i in a:\n",
        "    print(i)"
      ],
      "execution_count": null,
      "outputs": [
        {
          "output_type": "stream",
          "text": [
            "('A', 'B', 'C')\n",
            "('A', 'B', 'D')\n",
            "('A', 'C', 'B')\n",
            "('A', 'C', 'D')\n",
            "('A', 'D', 'B')\n",
            "('A', 'D', 'C')\n",
            "('B', 'A', 'C')\n",
            "('B', 'A', 'D')\n",
            "('B', 'C', 'A')\n",
            "('B', 'C', 'D')\n",
            "('B', 'D', 'A')\n",
            "('B', 'D', 'C')\n",
            "('C', 'A', 'B')\n",
            "('C', 'A', 'D')\n",
            "('C', 'B', 'A')\n",
            "('C', 'B', 'D')\n",
            "('C', 'D', 'A')\n",
            "('C', 'D', 'B')\n",
            "('D', 'A', 'B')\n",
            "('D', 'A', 'C')\n",
            "('D', 'B', 'A')\n",
            "('D', 'B', 'C')\n",
            "('D', 'C', 'A')\n",
            "('D', 'C', 'B')\n"
          ],
          "name": "stdout"
        }
      ]
    },
    {
      "cell_type": "code",
      "metadata": {
        "id": "ru4rQ3JQlpfL"
      },
      "source": [
        "for i in a:\n",
        "    print(i)"
      ],
      "execution_count": null,
      "outputs": []
    },
    {
      "cell_type": "code",
      "metadata": {
        "id": "qfu6a7fdlpfM"
      },
      "source": [
        "a = itertools.combinations(\"ABCD\",3)"
      ],
      "execution_count": null,
      "outputs": []
    },
    {
      "cell_type": "code",
      "metadata": {
        "id": "Eeg8s_bclpfM",
        "outputId": "de9ace7d-a9d6-4c4b-9d17-b2506445cda3"
      },
      "source": [
        "for i in a:\n",
        "    print(i)"
      ],
      "execution_count": null,
      "outputs": [
        {
          "output_type": "stream",
          "text": [
            "('A', 'B', 'C')\n",
            "('A', 'B', 'D')\n",
            "('A', 'C', 'D')\n",
            "('B', 'C', 'D')\n"
          ],
          "name": "stdout"
        }
      ]
    },
    {
      "cell_type": "code",
      "metadata": {
        "id": "kkxqeCiKlpfN"
      },
      "source": [
        "a = itertools.product(\"ABCD\",\"PQRS\")"
      ],
      "execution_count": null,
      "outputs": []
    },
    {
      "cell_type": "code",
      "metadata": {
        "id": "nQ94x4eElpfN",
        "outputId": "1a8ef8eb-7071-4686-cfc5-367085ae883f"
      },
      "source": [
        "print(a)"
      ],
      "execution_count": null,
      "outputs": [
        {
          "output_type": "stream",
          "text": [
            "<itertools.product object at 0x00000185791CC480>\n"
          ],
          "name": "stdout"
        }
      ]
    },
    {
      "cell_type": "code",
      "metadata": {
        "id": "okwdLUD7lpfO",
        "outputId": "4b2e1725-9f36-4b58-9e21-6793b65fbfdb"
      },
      "source": [
        "for i in a:\n",
        "    print(i)"
      ],
      "execution_count": null,
      "outputs": [
        {
          "output_type": "stream",
          "text": [
            "('A', 'P')\n",
            "('A', 'Q')\n",
            "('A', 'R')\n",
            "('A', 'S')\n",
            "('B', 'P')\n",
            "('B', 'Q')\n",
            "('B', 'R')\n",
            "('B', 'S')\n",
            "('C', 'P')\n",
            "('C', 'Q')\n",
            "('C', 'R')\n",
            "('C', 'S')\n",
            "('D', 'P')\n",
            "('D', 'Q')\n",
            "('D', 'R')\n",
            "('D', 'S')\n"
          ],
          "name": "stdout"
        }
      ]
    },
    {
      "cell_type": "code",
      "metadata": {
        "id": "fRCKhYSwlpfP"
      },
      "source": [
        "a = [1,2,3,4,5,6,7,8,9]\n",
        "acc_sum = itertools.accumulate(a)"
      ],
      "execution_count": null,
      "outputs": []
    },
    {
      "cell_type": "code",
      "metadata": {
        "id": "SS4LvvBVlpfP",
        "outputId": "010949b2-53b6-415c-f1b2-b295c7052210"
      },
      "source": [
        "print(next(acc_sum))"
      ],
      "execution_count": null,
      "outputs": [
        {
          "output_type": "stream",
          "text": [
            "21\n"
          ],
          "name": "stdout"
        }
      ]
    },
    {
      "cell_type": "code",
      "metadata": {
        "id": "ZCmYBB_MlpfQ"
      },
      "source": [
        "import operator"
      ],
      "execution_count": null,
      "outputs": []
    },
    {
      "cell_type": "code",
      "metadata": {
        "id": "o3BCjF01lpfQ"
      },
      "source": [
        "acc_prod = itertools.accumulate(a,operator.mul)"
      ],
      "execution_count": null,
      "outputs": []
    },
    {
      "cell_type": "code",
      "metadata": {
        "id": "e-wyZdDqlpfR",
        "outputId": "450317b4-909b-4685-9ca2-cdc9d2a45bc8"
      },
      "source": [
        "print(next(acc_prod))"
      ],
      "execution_count": null,
      "outputs": [
        {
          "output_type": "stream",
          "text": [
            "24\n"
          ],
          "name": "stdout"
        }
      ]
    },
    {
      "cell_type": "code",
      "metadata": {
        "id": "ZMAYCAhqlpfR"
      },
      "source": [
        "c = itertools.chain(\"ABC\",\"XYZ\")"
      ],
      "execution_count": null,
      "outputs": []
    },
    {
      "cell_type": "code",
      "metadata": {
        "id": "5ipQF4OjlpfR",
        "outputId": "48542446-b0ac-4b04-8808-8cc02f600b7a"
      },
      "source": [
        "print(c)"
      ],
      "execution_count": null,
      "outputs": [
        {
          "output_type": "stream",
          "text": [
            "<itertools.chain object at 0x000001857909C1C0>\n"
          ],
          "name": "stdout"
        }
      ]
    },
    {
      "cell_type": "code",
      "metadata": {
        "id": "tpN5eTRjlpfT",
        "outputId": "b39a50e0-b89c-4cfd-bc2c-d3db6f19dd2f"
      },
      "source": [
        "print(next(c))"
      ],
      "execution_count": null,
      "outputs": [
        {
          "output_type": "stream",
          "text": [
            "Z\n"
          ],
          "name": "stdout"
        }
      ]
    },
    {
      "cell_type": "code",
      "metadata": {
        "id": "N_PxElaVlpfU"
      },
      "source": [
        "c = itertools.chain([1,2,3],[4,5])"
      ],
      "execution_count": null,
      "outputs": []
    },
    {
      "cell_type": "code",
      "metadata": {
        "id": "ba72MMGYlpfU",
        "outputId": "e2e3b9f2-f847-443e-acf4-2e003d4d2776"
      },
      "source": [
        "print(next(c))"
      ],
      "execution_count": null,
      "outputs": [
        {
          "output_type": "stream",
          "text": [
            "1\n"
          ],
          "name": "stdout"
        }
      ]
    },
    {
      "cell_type": "code",
      "metadata": {
        "id": "zwvX6TkElpfV"
      },
      "source": [
        ""
      ],
      "execution_count": null,
      "outputs": []
    }
  ]
}