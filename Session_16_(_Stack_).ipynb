{
  "nbformat": 4,
  "nbformat_minor": 5,
  "metadata": {
    "kernelspec": {
      "display_name": "Python 3",
      "language": "python",
      "name": "python3"
    },
    "language_info": {
      "codemirror_mode": {
        "name": "ipython",
        "version": 3
      },
      "file_extension": ".py",
      "mimetype": "text/x-python",
      "name": "python",
      "nbconvert_exporter": "python",
      "pygments_lexer": "ipython3",
      "version": "3.8.5"
    },
    "colab": {
      "name": "Session 16 ( Stack ).ipynb",
      "provenance": [],
      "include_colab_link": true
    }
  },
  "cells": [
    {
      "cell_type": "markdown",
      "metadata": {
        "id": "view-in-github",
        "colab_type": "text"
      },
      "source": [
        "<a href=\"https://colab.research.google.com/github/madhavjk/CP-Python/blob/main/Session_16_(_Stack_).ipynb\" target=\"_parent\"><img src=\"https://colab.research.google.com/assets/colab-badge.svg\" alt=\"Open In Colab\"/></a>"
      ]
    },
    {
      "cell_type": "markdown",
      "metadata": {
        "id": "61d744c5"
      },
      "source": [
        "# Stack\n",
        "<img src='stack.png' style = \"width=200px; height = 120px\"/>"
      ],
      "id": "61d744c5"
    },
    {
      "cell_type": "code",
      "metadata": {
        "id": "f0b553d8"
      },
      "source": [
        "class Stack:\n",
        "    def __init__(self):\n",
        "        self.data = []\n",
        "        \n",
        "    def __len__(self):\n",
        "        return len(self.data)\n",
        "    \n",
        "    def isEmpty(self):\n",
        "        return len(self.data) == 0\n",
        "    \n",
        "    def top(self):\n",
        "        if self.isEmpty():\n",
        "            print('Stack is empty')\n",
        "            return\n",
        "        return self.data[-1]\n",
        "    \n",
        "    def push(self, e):\n",
        "        self.data.append(e)\n",
        "        \n",
        "    def pop(self):\n",
        "        if self.isEmpty():\n",
        "            print('Stack is empty')\n",
        "            return\n",
        "        return self.data.pop()\n",
        "    \n",
        "    def show(self):\n",
        "        if self.isEmpty():\n",
        "            print('Stack is empty')\n",
        "            return\n",
        "        for i in self.data:\n",
        "            print(i, end = ', ')"
      ],
      "id": "f0b553d8",
      "execution_count": null,
      "outputs": []
    },
    {
      "cell_type": "code",
      "metadata": {
        "id": "7b751fbe"
      },
      "source": [
        "s = Stack()"
      ],
      "id": "7b751fbe",
      "execution_count": null,
      "outputs": []
    },
    {
      "cell_type": "code",
      "metadata": {
        "id": "dea0cae4",
        "outputId": "f2f171a8-ecf3-47d4-dd9f-14d1650ada1f"
      },
      "source": [
        "s.isEmpty()"
      ],
      "id": "dea0cae4",
      "execution_count": null,
      "outputs": [
        {
          "output_type": "execute_result",
          "data": {
            "text/plain": [
              "True"
            ]
          },
          "metadata": {
            "tags": []
          },
          "execution_count": 3
        }
      ]
    },
    {
      "cell_type": "code",
      "metadata": {
        "id": "69b4dbaf",
        "outputId": "f1bce182-51c3-40a3-8866-4153e2fda861"
      },
      "source": [
        "s.pop()"
      ],
      "id": "69b4dbaf",
      "execution_count": null,
      "outputs": [
        {
          "output_type": "stream",
          "text": [
            "Stack is empty\n"
          ],
          "name": "stdout"
        }
      ]
    },
    {
      "cell_type": "code",
      "metadata": {
        "id": "5c581966"
      },
      "source": [
        "s.push(1)\n",
        "s.push(2)\n",
        "s.push(3)"
      ],
      "id": "5c581966",
      "execution_count": null,
      "outputs": []
    },
    {
      "cell_type": "code",
      "metadata": {
        "id": "3124e5b0",
        "outputId": "b7614a98-b43b-42e7-e7ff-dad5fe1c7825"
      },
      "source": [
        "len(s)"
      ],
      "id": "3124e5b0",
      "execution_count": null,
      "outputs": [
        {
          "output_type": "execute_result",
          "data": {
            "text/plain": [
              "3"
            ]
          },
          "metadata": {
            "tags": []
          },
          "execution_count": 6
        }
      ]
    },
    {
      "cell_type": "code",
      "metadata": {
        "id": "8a7d83e8",
        "outputId": "c0a14740-e83b-4295-9eff-4139d5be3598"
      },
      "source": [
        "s.show()"
      ],
      "id": "8a7d83e8",
      "execution_count": null,
      "outputs": [
        {
          "output_type": "stream",
          "text": [
            "1, 2, 3, "
          ],
          "name": "stdout"
        }
      ]
    },
    {
      "cell_type": "code",
      "metadata": {
        "id": "a8ec0b7c",
        "outputId": "8937b125-bdc4-42b0-ced7-a1f69e08b57b"
      },
      "source": [
        "s.isEmpty()"
      ],
      "id": "a8ec0b7c",
      "execution_count": null,
      "outputs": [
        {
          "output_type": "execute_result",
          "data": {
            "text/plain": [
              "False"
            ]
          },
          "metadata": {
            "tags": []
          },
          "execution_count": 8
        }
      ]
    },
    {
      "cell_type": "code",
      "metadata": {
        "id": "19001053",
        "outputId": "fa2d9561-4e57-42f2-ebb5-7df11a463acf"
      },
      "source": [
        "s.top()"
      ],
      "id": "19001053",
      "execution_count": null,
      "outputs": [
        {
          "output_type": "execute_result",
          "data": {
            "text/plain": [
              "3"
            ]
          },
          "metadata": {
            "tags": []
          },
          "execution_count": 9
        }
      ]
    },
    {
      "cell_type": "code",
      "metadata": {
        "id": "3eb2bade",
        "outputId": "915f874a-eaa6-4eaf-ab5b-c10270975010"
      },
      "source": [
        "s.pop()"
      ],
      "id": "3eb2bade",
      "execution_count": null,
      "outputs": [
        {
          "output_type": "execute_result",
          "data": {
            "text/plain": [
              "3"
            ]
          },
          "metadata": {
            "tags": []
          },
          "execution_count": 10
        }
      ]
    },
    {
      "cell_type": "code",
      "metadata": {
        "id": "f1030c4e",
        "outputId": "3c3a80b6-027e-4fe7-e650-79236c96e8aa"
      },
      "source": [
        "s.show()"
      ],
      "id": "f1030c4e",
      "execution_count": null,
      "outputs": [
        {
          "output_type": "stream",
          "text": [
            "1, 2, "
          ],
          "name": "stdout"
        }
      ]
    },
    {
      "cell_type": "code",
      "metadata": {
        "id": "51453671",
        "outputId": "cc60275b-51a6-40e1-f31c-66a474bf6695"
      },
      "source": [
        "s.pop()"
      ],
      "id": "51453671",
      "execution_count": null,
      "outputs": [
        {
          "output_type": "execute_result",
          "data": {
            "text/plain": [
              "2"
            ]
          },
          "metadata": {
            "tags": []
          },
          "execution_count": 12
        }
      ]
    },
    {
      "cell_type": "code",
      "metadata": {
        "id": "a29284df",
        "outputId": "e27d1089-fe55-47bd-f822-4f27f5ecaec5"
      },
      "source": [
        "s.show()"
      ],
      "id": "a29284df",
      "execution_count": null,
      "outputs": [
        {
          "output_type": "stream",
          "text": [
            "1, "
          ],
          "name": "stdout"
        }
      ]
    },
    {
      "cell_type": "code",
      "metadata": {
        "id": "848277f7"
      },
      "source": [
        "# Pattern matching\n",
        "def matched(expression):\n",
        "    s = Stack()\n",
        "    left = \"[{(\"\n",
        "    right = \"]})\"\n",
        "    \n",
        "    for a in expression:\n",
        "        if a in left:\n",
        "            s.push(a)\n",
        "        elif a in right:\n",
        "            if s.isEmpty():\n",
        "                return False\n",
        "            \n",
        "            if right.index(a) != left.index(s.pop()):\n",
        "                return False\n",
        "    \n",
        "    return s.isEmpty()\n",
        "                        "
      ],
      "id": "848277f7",
      "execution_count": null,
      "outputs": []
    },
    {
      "cell_type": "code",
      "metadata": {
        "id": "099a36b9",
        "outputId": "788ee4d3-52a4-4d6a-8c35-a6acbb3ec4fe"
      },
      "source": [
        "matched('[[{()}]]')"
      ],
      "id": "099a36b9",
      "execution_count": null,
      "outputs": [
        {
          "output_type": "execute_result",
          "data": {
            "text/plain": [
              "True"
            ]
          },
          "metadata": {
            "tags": []
          },
          "execution_count": 17
        }
      ]
    },
    {
      "cell_type": "code",
      "metadata": {
        "id": "12f70e3f",
        "outputId": "d0e730d0-64b0-4142-9328-4bccb3dadb39"
      },
      "source": [
        "matched('[[{()}]](){()}')"
      ],
      "id": "12f70e3f",
      "execution_count": null,
      "outputs": [
        {
          "output_type": "execute_result",
          "data": {
            "text/plain": [
              "True"
            ]
          },
          "metadata": {
            "tags": []
          },
          "execution_count": 18
        }
      ]
    },
    {
      "cell_type": "code",
      "metadata": {
        "id": "0eac2d6a",
        "outputId": "2e739c08-7110-4357-a197-1825f5aaba81"
      },
      "source": [
        "matched('[[{()]}]]')"
      ],
      "id": "0eac2d6a",
      "execution_count": null,
      "outputs": [
        {
          "output_type": "execute_result",
          "data": {
            "text/plain": [
              "False"
            ]
          },
          "metadata": {
            "tags": []
          },
          "execution_count": 19
        }
      ]
    },
    {
      "cell_type": "code",
      "metadata": {
        "id": "67ea6d71",
        "outputId": "8bbb5156-0bf6-49ed-83af-5d2fee38f90d"
      },
      "source": [
        "matched('[[{()}]](')"
      ],
      "id": "67ea6d71",
      "execution_count": null,
      "outputs": [
        {
          "output_type": "execute_result",
          "data": {
            "text/plain": [
              "False"
            ]
          },
          "metadata": {
            "tags": []
          },
          "execution_count": 20
        }
      ]
    },
    {
      "cell_type": "code",
      "metadata": {
        "id": "ed92a486"
      },
      "source": [
        ""
      ],
      "id": "ed92a486",
      "execution_count": null,
      "outputs": []
    }
  ]
}