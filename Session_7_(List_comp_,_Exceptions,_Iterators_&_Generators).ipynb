{
  "nbformat": 4,
  "nbformat_minor": 5,
  "metadata": {
    "kernelspec": {
      "display_name": "Python 3",
      "language": "python",
      "name": "python3"
    },
    "language_info": {
      "codemirror_mode": {
        "name": "ipython",
        "version": 3
      },
      "file_extension": ".py",
      "mimetype": "text/x-python",
      "name": "python",
      "nbconvert_exporter": "python",
      "pygments_lexer": "ipython3",
      "version": "3.8.5"
    },
    "colab": {
      "name": "Session 7 (List comp., Exceptions, Iterators & Generators).ipynb",
      "provenance": [],
      "include_colab_link": true
    }
  },
  "cells": [
    {
      "cell_type": "markdown",
      "metadata": {
        "id": "view-in-github",
        "colab_type": "text"
      },
      "source": [
        "<a href=\"https://colab.research.google.com/github/madhavjk/CP-Python/blob/main/Session_7_(List_comp_%2C_Exceptions%2C_Iterators_%26_Generators).ipynb\" target=\"_parent\"><img src=\"https://colab.research.google.com/assets/colab-badge.svg\" alt=\"Open In Colab\"/></a>"
      ]
    },
    {
      "cell_type": "markdown",
      "metadata": {
        "id": "4c2c70d0"
      },
      "source": [
        "# List Comprehensions\n",
        "\n",
        "In addition to sequence operations and list methods, Python includes a more advanced operation called a list comprehension.\n",
        "\n",
        "List comprehensions allow us to build out lists using a different notation. You can think of it as essentially a one line <code>for</code> loop built inside of brackets. For a simple example:"
      ],
      "id": "4c2c70d0"
    },
    {
      "cell_type": "code",
      "metadata": {
        "id": "dfde6241"
      },
      "source": [
        "lst = [x for x in 'hello']"
      ],
      "id": "dfde6241",
      "execution_count": null,
      "outputs": []
    },
    {
      "cell_type": "code",
      "metadata": {
        "id": "da7ec721"
      },
      "source": [
        "l1 = []\n",
        "s = \"Hello\"\n",
        "for x in s:\n",
        "    l1.append(x)"
      ],
      "id": "da7ec721",
      "execution_count": null,
      "outputs": []
    },
    {
      "cell_type": "code",
      "metadata": {
        "id": "b0860501",
        "outputId": "e11815e8-3003-467c-fed0-3c50ddec988d"
      },
      "source": [
        "l1"
      ],
      "id": "b0860501",
      "execution_count": null,
      "outputs": [
        {
          "output_type": "execute_result",
          "data": {
            "text/plain": [
              "['H', 'e', 'l', 'l', 'o']"
            ]
          },
          "metadata": {
            "tags": []
          },
          "execution_count": 2
        }
      ]
    },
    {
      "cell_type": "code",
      "metadata": {
        "id": "25f8ac64",
        "outputId": "c54614bc-d5f9-4da7-8287-26a86b4a6747"
      },
      "source": [
        "lst"
      ],
      "id": "25f8ac64",
      "execution_count": null,
      "outputs": [
        {
          "output_type": "execute_result",
          "data": {
            "text/plain": [
              "['h', 'e', 'l', 'l', 'o']"
            ]
          },
          "metadata": {
            "tags": []
          },
          "execution_count": 4
        }
      ]
    },
    {
      "cell_type": "code",
      "metadata": {
        "id": "996bb3f4",
        "outputId": "a10d136e-9f50-43b3-c44b-68ae900c73df"
      },
      "source": [
        "lst = [x for x in range(10)]\n",
        "lst"
      ],
      "id": "996bb3f4",
      "execution_count": null,
      "outputs": [
        {
          "output_type": "execute_result",
          "data": {
            "text/plain": [
              "[0, 1, 2, 3, 4, 5, 6, 7, 8, 9]"
            ]
          },
          "metadata": {
            "tags": []
          },
          "execution_count": 5
        }
      ]
    },
    {
      "cell_type": "code",
      "metadata": {
        "id": "7d7803cb",
        "outputId": "59dc1782-7f75-4d8e-efa2-ecaa4e413057"
      },
      "source": [
        "lst = [3 * x for x in range(10)]\n",
        "lst"
      ],
      "id": "7d7803cb",
      "execution_count": null,
      "outputs": [
        {
          "output_type": "execute_result",
          "data": {
            "text/plain": [
              "[0, 3, 6, 9, 12, 15, 18, 21, 24, 27]"
            ]
          },
          "metadata": {
            "tags": []
          },
          "execution_count": 6
        }
      ]
    },
    {
      "cell_type": "code",
      "metadata": {
        "id": "17c0a04b",
        "outputId": "630fc3dd-a498-4086-8923-324f9bb71c15"
      },
      "source": [
        "lst = ['Ok' for x in range(10)]\n",
        "lst"
      ],
      "id": "17c0a04b",
      "execution_count": null,
      "outputs": [
        {
          "output_type": "execute_result",
          "data": {
            "text/plain": [
              "['Ok', 'Ok', 'Ok', 'Ok', 'Ok', 'Ok', 'Ok', 'Ok', 'Ok', 'Ok']"
            ]
          },
          "metadata": {
            "tags": []
          },
          "execution_count": 7
        }
      ]
    },
    {
      "cell_type": "code",
      "metadata": {
        "id": "380aaff4",
        "outputId": "8cf2631e-407d-4562-bbc3-cef2e497301d"
      },
      "source": [
        "lst = [x**2 + 3 for x in range(10)]\n",
        "lst"
      ],
      "id": "380aaff4",
      "execution_count": null,
      "outputs": [
        {
          "output_type": "execute_result",
          "data": {
            "text/plain": [
              "[3, 4, 7, 12, 19, 28, 39, 52, 67, 84]"
            ]
          },
          "metadata": {
            "tags": []
          },
          "execution_count": 8
        }
      ]
    },
    {
      "cell_type": "code",
      "metadata": {
        "id": "d301f180"
      },
      "source": [
        ""
      ],
      "id": "d301f180",
      "execution_count": null,
      "outputs": []
    },
    {
      "cell_type": "code",
      "metadata": {
        "id": "8d5193a5",
        "outputId": "d2a080da-8c45-4387-fd10-ba23c77fe9ad"
      },
      "source": [
        "lst = [x for x in range(10) if x % 2 == 0]\n",
        "lst"
      ],
      "id": "8d5193a5",
      "execution_count": null,
      "outputs": [
        {
          "output_type": "execute_result",
          "data": {
            "text/plain": [
              "[0, 2, 4, 6, 8]"
            ]
          },
          "metadata": {
            "tags": []
          },
          "execution_count": 9
        }
      ]
    },
    {
      "cell_type": "code",
      "metadata": {
        "id": "0c312a59",
        "outputId": "a1f687c5-7471-4281-fedc-b94a9c64aaa8"
      },
      "source": [
        "lst = [x for x in range(10) if x % 2 != 0]\n",
        "lst"
      ],
      "id": "0c312a59",
      "execution_count": null,
      "outputs": [
        {
          "output_type": "execute_result",
          "data": {
            "text/plain": [
              "[1, 3, 5, 7, 9]"
            ]
          },
          "metadata": {
            "tags": []
          },
          "execution_count": 10
        }
      ]
    },
    {
      "cell_type": "code",
      "metadata": {
        "id": "6968ee69",
        "outputId": "72465e40-849e-43e8-d8d0-47754753f453"
      },
      "source": [
        "celsius = [0,10,20.1, 34.5, 39]\n",
        "fahrenheit = [((9/5) * temp + 32) for temp in celsius]\n",
        "fahrenheit"
      ],
      "id": "6968ee69",
      "execution_count": null,
      "outputs": [
        {
          "output_type": "execute_result",
          "data": {
            "text/plain": [
              "[32.0, 50.0, 68.18, 94.1, 102.2]"
            ]
          },
          "metadata": {
            "tags": []
          },
          "execution_count": 11
        }
      ]
    },
    {
      "cell_type": "code",
      "metadata": {
        "id": "04dd3a9c",
        "outputId": "29ce84c4-39aa-4171-b7a9-b857fe7c56d1"
      },
      "source": [
        "lst = [x ** 3 for x in [x ** 3 for x in range(5)]]\n",
        "lst"
      ],
      "id": "04dd3a9c",
      "execution_count": null,
      "outputs": [
        {
          "output_type": "execute_result",
          "data": {
            "text/plain": [
              "[0, 1, 512, 19683, 262144]"
            ]
          },
          "metadata": {
            "tags": []
          },
          "execution_count": 13
        }
      ]
    },
    {
      "cell_type": "code",
      "metadata": {
        "id": "7bc9f6ed",
        "outputId": "f7572c71-496d-4d38-eeba-77e7d6e0f6c9"
      },
      "source": [
        "lst = [x * 3 for x in [x * 3 for x in [x * 2 for x in range(5)]]]\n",
        "lst"
      ],
      "id": "7bc9f6ed",
      "execution_count": null,
      "outputs": [
        {
          "output_type": "execute_result",
          "data": {
            "text/plain": [
              "[0, 18, 36, 54, 72]"
            ]
          },
          "metadata": {
            "tags": []
          },
          "execution_count": 14
        }
      ]
    },
    {
      "cell_type": "code",
      "metadata": {
        "id": "dbfd9ba1",
        "outputId": "b853b55f-7c21-4267-bf6e-c5093ed6f682"
      },
      "source": [
        "'''h(x) = 2 * x\n",
        "   g(x) = 3 * x + 1\n",
        "   f(x) = x **2 + 2\n",
        "    f(g(h(x)))\n",
        "    h(g(f(x)))\n",
        "    g(h(f(x)))'''\n",
        "lst1=[x**2 + 2 for x in [3*x +1 for x in [2*x for x in range(5)]]]\n",
        "lst2=[2*x for x in [3*x +1 for x in [ x**2 + 2 for x in range(5)]]]\n",
        "lst3=[3*x +1 for x in [ 2*x for x in [ x**2 + 2 for x in range(5)]]]\n",
        "print(lst1, lst2, lst3, sep = '\\n')"
      ],
      "id": "dbfd9ba1",
      "execution_count": null,
      "outputs": [
        {
          "output_type": "stream",
          "text": [
            "[3, 51, 171, 363, 627]\n",
            "[14, 20, 38, 68, 110]\n",
            "[13, 19, 37, 67, 109]\n"
          ],
          "name": "stdout"
        }
      ]
    },
    {
      "cell_type": "code",
      "metadata": {
        "id": "fe6d6e8f",
        "outputId": "db4385a1-0cba-464c-f1b3-c0e63f17ca0a"
      },
      "source": [
        "lst = [[0,1,2,3,4] for x in range(5)]\n",
        "lst"
      ],
      "id": "fe6d6e8f",
      "execution_count": null,
      "outputs": [
        {
          "output_type": "execute_result",
          "data": {
            "text/plain": [
              "[[0, 1, 2, 3, 4],\n",
              " [0, 1, 2, 3, 4],\n",
              " [0, 1, 2, 3, 4],\n",
              " [0, 1, 2, 3, 4],\n",
              " [0, 1, 2, 3, 4]]"
            ]
          },
          "metadata": {
            "tags": []
          },
          "execution_count": 23
        }
      ]
    },
    {
      "cell_type": "code",
      "metadata": {
        "id": "c1ced18d",
        "outputId": "342419c9-5ffa-4660-dd7d-5abf9876a1fa"
      },
      "source": [
        "lst = [[[x for x in range(10)] for x in range(5)] for x in range(3)]\n",
        "lst"
      ],
      "id": "c1ced18d",
      "execution_count": null,
      "outputs": [
        {
          "output_type": "execute_result",
          "data": {
            "text/plain": [
              "[[[0, 1, 2, 3, 4, 5, 6, 7, 8, 9],\n",
              "  [0, 1, 2, 3, 4, 5, 6, 7, 8, 9],\n",
              "  [0, 1, 2, 3, 4, 5, 6, 7, 8, 9],\n",
              "  [0, 1, 2, 3, 4, 5, 6, 7, 8, 9],\n",
              "  [0, 1, 2, 3, 4, 5, 6, 7, 8, 9]],\n",
              " [[0, 1, 2, 3, 4, 5, 6, 7, 8, 9],\n",
              "  [0, 1, 2, 3, 4, 5, 6, 7, 8, 9],\n",
              "  [0, 1, 2, 3, 4, 5, 6, 7, 8, 9],\n",
              "  [0, 1, 2, 3, 4, 5, 6, 7, 8, 9],\n",
              "  [0, 1, 2, 3, 4, 5, 6, 7, 8, 9]],\n",
              " [[0, 1, 2, 3, 4, 5, 6, 7, 8, 9],\n",
              "  [0, 1, 2, 3, 4, 5, 6, 7, 8, 9],\n",
              "  [0, 1, 2, 3, 4, 5, 6, 7, 8, 9],\n",
              "  [0, 1, 2, 3, 4, 5, 6, 7, 8, 9],\n",
              "  [0, 1, 2, 3, 4, 5, 6, 7, 8, 9]]]"
            ]
          },
          "metadata": {
            "tags": []
          },
          "execution_count": 25
        }
      ]
    },
    {
      "cell_type": "code",
      "metadata": {
        "id": "3dd93621"
      },
      "source": [
        "lst = ['Hello', 'Yolo', 'Ubiquitous', 'Crime', 'Master', 'Gogo', 'Ignite']"
      ],
      "id": "3dd93621",
      "execution_count": null,
      "outputs": []
    },
    {
      "cell_type": "code",
      "metadata": {
        "id": "efd07d8b",
        "outputId": "8d8d6e9f-194b-4089-bd66-eeb51743a0d4"
      },
      "source": [
        "vow = [word for word in lst if word[0] in 'AEIOU']\n",
        "vow"
      ],
      "id": "efd07d8b",
      "execution_count": null,
      "outputs": [
        {
          "output_type": "execute_result",
          "data": {
            "text/plain": [
              "['Ubiquitous', 'Ignite']"
            ]
          },
          "metadata": {
            "tags": []
          },
          "execution_count": 28
        }
      ]
    },
    {
      "cell_type": "code",
      "metadata": {
        "id": "fcb57a25",
        "outputId": "6e42455e-4e71-4150-eb64-e34b5fabbbd0"
      },
      "source": [
        "l1 = [word for word in lst if len(word)%2 ==0]\n",
        "l1"
      ],
      "id": "fcb57a25",
      "execution_count": null,
      "outputs": [
        {
          "output_type": "execute_result",
          "data": {
            "text/plain": [
              "['Yolo', 'Ubiquitous', 'Master', 'Gogo', 'Ignite']"
            ]
          },
          "metadata": {
            "tags": []
          },
          "execution_count": 29
        }
      ]
    },
    {
      "cell_type": "code",
      "metadata": {
        "id": "f0e178c5"
      },
      "source": [
        ""
      ],
      "id": "f0e178c5",
      "execution_count": null,
      "outputs": []
    }
  ]
}