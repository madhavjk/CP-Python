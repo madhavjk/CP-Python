{
  "nbformat": 4,
  "nbformat_minor": 5,
  "metadata": {
    "kernelspec": {
      "display_name": "Python 3",
      "language": "python",
      "name": "python3"
    },
    "language_info": {
      "codemirror_mode": {
        "name": "ipython",
        "version": 3
      },
      "file_extension": ".py",
      "mimetype": "text/x-python",
      "name": "python",
      "nbconvert_exporter": "python",
      "pygments_lexer": "ipython3",
      "version": "3.8.5"
    },
    "colab": {
      "name": "Session 4 (Loops).ipynb",
      "provenance": [],
      "include_colab_link": true
    }
  },
  "cells": [
    {
      "cell_type": "markdown",
      "metadata": {
        "id": "view-in-github",
        "colab_type": "text"
      },
      "source": [
        "<a href=\"https://colab.research.google.com/github/madhavjk/CP-Python/blob/main/Session_4_(Loops).ipynb\" target=\"_parent\"><img src=\"https://colab.research.google.com/assets/colab-badge.svg\" alt=\"Open In Colab\"/></a>"
      ]
    },
    {
      "cell_type": "markdown",
      "metadata": {
        "id": "45f4573d"
      },
      "source": [
        "# Loops"
      ],
      "id": "45f4573d"
    },
    {
      "cell_type": "markdown",
      "metadata": {
        "id": "b48eb072"
      },
      "source": [
        "## Initialization, Condition, Step (Increment / decrement)"
      ],
      "id": "b48eb072"
    },
    {
      "cell_type": "code",
      "metadata": {
        "id": "277a5c56",
        "outputId": "4e242f11-2e23-4de6-d68e-36edd97eb044"
      },
      "source": [
        "a = 'Hello'\n",
        "for i in a:\n",
        "    print(i, end = ' ')"
      ],
      "id": "277a5c56",
      "execution_count": null,
      "outputs": [
        {
          "output_type": "stream",
          "text": [
            "H e l l o "
          ],
          "name": "stdout"
        }
      ]
    },
    {
      "cell_type": "code",
      "metadata": {
        "id": "bf6501b4",
        "outputId": "0e720726-d993-467c-f787-9c3f4501e229"
      },
      "source": [
        "l = [1,2,3,4,5]\n",
        "for i in l:\n",
        "    print(i, end = ' ')"
      ],
      "id": "bf6501b4",
      "execution_count": null,
      "outputs": [
        {
          "output_type": "stream",
          "text": [
            "1 2 3 4 5 "
          ],
          "name": "stdout"
        }
      ]
    },
    {
      "cell_type": "code",
      "metadata": {
        "id": "dce15c8f",
        "outputId": "4a0ed091-696e-42f8-ec05-a12bd6c364a3"
      },
      "source": [
        "for i in range(0, 11, 1):\n",
        "    print(i, end = ' ')"
      ],
      "id": "dce15c8f",
      "execution_count": null,
      "outputs": [
        {
          "output_type": "stream",
          "text": [
            "0 1 2 3 4 5 6 7 8 9 10 "
          ],
          "name": "stdout"
        }
      ]
    },
    {
      "cell_type": "code",
      "metadata": {
        "id": "43f74db3",
        "outputId": "12b343ed-85c0-483b-91d2-b5a029775864"
      },
      "source": [
        "for i in range(11):\n",
        "    print(i, end = ' ')"
      ],
      "id": "43f74db3",
      "execution_count": null,
      "outputs": [
        {
          "output_type": "stream",
          "text": [
            "0 1 2 3 4 5 6 7 8 9 10 "
          ],
          "name": "stdout"
        }
      ]
    },
    {
      "cell_type": "code",
      "metadata": {
        "id": "4dc2dfad",
        "outputId": "3e6f27de-259a-42bf-95e9-eee6099035ba"
      },
      "source": [
        "a = range(11)\n",
        "for i in a:\n",
        "    print(i, end = ' ')"
      ],
      "id": "4dc2dfad",
      "execution_count": null,
      "outputs": [
        {
          "output_type": "stream",
          "text": [
            "0 1 2 3 4 5 6 7 8 9 10 "
          ],
          "name": "stdout"
        }
      ]
    },
    {
      "cell_type": "code",
      "metadata": {
        "id": "0f8c61d2",
        "outputId": "14266334-06bc-4ba9-c841-28ca90f02637"
      },
      "source": [
        "l = [1,2,3,4,5,6,7,8,9,10]\n",
        "for i in range(len(l)):\n",
        "    print(l[i], end = ' ')"
      ],
      "id": "0f8c61d2",
      "execution_count": null,
      "outputs": [
        {
          "output_type": "stream",
          "text": [
            "1 2 3 4 5 6 7 8 9 10 "
          ],
          "name": "stdout"
        }
      ]
    },
    {
      "cell_type": "code",
      "metadata": {
        "id": "74054643",
        "outputId": "b75a72bb-de22-4cbb-ae0f-a441b9d0b03d"
      },
      "source": [
        "for i in range(4):\n",
        "    for j in range(3):\n",
        "        for k in range(2):\n",
        "            print(i,j,k, end = '   ')\n",
        "            \n",
        "    print()\n"
      ],
      "id": "74054643",
      "execution_count": null,
      "outputs": [
        {
          "output_type": "stream",
          "text": [
            "0 0 0   0 0 1   0 1 0   0 1 1   0 2 0   0 2 1   \n",
            "1 0 0   1 0 1   1 1 0   1 1 1   1 2 0   1 2 1   \n",
            "2 0 0   2 0 1   2 1 0   2 1 1   2 2 0   2 2 1   \n",
            "3 0 0   3 0 1   3 1 0   3 1 1   3 2 0   3 2 1   \n"
          ],
          "name": "stdout"
        }
      ]
    },
    {
      "cell_type": "code",
      "metadata": {
        "id": "da30d961",
        "outputId": "ea1886e2-77a2-479e-8655-22380ab0630b"
      },
      "source": [
        "# Number Pattern\n",
        "for i in range(1,6):\n",
        "    for j in range(1,i+1):\n",
        "        print(j,end =\" \")\n",
        "    print() "
      ],
      "id": "da30d961",
      "execution_count": null,
      "outputs": [
        {
          "output_type": "stream",
          "text": [
            "1 \n",
            "1 2 \n",
            "1 2 3 \n",
            "1 2 3 4 \n",
            "1 2 3 4 5 \n"
          ],
          "name": "stdout"
        }
      ]
    },
    {
      "cell_type": "code",
      "metadata": {
        "id": "0d36727b",
        "outputId": "1776efa3-c152-465c-ed59-73491a72ef1f"
      },
      "source": [
        "# Pyramid pattern\n",
        "n=5\n",
        "for i in range(1,6):\n",
        "    for k in range(n-i):\n",
        "        print(end=' ')\n",
        "    for j in range(1,2*i):\n",
        "        print('#',end='')\n",
        "    print()"
      ],
      "id": "0d36727b",
      "execution_count": null,
      "outputs": [
        {
          "output_type": "stream",
          "text": [
            "    #\n",
            "   ###\n",
            "  #####\n",
            " #######\n",
            "#########\n"
          ],
          "name": "stdout"
        }
      ]
    },
    {
      "cell_type": "code",
      "metadata": {
        "id": "ac87cb5b",
        "outputId": "68407ac2-3919-4047-8b75-ba633e453be2"
      },
      "source": [
        "for i in range(0,5):\n",
        "    for j in range(0,5-i-1):\n",
        "        print(' ',end = \"\")\n",
        "    for k in range(0,2*i+1):\n",
        "        print('#',end = '')\n",
        "    print()"
      ],
      "id": "ac87cb5b",
      "execution_count": null,
      "outputs": [
        {
          "output_type": "stream",
          "text": [
            "    #\n",
            "   ###\n",
            "  #####\n",
            " #######\n",
            "#########\n"
          ],
          "name": "stdout"
        }
      ]
    },
    {
      "cell_type": "code",
      "metadata": {
        "id": "af7ec513",
        "outputId": "a01a5d0e-3e23-4ecc-a36f-1cc2ac2a208b"
      },
      "source": [
        "n=int(input())\n",
        "for i in range(n):\n",
        "    for j in range(n):\n",
        "        if j>i:\n",
        "            print(' ',end=\" \")\n",
        "    for k in range(2*i+1):\n",
        "        print('#',end='')\n",
        "    print()"
      ],
      "id": "af7ec513",
      "execution_count": null,
      "outputs": [
        {
          "output_type": "stream",
          "text": [
            "5\n",
            "        #\n",
            "      ###\n",
            "    #####\n",
            "  #######\n",
            "#########\n"
          ],
          "name": "stdout"
        }
      ]
    },
    {
      "cell_type": "code",
      "metadata": {
        "id": "c237711d",
        "outputId": "3f0ca430-2528-4fad-8bcb-44a112d2f570"
      },
      "source": [
        "n=6\n",
        "for i in range(n,0,-1):\n",
        "    for j in range(n-i):\n",
        "        print(' ',end=\"\")\n",
        "    for k in range(2*i-1):\n",
        "        print('#',end='')\n",
        "    print()"
      ],
      "id": "c237711d",
      "execution_count": null,
      "outputs": [
        {
          "output_type": "stream",
          "text": [
            "###########\n",
            " #########\n",
            "  #######\n",
            "   #####\n",
            "    ###\n",
            "     #\n"
          ],
          "name": "stdout"
        }
      ]
    },
    {
      "cell_type": "markdown",
      "metadata": {
        "id": "7ba291b5"
      },
      "source": [
        "## While Loops"
      ],
      "id": "7ba291b5"
    },
    {
      "cell_type": "code",
      "metadata": {
        "id": "2d957e33",
        "outputId": "c84b1d30-521f-464c-f044-fb12da177500"
      },
      "source": [
        "i = 0\n",
        "while i < 10:\n",
        "    print(i, end = '  ')\n",
        "    i += 1"
      ],
      "id": "2d957e33",
      "execution_count": null,
      "outputs": [
        {
          "output_type": "stream",
          "text": [
            "0  1  2  3  4  5  6  7  8  9  "
          ],
          "name": "stdout"
        }
      ]
    },
    {
      "cell_type": "code",
      "metadata": {
        "id": "f7f343ec",
        "outputId": "9e39564d-8466-4b04-ff7b-de9e71e87937"
      },
      "source": [
        "i = 1\n",
        "while i <= 10:\n",
        "    if i % 2 == 0:\n",
        "        print(i, 'Even')\n",
        "    else:\n",
        "        print(i, 'Odd')\n",
        "    i += 1"
      ],
      "id": "f7f343ec",
      "execution_count": null,
      "outputs": [
        {
          "output_type": "stream",
          "text": [
            "1 Odd\n",
            "2 Even\n",
            "3 Odd\n",
            "4 Even\n",
            "5 Odd\n",
            "6 Even\n",
            "7 Odd\n",
            "8 Even\n",
            "9 Odd\n",
            "10 Even\n"
          ],
          "name": "stdout"
        }
      ]
    },
    {
      "cell_type": "markdown",
      "metadata": {
        "id": "fbeca948"
      },
      "source": [
        "## break"
      ],
      "id": "fbeca948"
    },
    {
      "cell_type": "code",
      "metadata": {
        "id": "b64e16b2",
        "outputId": "94fca336-d604-4e97-a905-9fcd1361f7af"
      },
      "source": [
        "i = 0 \n",
        "while True:\n",
        "    if i == 5:\n",
        "        break\n",
        "    print(i)\n",
        "    i += 1"
      ],
      "id": "b64e16b2",
      "execution_count": null,
      "outputs": [
        {
          "output_type": "stream",
          "text": [
            "0\n",
            "1\n",
            "2\n",
            "3\n",
            "4\n"
          ],
          "name": "stdout"
        }
      ]
    },
    {
      "cell_type": "markdown",
      "metadata": {
        "id": "c4f0cd1e"
      },
      "source": [
        "## continue"
      ],
      "id": "c4f0cd1e"
    },
    {
      "cell_type": "code",
      "metadata": {
        "id": "fba4e2ac",
        "outputId": "f7260d76-b7c6-44c1-d5a7-49bd52f3648f"
      },
      "source": [
        "i = 0\n",
        "while i < 10:\n",
        "    i += 1\n",
        "    if i % 2 == 0:\n",
        "        continue\n",
        "        print(i, 'Even')\n",
        "    else:\n",
        "        print(i, 'Odd')"
      ],
      "id": "fba4e2ac",
      "execution_count": null,
      "outputs": [
        {
          "output_type": "stream",
          "text": [
            "1 Odd\n",
            "2 Even\n",
            "3 Odd\n",
            "4 Even\n",
            "5 Odd\n",
            "6 Even\n",
            "7 Odd\n",
            "8 Even\n",
            "9 Odd\n",
            "10 Even\n"
          ],
          "name": "stdout"
        }
      ]
    },
    {
      "cell_type": "markdown",
      "metadata": {
        "id": "ab9af35e"
      },
      "source": [
        "## pass"
      ],
      "id": "ab9af35e"
    },
    {
      "cell_type": "code",
      "metadata": {
        "id": "2c03baab",
        "outputId": "11f20151-cdeb-4f65-bab0-5cd76cf16862"
      },
      "source": [
        "i = 0\n",
        "while i < 10:\n",
        "    i += 1\n",
        "    if i % 2 == 0:\n",
        "        pass\n",
        "    else:\n",
        "        print(i, 'Odd')\n",
        "    "
      ],
      "id": "2c03baab",
      "execution_count": null,
      "outputs": [
        {
          "output_type": "stream",
          "text": [
            "1 Odd\n",
            "3 Odd\n",
            "5 Odd\n",
            "7 Odd\n",
            "9 Odd\n"
          ],
          "name": "stdout"
        }
      ]
    },
    {
      "cell_type": "code",
      "metadata": {
        "id": "5ee83e44",
        "outputId": "2d361b6a-a4a4-4d8f-b615-0b372d87e94d"
      },
      "source": [
        "i = 0\n",
        "while i < 5:\n",
        "    print(i)\n",
        "    i += 1\n",
        "else:\n",
        "    print('i is greater than 5')"
      ],
      "id": "5ee83e44",
      "execution_count": null,
      "outputs": [
        {
          "output_type": "stream",
          "text": [
            "0\n",
            "1\n",
            "2\n",
            "3\n",
            "4\n",
            "i is greater than 5\n"
          ],
          "name": "stdout"
        }
      ]
    },
    {
      "cell_type": "code",
      "metadata": {
        "id": "1aa03b1b",
        "outputId": "b1bd2f9a-d223-4b08-8bc8-8da0b2517014"
      },
      "source": [
        "for i in range(5):\n",
        "    print(i)\n",
        "else:\n",
        "    print('i is greater than 5')"
      ],
      "id": "1aa03b1b",
      "execution_count": null,
      "outputs": [
        {
          "output_type": "stream",
          "text": [
            "0\n",
            "1\n",
            "2\n",
            "3\n",
            "4\n",
            "i is greater than 5\n"
          ],
          "name": "stdout"
        }
      ]
    },
    {
      "cell_type": "code",
      "metadata": {
        "id": "ec55438f",
        "outputId": "e2b8b339-eac8-425b-fbb0-38352fd30768"
      },
      "source": [
        "i = 0 \n",
        "while i < 5:\n",
        "    if i == 4:\n",
        "        break\n",
        "    print(i)\n",
        "    i += 1\n",
        "else:\n",
        "    print('i is greater than 5')"
      ],
      "id": "ec55438f",
      "execution_count": null,
      "outputs": [
        {
          "output_type": "stream",
          "text": [
            "0\n",
            "1\n",
            "2\n",
            "3\n"
          ],
          "name": "stdout"
        }
      ]
    },
    {
      "cell_type": "code",
      "metadata": {
        "id": "5402ab11",
        "outputId": "e800b3c8-8640-41f8-ddee-39905b7fcc51"
      },
      "source": [
        "n = 23\n",
        "for i in range(2, int(n**0.5)+ 1):\n",
        "    if n % i == 0:\n",
        "        print('Not Prime')\n",
        "        break\n",
        "else:\n",
        "    print('Prime')"
      ],
      "id": "5402ab11",
      "execution_count": null,
      "outputs": [
        {
          "output_type": "stream",
          "text": [
            "Prime\n"
          ],
          "name": "stdout"
        }
      ]
    },
    {
      "cell_type": "code",
      "metadata": {
        "id": "aed27a3b"
      },
      "source": [
        ""
      ],
      "id": "aed27a3b",
      "execution_count": null,
      "outputs": []
    }
  ]
}