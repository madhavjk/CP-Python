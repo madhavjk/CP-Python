{
  "nbformat": 4,
  "nbformat_minor": 5,
  "metadata": {
    "kernelspec": {
      "display_name": "Python 3",
      "language": "python",
      "name": "python3"
    },
    "language_info": {
      "codemirror_mode": {
        "name": "ipython",
        "version": 3
      },
      "file_extension": ".py",
      "mimetype": "text/x-python",
      "name": "python",
      "nbconvert_exporter": "python",
      "pygments_lexer": "ipython3",
      "version": "3.8.5"
    },
    "colab": {
      "name": "Session 13 ( Arrays and Searching ).ipynb",
      "provenance": [],
      "include_colab_link": true
    }
  },
  "cells": [
    {
      "cell_type": "markdown",
      "metadata": {
        "id": "view-in-github",
        "colab_type": "text"
      },
      "source": [
        "<a href=\"https://colab.research.google.com/github/madhavjk/CP-Python/blob/main/Session_13_(_Arrays_and_Searching_).ipynb\" target=\"_parent\"><img src=\"https://colab.research.google.com/assets/colab-badge.svg\" alt=\"Open In Colab\"/></a>"
      ]
    },
    {
      "cell_type": "code",
      "metadata": {
        "id": "7d3fc881",
        "outputId": "52b81615-8eca-4e3e-83d1-163176bc6bd1"
      },
      "source": [
        "l = [1,2,3,4,5]\n",
        "l1 = l\n",
        "l1[4] = 6\n",
        "print(l1)\n",
        "print(l)"
      ],
      "id": "7d3fc881",
      "execution_count": null,
      "outputs": [
        {
          "output_type": "stream",
          "text": [
            "[1, 2, 3, 4, 6]\n",
            "[1, 2, 3, 4, 6]\n"
          ],
          "name": "stdout"
        }
      ]
    },
    {
      "cell_type": "code",
      "metadata": {
        "id": "f7c6dd36"
      },
      "source": [
        "def insert(a , x):\n",
        "    a.append(x)\n",
        "    return a"
      ],
      "id": "f7c6dd36",
      "execution_count": null,
      "outputs": []
    },
    {
      "cell_type": "code",
      "metadata": {
        "id": "6e3a9afd",
        "outputId": "8405404b-8df3-4ac2-8e41-6a66fa16ee0a"
      },
      "source": [
        "insert([1,2,3],4)\n"
      ],
      "id": "6e3a9afd",
      "execution_count": null,
      "outputs": [
        {
          "output_type": "execute_result",
          "data": {
            "text/plain": [
              "[1, 2, 3, 4]"
            ]
          },
          "metadata": {
            "tags": []
          },
          "execution_count": 5
        }
      ]
    },
    {
      "cell_type": "code",
      "metadata": {
        "id": "bf6ae383"
      },
      "source": [
        "def beg_insert(a, x):\n",
        "    a.append(0)\n",
        "    print(a)\n",
        "    for i in range((len(a)-1),0,-1):\n",
        "        a[i] = a[i-1]\n",
        "        print(a)\n",
        "    print(a)\n",
        "    a[0] = x\n",
        "    return a"
      ],
      "id": "bf6ae383",
      "execution_count": null,
      "outputs": []
    },
    {
      "cell_type": "code",
      "metadata": {
        "id": "8f5efb05",
        "outputId": "89a7d28b-aa83-4b9a-eca1-cca9f1414718"
      },
      "source": [
        "a = [1,2,3,4,5,6,7,8,9]\n",
        "beg_insert(a,0)"
      ],
      "id": "8f5efb05",
      "execution_count": null,
      "outputs": [
        {
          "output_type": "stream",
          "text": [
            "[1, 2, 3, 4, 5, 6, 7, 8, 9, 0]\n",
            "[1, 2, 3, 4, 5, 6, 7, 8, 9, 9]\n",
            "[1, 2, 3, 4, 5, 6, 7, 8, 8, 9]\n",
            "[1, 2, 3, 4, 5, 6, 7, 7, 8, 9]\n",
            "[1, 2, 3, 4, 5, 6, 6, 7, 8, 9]\n",
            "[1, 2, 3, 4, 5, 5, 6, 7, 8, 9]\n",
            "[1, 2, 3, 4, 4, 5, 6, 7, 8, 9]\n",
            "[1, 2, 3, 3, 4, 5, 6, 7, 8, 9]\n",
            "[1, 2, 2, 3, 4, 5, 6, 7, 8, 9]\n",
            "[1, 1, 2, 3, 4, 5, 6, 7, 8, 9]\n",
            "[1, 1, 2, 3, 4, 5, 6, 7, 8, 9]\n"
          ],
          "name": "stdout"
        },
        {
          "output_type": "execute_result",
          "data": {
            "text/plain": [
              "[0, 1, 2, 3, 4, 5, 6, 7, 8, 9]"
            ]
          },
          "metadata": {
            "tags": []
          },
          "execution_count": 11
        }
      ]
    },
    {
      "cell_type": "code",
      "metadata": {
        "id": "37b0c6e3"
      },
      "source": [
        "def insert(a,x, index):\n",
        "    a.append(0)\n",
        "    for i in range(len(a)-1, index, -1):\n",
        "        a[i] = a[i-1]\n",
        "    a[index] = x\n",
        "    return a"
      ],
      "id": "37b0c6e3",
      "execution_count": null,
      "outputs": []
    },
    {
      "cell_type": "code",
      "metadata": {
        "id": "28ec5e60",
        "outputId": "7d09956c-9138-423e-84d3-237f4d1f52ae"
      },
      "source": [
        "insert(a, 14, 5)"
      ],
      "id": "28ec5e60",
      "execution_count": null,
      "outputs": [
        {
          "output_type": "execute_result",
          "data": {
            "text/plain": [
              "[0, 1, 2, 3, 4, 14, 5, 6, 7, 8, 9]"
            ]
          },
          "metadata": {
            "tags": []
          },
          "execution_count": 13
        }
      ]
    },
    {
      "cell_type": "code",
      "metadata": {
        "id": "f1782286"
      },
      "source": [
        "def sec_largest(l):\n",
        "    maxx = 0\n",
        "    sec_max = 0\n",
        "    for i in l:\n",
        "        if i >= maxx:\n",
        "            sec_max = maxx\n",
        "            maxx = i\n",
        "        elif i < maxx and i > sec_max:\n",
        "            sec_max = i\n",
        "    return sec_max"
      ],
      "id": "f1782286",
      "execution_count": null,
      "outputs": []
    },
    {
      "cell_type": "code",
      "metadata": {
        "id": "f4aee048",
        "outputId": "78e57185-f361-47d7-de19-657651ccc866"
      },
      "source": [
        "sec_largest([1,2,3,4,5,11,6,7,8,11,7,8])"
      ],
      "id": "f4aee048",
      "execution_count": null,
      "outputs": [
        {
          "output_type": "execute_result",
          "data": {
            "text/plain": [
              "11"
            ]
          },
          "metadata": {
            "tags": []
          },
          "execution_count": 16
        }
      ]
    },
    {
      "cell_type": "code",
      "metadata": {
        "id": "76efaaf4"
      },
      "source": [
        "def find(arr,n):\n",
        "    for i in range(len(arr)):\n",
        "        if arr[i]==n:\n",
        "            return True\n",
        "    return False"
      ],
      "id": "76efaaf4",
      "execution_count": null,
      "outputs": []
    },
    {
      "cell_type": "code",
      "metadata": {
        "id": "3e29a5ae"
      },
      "source": [
        "def binary_search(a, x):\n",
        "    low = 0\n",
        "    high = len(a) - 1\n",
        "    \n",
        "    while low <= high:\n",
        "        mid = (low + high)//2\n",
        "        if a[mid] == x:\n",
        "            return True\n",
        "        elif a[mid] > x:\n",
        "            high = mid - 1\n",
        "        else:\n",
        "            low = mid + 1\n",
        "    else:\n",
        "        return False"
      ],
      "id": "3e29a5ae",
      "execution_count": null,
      "outputs": []
    },
    {
      "cell_type": "code",
      "metadata": {
        "id": "40f2ae0f",
        "outputId": "d77084e0-81f7-46a8-e5fa-db44232e02c0"
      },
      "source": [
        "binary_search([1,2,3,5,8], 6)"
      ],
      "id": "40f2ae0f",
      "execution_count": null,
      "outputs": [
        {
          "output_type": "execute_result",
          "data": {
            "text/plain": [
              "False"
            ]
          },
          "metadata": {
            "tags": []
          },
          "execution_count": 20
        }
      ]
    },
    {
      "cell_type": "code",
      "metadata": {
        "id": "64e1ea89",
        "outputId": "c6017e03-b293-4d8f-d62b-ef2601a8c685"
      },
      "source": [
        "binary_search([1,2,3,5,8], 5)"
      ],
      "id": "64e1ea89",
      "execution_count": null,
      "outputs": [
        {
          "output_type": "execute_result",
          "data": {
            "text/plain": [
              "True"
            ]
          },
          "metadata": {
            "tags": []
          },
          "execution_count": 21
        }
      ]
    },
    {
      "cell_type": "code",
      "metadata": {
        "id": "076ef98c"
      },
      "source": [
        ""
      ],
      "id": "076ef98c",
      "execution_count": null,
      "outputs": []
    }
  ]
}