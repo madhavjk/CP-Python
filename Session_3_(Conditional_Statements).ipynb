{
  "nbformat": 4,
  "nbformat_minor": 5,
  "metadata": {
    "kernelspec": {
      "display_name": "Python 3",
      "language": "python",
      "name": "python3"
    },
    "language_info": {
      "codemirror_mode": {
        "name": "ipython",
        "version": 3
      },
      "file_extension": ".py",
      "mimetype": "text/x-python",
      "name": "python",
      "nbconvert_exporter": "python",
      "pygments_lexer": "ipython3",
      "version": "3.8.5"
    },
    "colab": {
      "name": "Session 3 (Conditional Statements).ipynb",
      "provenance": [],
      "include_colab_link": true
    }
  },
  "cells": [
    {
      "cell_type": "markdown",
      "metadata": {
        "id": "view-in-github",
        "colab_type": "text"
      },
      "source": [
        "<a href=\"https://colab.research.google.com/github/madhavjk/CP-Python/blob/main/Session_3_(Conditional_Statements).ipynb\" target=\"_parent\"><img src=\"https://colab.research.google.com/assets/colab-badge.svg\" alt=\"Open In Colab\"/></a>"
      ]
    },
    {
      "cell_type": "markdown",
      "metadata": {
        "id": "12d24fb5"
      },
      "source": [
        "<h2> Table of Comparison Operators </h2><p>  In the table below, a=3 and b=4.</p>\n",
        "\n",
        "<table class=\"table table-bordered\">\n",
        "<tr>\n",
        "<th style=\"width:10%\">Operator</th><th style=\"width:45%\">Description</th><th>Example</th>\n",
        "</tr>\n",
        "<tr>\n",
        "<td>==</td>\n",
        "<td>If the values of two operands are equal, then the condition becomes true.</td>\n",
        "<td> (a == b) is not true.</td>\n",
        "</tr>\n",
        "<tr>\n",
        "<td>!=</td>\n",
        "<td>If values of two operands are not equal, then condition becomes true.</td>\n",
        "<td>(a != b) is true</td>\n",
        "</tr>\n",
        "<tr>\n",
        "<td>&gt;</td>\n",
        "<td>If the value of left operand is greater than the value of right operand, then condition becomes true.</td>\n",
        "<td> (a &gt; b) is not true.</td>\n",
        "</tr>\n",
        "<tr>\n",
        "<td>&lt;</td>\n",
        "<td>If the value of left operand is less than the value of right operand, then condition becomes true.</td>\n",
        "<td> (a &lt; b) is true.</td>\n",
        "</tr>\n",
        "<tr>\n",
        "<td>&gt;=</td>\n",
        "<td>If the value of left operand is greater than or equal to the value of right operand, then condition becomes true.</td>\n",
        "<td> (a &gt;= b) is not true. </td>\n",
        "</tr>\n",
        "<tr>\n",
        "<td>&lt;=</td>\n",
        "<td>If the value of left operand is less than or equal to the value of right operand, then condition becomes true.</td>\n",
        "<td> (a &lt;= b) is true. </td>\n",
        "</tr>\n",
        "</table>"
      ],
      "id": "12d24fb5"
    },
    {
      "cell_type": "code",
      "metadata": {
        "id": "5742558e",
        "outputId": "55061f59-2a07-407e-984c-64d2f8a6bdbc"
      },
      "source": [
        "a = 5\n",
        "b = 5\n",
        "a == b"
      ],
      "id": "5742558e",
      "execution_count": null,
      "outputs": [
        {
          "output_type": "execute_result",
          "data": {
            "text/plain": [
              "True"
            ]
          },
          "metadata": {
            "tags": []
          },
          "execution_count": 1
        }
      ]
    },
    {
      "cell_type": "code",
      "metadata": {
        "id": "2f68d63e",
        "outputId": "30f8cd67-58f5-4ca1-90c3-bf2c00931c93"
      },
      "source": [
        "a < b"
      ],
      "id": "2f68d63e",
      "execution_count": null,
      "outputs": [
        {
          "output_type": "execute_result",
          "data": {
            "text/plain": [
              "False"
            ]
          },
          "metadata": {
            "tags": []
          },
          "execution_count": 2
        }
      ]
    },
    {
      "cell_type": "code",
      "metadata": {
        "id": "88573403",
        "outputId": "ce26ccf2-b589-48f7-e2cd-3a8a8a85ac60"
      },
      "source": [
        "a > b"
      ],
      "id": "88573403",
      "execution_count": null,
      "outputs": [
        {
          "output_type": "execute_result",
          "data": {
            "text/plain": [
              "False"
            ]
          },
          "metadata": {
            "tags": []
          },
          "execution_count": 3
        }
      ]
    },
    {
      "cell_type": "code",
      "metadata": {
        "id": "f43b39e0",
        "outputId": "2b051650-f00b-416b-a003-8b475fdd0abb"
      },
      "source": [
        "a <= b"
      ],
      "id": "f43b39e0",
      "execution_count": null,
      "outputs": [
        {
          "output_type": "execute_result",
          "data": {
            "text/plain": [
              "True"
            ]
          },
          "metadata": {
            "tags": []
          },
          "execution_count": 4
        }
      ]
    },
    {
      "cell_type": "code",
      "metadata": {
        "id": "8c45cbaa",
        "outputId": "679267c4-58cd-4655-8162-c6b67c969dfd"
      },
      "source": [
        "a >= b"
      ],
      "id": "8c45cbaa",
      "execution_count": null,
      "outputs": [
        {
          "output_type": "execute_result",
          "data": {
            "text/plain": [
              "True"
            ]
          },
          "metadata": {
            "tags": []
          },
          "execution_count": 5
        }
      ]
    },
    {
      "cell_type": "code",
      "metadata": {
        "id": "37ff3715",
        "outputId": "d7869bb5-de6a-4181-a943-a46ecf65ff4a"
      },
      "source": [
        "a != b"
      ],
      "id": "37ff3715",
      "execution_count": null,
      "outputs": [
        {
          "output_type": "execute_result",
          "data": {
            "text/plain": [
              "False"
            ]
          },
          "metadata": {
            "tags": []
          },
          "execution_count": 6
        }
      ]
    },
    {
      "cell_type": "markdown",
      "metadata": {
        "id": "9acbb0c5"
      },
      "source": [
        "# Chained Comparison Operators\n",
        "\n",
        "An interesting feature of Python is the ability to *chain* multiple comparisons to perform a more complex test. You can use these chained comparisons as shorthand for larger Boolean Expressions.\n",
        "\n",
        "In this lecture we will learn how to chain comparison operators and we will also introduce two other important statements in Python: **and** and **or**."
      ],
      "id": "9acbb0c5"
    },
    {
      "cell_type": "code",
      "metadata": {
        "id": "c3c60250",
        "outputId": "32d8b738-8047-4819-866a-058c8b7fe903"
      },
      "source": [
        "1 < 2 < 3"
      ],
      "id": "c3c60250",
      "execution_count": null,
      "outputs": [
        {
          "output_type": "execute_result",
          "data": {
            "text/plain": [
              "True"
            ]
          },
          "metadata": {
            "tags": []
          },
          "execution_count": 7
        }
      ]
    },
    {
      "cell_type": "code",
      "metadata": {
        "id": "471eb474",
        "outputId": "a21f8c3b-5794-421a-a351-522b0acd5402"
      },
      "source": [
        "1 < 2 and 2 < 3"
      ],
      "id": "471eb474",
      "execution_count": null,
      "outputs": [
        {
          "output_type": "execute_result",
          "data": {
            "text/plain": [
              "True"
            ]
          },
          "metadata": {
            "tags": []
          },
          "execution_count": 8
        }
      ]
    },
    {
      "cell_type": "code",
      "metadata": {
        "id": "87e9bfca",
        "outputId": "320fa911-8ede-42da-8fb2-388a6d21f67e"
      },
      "source": [
        "1 < 2 > 3 < 4 < 5"
      ],
      "id": "87e9bfca",
      "execution_count": null,
      "outputs": [
        {
          "output_type": "execute_result",
          "data": {
            "text/plain": [
              "False"
            ]
          },
          "metadata": {
            "tags": []
          },
          "execution_count": 10
        }
      ]
    },
    {
      "cell_type": "code",
      "metadata": {
        "id": "8bca49a9",
        "outputId": "63013391-7137-4562-f3f6-4f26e153507a"
      },
      "source": [
        "1 < 2 or 2 > 3"
      ],
      "id": "8bca49a9",
      "execution_count": null,
      "outputs": [
        {
          "output_type": "execute_result",
          "data": {
            "text/plain": [
              "True"
            ]
          },
          "metadata": {
            "tags": []
          },
          "execution_count": 11
        }
      ]
    },
    {
      "cell_type": "code",
      "metadata": {
        "id": "52633f08",
        "outputId": "dfcdcf2f-7279-4578-c93f-8861f5453ed8"
      },
      "source": [
        "not True"
      ],
      "id": "52633f08",
      "execution_count": null,
      "outputs": [
        {
          "output_type": "execute_result",
          "data": {
            "text/plain": [
              "False"
            ]
          },
          "metadata": {
            "tags": []
          },
          "execution_count": 12
        }
      ]
    },
    {
      "cell_type": "code",
      "metadata": {
        "id": "121c84be"
      },
      "source": [
        ""
      ],
      "id": "121c84be",
      "execution_count": null,
      "outputs": []
    },
    {
      "cell_type": "markdown",
      "metadata": {
        "id": "fcb71cbf"
      },
      "source": [
        "# Conditional Statements"
      ],
      "id": "fcb71cbf"
    },
    {
      "cell_type": "markdown",
      "metadata": {
        "id": "aaf4dddd"
      },
      "source": [
        "## if"
      ],
      "id": "aaf4dddd"
    },
    {
      "cell_type": "code",
      "metadata": {
        "id": "972478b9",
        "outputId": "40c10a5a-d7da-4301-9940-4a2c7436472b"
      },
      "source": [
        "if True:\n",
        "    print('Hello')"
      ],
      "id": "972478b9",
      "execution_count": null,
      "outputs": [
        {
          "output_type": "stream",
          "text": [
            "Hello\n"
          ],
          "name": "stdout"
        }
      ]
    },
    {
      "cell_type": "code",
      "metadata": {
        "id": "220b078e"
      },
      "source": [
        "a = False\n",
        "if a:\n",
        "    print('Hello')"
      ],
      "id": "220b078e",
      "execution_count": null,
      "outputs": []
    },
    {
      "cell_type": "code",
      "metadata": {
        "id": "88b2c742",
        "outputId": "ac4a8389-58a0-4bb5-b4d0-442030607742"
      },
      "source": [
        "a = 5\n",
        "b = 6\n",
        "if b>a:\n",
        "    print(b)"
      ],
      "id": "88b2c742",
      "execution_count": null,
      "outputs": [
        {
          "output_type": "stream",
          "text": [
            "6\n"
          ],
          "name": "stdout"
        }
      ]
    },
    {
      "cell_type": "markdown",
      "metadata": {
        "id": "e1225d59"
      },
      "source": [
        "# if else"
      ],
      "id": "e1225d59"
    },
    {
      "cell_type": "code",
      "metadata": {
        "id": "3c8660dd",
        "outputId": "095a6273-8d13-4f55-b5a7-9b7c8551e123"
      },
      "source": [
        "a = 5\n",
        "b = 6\n",
        "if a > b:\n",
        "    print(a)\n",
        "else:\n",
        "    print(b)"
      ],
      "id": "3c8660dd",
      "execution_count": null,
      "outputs": [
        {
          "output_type": "stream",
          "text": [
            "6\n"
          ],
          "name": "stdout"
        }
      ]
    },
    {
      "cell_type": "code",
      "metadata": {
        "id": "0e33b0c0",
        "outputId": "f746c1d1-0efc-41e7-bfe1-149cb78140a4"
      },
      "source": [
        "id = 101\n",
        "password = 12345\n",
        "if id == 101 and password == 12345:\n",
        "    print('Access Granted')"
      ],
      "id": "0e33b0c0",
      "execution_count": null,
      "outputs": [
        {
          "output_type": "stream",
          "text": [
            "Access Granted\n"
          ],
          "name": "stdout"
        }
      ]
    },
    {
      "cell_type": "code",
      "metadata": {
        "id": "df3f728e",
        "outputId": "2f654ee4-0334-40b2-b803-2cb9e7a2dbcb"
      },
      "source": [
        "name = 'Mr x'\n",
        "if name == 'Tom':\n",
        "    print( 'hello Tom')\n",
        "elif name == 'John':\n",
        "    print( 'hello John')\n",
        "elif name == 'Sam':\n",
        "    print('hello Sam')\n",
        "elif name == ' Munnalal':\n",
        "    print(\"Ram Ram Munnalal\")\n",
        "else:\n",
        "    print(' Hello whoever it is')"
      ],
      "id": "df3f728e",
      "execution_count": null,
      "outputs": [
        {
          "output_type": "stream",
          "text": [
            " Hello whoever it is\n"
          ],
          "name": "stdout"
        }
      ]
    },
    {
      "cell_type": "code",
      "metadata": {
        "id": "850a156a",
        "outputId": "21645eeb-20f2-453c-fe43-02d43652ef4f"
      },
      "source": [
        "if True:\n",
        "    if 3 < 2:\n",
        "        print('Hello')\n",
        "    else: \n",
        "        print('Hi')"
      ],
      "id": "850a156a",
      "execution_count": null,
      "outputs": [
        {
          "output_type": "stream",
          "text": [
            "Hi\n"
          ],
          "name": "stdout"
        }
      ]
    },
    {
      "cell_type": "code",
      "metadata": {
        "id": "3cb36936",
        "outputId": "0a2df479-6e79-4230-ef21-73cac424a051"
      },
      "source": [
        "a1 = int(input(\"Enter first num: \"))\n",
        "a2 = int(input(\"Enter sec num: \"))\n",
        "op = input(\"enter +,- or *: \")\n",
        "\n",
        "if op=='+':\n",
        "    print(a1+a2)\n",
        "elif op=='-':\n",
        "    print(a1-a2)\n",
        "elif op=='*':\n",
        "    print(a1*a2)\n",
        "else:\n",
        "    print(\"wrong operator\")"
      ],
      "id": "3cb36936",
      "execution_count": null,
      "outputs": [
        {
          "output_type": "stream",
          "text": [
            "Enter first num: 10\n",
            "Enter sec num: 5\n",
            "enter +,- or *: *\n",
            "50\n"
          ],
          "name": "stdout"
        }
      ]
    },
    {
      "cell_type": "code",
      "metadata": {
        "id": "afa7e98d"
      },
      "source": [
        ""
      ],
      "id": "afa7e98d",
      "execution_count": null,
      "outputs": []
    }
  ]
}