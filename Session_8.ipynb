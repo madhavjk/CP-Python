{
  "nbformat": 4,
  "nbformat_minor": 5,
  "metadata": {
    "kernelspec": {
      "display_name": "Python 3",
      "language": "python",
      "name": "python3"
    },
    "language_info": {
      "codemirror_mode": {
        "name": "ipython",
        "version": 3
      },
      "file_extension": ".py",
      "mimetype": "text/x-python",
      "name": "python",
      "nbconvert_exporter": "python",
      "pygments_lexer": "ipython3",
      "version": "3.8.5"
    },
    "colab": {
      "name": "Session 8.ipynb",
      "provenance": [],
      "include_colab_link": true
    }
  },
  "cells": [
    {
      "cell_type": "markdown",
      "metadata": {
        "id": "view-in-github",
        "colab_type": "text"
      },
      "source": [
        "<a href=\"https://colab.research.google.com/github/madhavjk/CP-Python/blob/main/Session_8.ipynb\" target=\"_parent\"><img src=\"https://colab.research.google.com/assets/colab-badge.svg\" alt=\"Open In Colab\"/></a>"
      ]
    },
    {
      "cell_type": "code",
      "metadata": {
        "id": "2428be7f"
      },
      "source": [
        "# Approach 1\n",
        "def lcm(x,y):\n",
        "    count = 0\n",
        "    if x > y:\n",
        "        greater = x\n",
        "    else:\n",
        "        greater = y\n",
        "        \n",
        "    while True:\n",
        "        count += 1\n",
        "        if greater % x == 0 and greater % y == 0:\n",
        "            lcm = greater\n",
        "            break\n",
        "        greater += 1\n",
        "    \n",
        "    print('LCM : ', greater)\n",
        "    print(\"No of steps: \", count)\n",
        "    "
      ],
      "id": "2428be7f",
      "execution_count": null,
      "outputs": []
    },
    {
      "cell_type": "code",
      "metadata": {
        "id": "0ef980a4",
        "outputId": "77da8e08-1314-4417-b0a2-70ddac092c60"
      },
      "source": [
        "lcm(4,5)"
      ],
      "id": "0ef980a4",
      "execution_count": null,
      "outputs": [
        {
          "output_type": "stream",
          "text": [
            "LCM :  20\n",
            "No of steps:  16\n"
          ],
          "name": "stdout"
        }
      ]
    },
    {
      "cell_type": "code",
      "metadata": {
        "id": "aaece374",
        "outputId": "0431ad5f-946f-49c0-bdc8-06a7ccb7fe46"
      },
      "source": [
        "lcm(13,5)"
      ],
      "id": "aaece374",
      "execution_count": null,
      "outputs": [
        {
          "output_type": "stream",
          "text": [
            "LCM :  65\n",
            "No of steps:  53\n"
          ],
          "name": "stdout"
        }
      ]
    },
    {
      "cell_type": "code",
      "metadata": {
        "id": "8a87f104",
        "outputId": "95cb7b3a-9d06-4c90-f7c2-51cc6c1c717c"
      },
      "source": [
        "lcm(19, 57)"
      ],
      "id": "8a87f104",
      "execution_count": null,
      "outputs": [
        {
          "output_type": "stream",
          "text": [
            "LCM :  57\n",
            "No of steps:  1\n"
          ],
          "name": "stdout"
        }
      ]
    },
    {
      "cell_type": "code",
      "metadata": {
        "id": "9238466b",
        "outputId": "de2d8251-9be3-4db4-e7e8-a7c196e70c8e"
      },
      "source": [
        "lcm(200,200)"
      ],
      "id": "9238466b",
      "execution_count": null,
      "outputs": [
        {
          "output_type": "stream",
          "text": [
            "LCM :  200\n",
            "No of steps:  1\n"
          ],
          "name": "stdout"
        }
      ]
    },
    {
      "cell_type": "code",
      "metadata": {
        "id": "ea150670"
      },
      "source": [
        "# Approach 2\n",
        "def lcm(x,y):\n",
        "    count = 0\n",
        "    greater = max(x,y)\n",
        "    \n",
        "    i = 1\n",
        "    while True:\n",
        "        count += 1\n",
        "        a = greater * i\n",
        "        if a % x ==0 and a % y == 0:\n",
        "            lcm = a\n",
        "            break\n",
        "        i += 1\n",
        "    \n",
        "    print('LCM : ', lcm)\n",
        "    print(\"No of steps: \", count)"
      ],
      "id": "ea150670",
      "execution_count": null,
      "outputs": []
    },
    {
      "cell_type": "code",
      "metadata": {
        "id": "2508aa79",
        "outputId": "6d37ca41-aa3b-4c4d-f8c9-4b9c228b7024"
      },
      "source": [
        "lcm(4,5)"
      ],
      "id": "2508aa79",
      "execution_count": null,
      "outputs": [
        {
          "output_type": "stream",
          "text": [
            "LCM :  20\n",
            "No of steps:  4\n"
          ],
          "name": "stdout"
        }
      ]
    },
    {
      "cell_type": "code",
      "metadata": {
        "id": "e8a7eb01",
        "outputId": "a67e4706-1b73-4261-d065-01cda3e2ef4c"
      },
      "source": [
        "lcm(13,5)"
      ],
      "id": "e8a7eb01",
      "execution_count": null,
      "outputs": [
        {
          "output_type": "stream",
          "text": [
            "LCM :  65\n",
            "No of steps:  5\n"
          ],
          "name": "stdout"
        }
      ]
    },
    {
      "cell_type": "markdown",
      "metadata": {
        "id": "3a11857c"
      },
      "source": [
        "# GCD\n"
      ],
      "id": "3a11857c"
    },
    {
      "cell_type": "code",
      "metadata": {
        "id": "a2f93361"
      },
      "source": [
        "# Approach 1\n",
        "def gcd(x,y):\n",
        "    count = 0\n",
        "    smaller = min(x,y)\n",
        "    for i in range(smaller,0,-1):\n",
        "        count += 1\n",
        "        if x % i == 0 and y % i == 0:\n",
        "            gcd = i\n",
        "            break\n",
        "    \n",
        "    print('GCD :', gcd)\n",
        "    print('Number of steps: ', count)"
      ],
      "id": "a2f93361",
      "execution_count": null,
      "outputs": []
    },
    {
      "cell_type": "code",
      "metadata": {
        "id": "978f1355",
        "outputId": "357c3291-31dc-4a0d-faa5-831547652e89"
      },
      "source": [
        "gcd(35,15)"
      ],
      "id": "978f1355",
      "execution_count": null,
      "outputs": [
        {
          "output_type": "stream",
          "text": [
            "GCD : 5\n",
            "Number of steps:  11\n"
          ],
          "name": "stdout"
        }
      ]
    },
    {
      "cell_type": "code",
      "metadata": {
        "id": "fe74eb54"
      },
      "source": [
        "# Approach 2\n",
        "def gcd(n,m):\n",
        "    if n==m:\n",
        "        print(\"GCD: \",n)\n",
        "    else:\n",
        "        if n<m:\n",
        "            s=n\n",
        "        else:\n",
        "            s=m\n",
        "        j=1\n",
        "        for i in range(1,s+1,j):\n",
        "            if n%i==0 and m%i==0:\n",
        "                j=i\n",
        "        print(\"GCD: \",j)\n"
      ],
      "id": "fe74eb54",
      "execution_count": null,
      "outputs": []
    },
    {
      "cell_type": "code",
      "metadata": {
        "id": "4ef68c60",
        "outputId": "121ceab9-f68e-4c1d-96e5-e916e31ba44e"
      },
      "source": [
        "gcd(35,15)"
      ],
      "id": "4ef68c60",
      "execution_count": null,
      "outputs": [
        {
          "output_type": "stream",
          "text": [
            "GCD:  5\n"
          ],
          "name": "stdout"
        }
      ]
    },
    {
      "cell_type": "code",
      "metadata": {
        "id": "28a3f219"
      },
      "source": [
        ""
      ],
      "id": "28a3f219",
      "execution_count": null,
      "outputs": []
    }
  ]
}