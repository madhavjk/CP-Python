{
  "nbformat": 4,
  "nbformat_minor": 0,
  "metadata": {
    "kernelspec": {
      "display_name": "Python 3",
      "language": "python",
      "name": "python3"
    },
    "language_info": {
      "codemirror_mode": {
        "name": "ipython",
        "version": 3
      },
      "file_extension": ".py",
      "mimetype": "text/x-python",
      "name": "python",
      "nbconvert_exporter": "python",
      "pygments_lexer": "ipython3",
      "version": "3.8.5"
    },
    "colab": {
      "name": "Session 14 (RECURSION).ipynb",
      "provenance": [],
      "include_colab_link": true
    }
  },
  "cells": [
    {
      "cell_type": "markdown",
      "metadata": {
        "id": "view-in-github",
        "colab_type": "text"
      },
      "source": [
        "<a href=\"https://colab.research.google.com/github/madhavjk/CP-Python/blob/main/Session_14_(RECURSION).ipynb\" target=\"_parent\"><img src=\"https://colab.research.google.com/assets/colab-badge.svg\" alt=\"Open In Colab\"/></a>"
      ]
    },
    {
      "cell_type": "markdown",
      "metadata": {
        "id": "KW2Xnfjqlqa-"
      },
      "source": [
        "# RECURSION\n",
        "### Advantages of Recursion\n",
        "#### 1.Recursive functions make the code look clean and elegant.\n",
        "#### 2.A complex task can be broken down into simpler sub-problems using recursion.\n",
        "\n",
        "### Disadvantages of Recursion\n",
        "#### 1.Sometimes the logic behind recursion is hard to follow through.\n",
        "#### 2.Recursive calls are expensive (inefficient) as they take up a lot of memory and time."
      ]
    },
    {
      "cell_type": "markdown",
      "metadata": {
        "id": "gtA6z_6ilqbA"
      },
      "source": [
        "# 1.Direct Recursion"
      ]
    },
    {
      "cell_type": "markdown",
      "metadata": {
        "id": "1CaQwlWclqbD"
      },
      "source": [
        "## Linear Recursion"
      ]
    },
    {
      "cell_type": "markdown",
      "metadata": {
        "id": "ZJxS-0xalqbE"
      },
      "source": [
        "<img src=\"Linear_Rec1.jpg\" style = \"width: 400px;height:200px\"/>"
      ]
    },
    {
      "cell_type": "code",
      "metadata": {
        "id": "gE-u5PCOlqbG"
      },
      "source": [
        "def lin_rec(x):\n",
        "    print(x)\n",
        "    if x == 1:\n",
        "        return 1\n",
        "    return lin_rec(x-1)"
      ],
      "execution_count": null,
      "outputs": []
    },
    {
      "cell_type": "code",
      "metadata": {
        "id": "LT-hhEAslqbI",
        "outputId": "2ed5f48b-f79a-4414-9452-8f6eb8f20a89"
      },
      "source": [
        "lin_rec(6)"
      ],
      "execution_count": null,
      "outputs": [
        {
          "output_type": "stream",
          "text": [
            "6\n",
            "5\n",
            "4\n",
            "3\n",
            "2\n",
            "1\n"
          ],
          "name": "stdout"
        },
        {
          "output_type": "execute_result",
          "data": {
            "text/plain": [
              "1"
            ]
          },
          "metadata": {
            "tags": []
          },
          "execution_count": 6
        }
      ]
    },
    {
      "cell_type": "markdown",
      "metadata": {
        "id": "kqLONTeqlqbK"
      },
      "source": [
        "## I.Head Recursion"
      ]
    },
    {
      "cell_type": "markdown",
      "metadata": {
        "id": "2dCXxvIVlqbL"
      },
      "source": [
        "<img src=\"Head_rec2.jpg\" style = \"width: 400px;height:200px\"/>"
      ]
    },
    {
      "cell_type": "code",
      "metadata": {
        "id": "mPvPhktWlqbM"
      },
      "source": [
        "def head_rec(n):\n",
        "    if n >= 1:\n",
        "        head_rec(n-1)\n",
        "    else:\n",
        "        return 1\n",
        "    print(n)"
      ],
      "execution_count": null,
      "outputs": []
    },
    {
      "cell_type": "code",
      "metadata": {
        "id": "dStx9qaxlqbN",
        "outputId": "207f65a9-c882-4cc0-dfe1-9686bdc6ae68"
      },
      "source": [
        "head_rec(6)"
      ],
      "execution_count": null,
      "outputs": [
        {
          "output_type": "stream",
          "text": [
            "1\n",
            "2\n",
            "3\n",
            "4\n",
            "5\n",
            "6\n"
          ],
          "name": "stdout"
        }
      ]
    },
    {
      "cell_type": "markdown",
      "metadata": {
        "id": "V_4DAhhxlqbO"
      },
      "source": [
        "## II.Tail Recursion"
      ]
    },
    {
      "cell_type": "markdown",
      "metadata": {
        "id": "iz4FligClqbO"
      },
      "source": [
        "<img src=\"Linear_Rec1.jpg\" style = \"width: 400px;height:200px\"/>"
      ]
    },
    {
      "cell_type": "code",
      "metadata": {
        "id": "_WolsOoKlqbP"
      },
      "source": [
        "def tail_rec(x):\n",
        "    print(x)\n",
        "    if x == 1:\n",
        "        return 1\n",
        "    return tail_rec(x-1)"
      ],
      "execution_count": null,
      "outputs": []
    },
    {
      "cell_type": "code",
      "metadata": {
        "id": "-h7ThtDClqbQ",
        "outputId": "b7c8e6b5-9f4a-40b5-e89e-e30f82d2cea9"
      },
      "source": [
        "tail_rec(5)"
      ],
      "execution_count": null,
      "outputs": [
        {
          "output_type": "stream",
          "text": [
            "5\n",
            "4\n",
            "3\n",
            "2\n",
            "1\n"
          ],
          "name": "stdout"
        },
        {
          "output_type": "execute_result",
          "data": {
            "text/plain": [
              "1"
            ]
          },
          "metadata": {
            "tags": []
          },
          "execution_count": 13
        }
      ]
    },
    {
      "cell_type": "code",
      "metadata": {
        "id": "hBFQEwdTlqbR"
      },
      "source": [
        "def recursive_order(x):\n",
        "    print('Before recursive call', x)\n",
        "    if x == 1:\n",
        "        return\n",
        "    recursive_order(x-1)\n",
        "    print('After recursive call', x)"
      ],
      "execution_count": null,
      "outputs": []
    },
    {
      "cell_type": "code",
      "metadata": {
        "id": "5as9usOwlqbT",
        "outputId": "9a70753e-4add-40d7-9dc9-79ce22bd4732"
      },
      "source": [
        "recursive_order(5)"
      ],
      "execution_count": null,
      "outputs": [
        {
          "output_type": "stream",
          "text": [
            "Before recursive call 5\n",
            "Before recursive call 4\n",
            "Before recursive call 3\n",
            "Before recursive call 2\n",
            "Before recursive call 1\n",
            "After recursive call 2\n",
            "After recursive call 3\n",
            "After recursive call 4\n",
            "After recursive call 5\n"
          ],
          "name": "stdout"
        }
      ]
    },
    {
      "cell_type": "markdown",
      "metadata": {
        "id": "H5Xr6go4lqbU"
      },
      "source": [
        "## Binary Recursion"
      ]
    },
    {
      "cell_type": "markdown",
      "metadata": {
        "id": "7AMxlDMnlqbV"
      },
      "source": [
        "<img src='fibonacci.png' style = \"width = 600px; height = 300px\"/>"
      ]
    },
    {
      "cell_type": "code",
      "metadata": {
        "id": "FKBFaPNQlqbW"
      },
      "source": [
        "def binary_rec(x):\n",
        "    print(x)\n",
        "    if x <= 1:\n",
        "        return\n",
        "    print('This is first recurvise call')\n",
        "    binary_rec(x-1)\n",
        "    print('this is second recursive call')\n",
        "    binary_rec(x-2)"
      ],
      "execution_count": null,
      "outputs": []
    },
    {
      "cell_type": "code",
      "metadata": {
        "id": "OXgjK7EplqbX",
        "outputId": "51b127cd-1eaa-4d0d-b006-791baffa50a1"
      },
      "source": [
        "binary_rec(4)"
      ],
      "execution_count": null,
      "outputs": [
        {
          "output_type": "stream",
          "text": [
            "4\n",
            "This is first recurvise call\n",
            "3\n",
            "This is first recurvise call\n",
            "2\n",
            "This is first recurvise call\n",
            "1\n",
            "this is second recursive call\n",
            "0\n",
            "this is second recursive call\n",
            "1\n",
            "this is second recursive call\n",
            "2\n",
            "This is first recurvise call\n",
            "1\n",
            "this is second recursive call\n",
            "0\n"
          ],
          "name": "stdout"
        }
      ]
    },
    {
      "cell_type": "markdown",
      "metadata": {
        "id": "MRCXe7MElqbY"
      },
      "source": [
        "## Multiple Recursion"
      ]
    },
    {
      "cell_type": "markdown",
      "metadata": {
        "id": "7AxXHQ1rlqbY"
      },
      "source": [
        "# 2.Indirect Recursion"
      ]
    },
    {
      "cell_type": "markdown",
      "metadata": {
        "id": "iqupQdmzlqbZ"
      },
      "source": [
        "<img src ='Indirect_Recursion.jpg' />"
      ]
    },
    {
      "cell_type": "code",
      "metadata": {
        "id": "vYvpGYC_lqbZ"
      },
      "source": [
        "def factorial(n):\n",
        "    x = 1\n",
        "    for i in range(1,n+1):\n",
        "        x = x * i\n",
        "    return x"
      ],
      "execution_count": null,
      "outputs": []
    },
    {
      "cell_type": "code",
      "metadata": {
        "id": "U5uHqOBflqbZ",
        "outputId": "77b8b214-762c-40d5-abc0-77cc2f1ede75"
      },
      "source": [
        "factorial(5)"
      ],
      "execution_count": null,
      "outputs": [
        {
          "output_type": "execute_result",
          "data": {
            "text/plain": [
              "120"
            ]
          },
          "metadata": {
            "tags": []
          },
          "execution_count": 23
        }
      ]
    },
    {
      "cell_type": "code",
      "metadata": {
        "id": "s17j6Mcqlqba"
      },
      "source": [
        "def rec_factorial(n):\n",
        "    if n == 1:\n",
        "        return 1\n",
        "    return n * rec_factorial(n-1)"
      ],
      "execution_count": null,
      "outputs": []
    },
    {
      "cell_type": "code",
      "metadata": {
        "id": "sD1gGNDDlqba",
        "outputId": "f20a361e-59a9-4ced-cfba-9d451ad80f79"
      },
      "source": [
        "factorial(5)"
      ],
      "execution_count": null,
      "outputs": [
        {
          "output_type": "execute_result",
          "data": {
            "text/plain": [
              "120"
            ]
          },
          "metadata": {
            "tags": []
          },
          "execution_count": 27
        }
      ]
    },
    {
      "cell_type": "code",
      "metadata": {
        "id": "E6MuepNZlqbb"
      },
      "source": [
        "def fibonacci(n):\n",
        "    if n <= 1:\n",
        "        return n\n",
        "    return fibonacci(n-1) + fibonacci(n-2)"
      ],
      "execution_count": null,
      "outputs": []
    },
    {
      "cell_type": "code",
      "metadata": {
        "id": "NDdCC579lqbc",
        "outputId": "33807f03-2ab3-4543-e9cc-fd1d53798333"
      },
      "source": [
        "fibonacci(6)"
      ],
      "execution_count": null,
      "outputs": [
        {
          "output_type": "execute_result",
          "data": {
            "text/plain": [
              "8"
            ]
          },
          "metadata": {
            "tags": []
          },
          "execution_count": 37
        }
      ]
    },
    {
      "cell_type": "code",
      "metadata": {
        "id": "pBBB1u79lqbc"
      },
      "source": [
        ""
      ],
      "execution_count": null,
      "outputs": []
    }
  ]
}