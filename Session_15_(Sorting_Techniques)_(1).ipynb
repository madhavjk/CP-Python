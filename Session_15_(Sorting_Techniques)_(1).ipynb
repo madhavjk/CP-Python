{
  "nbformat": 4,
  "nbformat_minor": 0,
  "metadata": {
    "kernelspec": {
      "display_name": "Python 3",
      "language": "python",
      "name": "python3"
    },
    "language_info": {
      "codemirror_mode": {
        "name": "ipython",
        "version": 3
      },
      "file_extension": ".py",
      "mimetype": "text/x-python",
      "name": "python",
      "nbconvert_exporter": "python",
      "pygments_lexer": "ipython3",
      "version": "3.8.5"
    },
    "colab": {
      "name": "Session 15 (Sorting Techniques) (1).ipynb",
      "provenance": [],
      "include_colab_link": true
    }
  },
  "cells": [
    {
      "cell_type": "markdown",
      "metadata": {
        "id": "view-in-github",
        "colab_type": "text"
      },
      "source": [
        "<a href=\"https://colab.research.google.com/github/madhavjk/CP-Python/blob/main/Session_15_(Sorting_Techniques)_(1).ipynb\" target=\"_parent\"><img src=\"https://colab.research.google.com/assets/colab-badge.svg\" alt=\"Open In Colab\"/></a>"
      ]
    },
    {
      "cell_type": "markdown",
      "metadata": {
        "id": "8ElLTxYHfT4A"
      },
      "source": [
        "# Selection Sort"
      ]
    },
    {
      "cell_type": "markdown",
      "metadata": {
        "id": "X6O5DG9KfT4B"
      },
      "source": [
        "<img src=\"selection-short.png\"/>"
      ]
    },
    {
      "cell_type": "code",
      "metadata": {
        "id": "heHtnHd2fT4B"
      },
      "source": [
        "def selection_sort(l):\n",
        "    count = 0\n",
        "    for i in range(0, len(l)):\n",
        "        #print(l)\n",
        "        for j in range(i+1, len(l)):\n",
        "            count += 1\n",
        "            if l[i] > l[j]:\n",
        "                l[i], l[j] = l[j], l[i]\n",
        "        \n",
        "    print(l)\n",
        "    print(len(l),count)"
      ],
      "execution_count": null,
      "outputs": []
    },
    {
      "cell_type": "code",
      "metadata": {
        "id": "E9QqDzRAfT4C",
        "outputId": "dad257ad-a557-47e2-96ab-b9346268ea47"
      },
      "source": [
        "selection_sort([2,1,4,7,6,3,0,9,1,3])"
      ],
      "execution_count": null,
      "outputs": [
        {
          "output_type": "stream",
          "text": [
            "[0, 1, 1, 2, 3, 3, 4, 6, 7, 9]\n",
            "10 45\n"
          ],
          "name": "stdout"
        }
      ]
    },
    {
      "cell_type": "markdown",
      "metadata": {
        "id": "-l9JWxPTfT4D"
      },
      "source": [
        "# Bubble Sort"
      ]
    },
    {
      "cell_type": "markdown",
      "metadata": {
        "id": "Y3scl1KBfT4D"
      },
      "source": [
        "<img src=\"bubble-sort.png\"/>"
      ]
    },
    {
      "cell_type": "code",
      "metadata": {
        "id": "mMPtXC1cfT4D"
      },
      "source": [
        "def bubble_sort(a):\n",
        "    n=len(a)\n",
        "    for i in range(0,n-1):\n",
        "        print(a)\n",
        "        for j in range(0,n-i-1):\n",
        "            if a[j]>a[j+1]:\n",
        "                a[j+1],a[j]=a[j],a[j+1]\n",
        "        \n",
        "    print(a)"
      ],
      "execution_count": null,
      "outputs": []
    },
    {
      "cell_type": "code",
      "metadata": {
        "id": "NB--_yg9fT4E",
        "outputId": "1842ac90-76eb-4189-e4ed-1781cfcfe0ca"
      },
      "source": [
        "bubble_sort([2,1,4,7,6,3,0,9,1,3])"
      ],
      "execution_count": null,
      "outputs": [
        {
          "output_type": "stream",
          "text": [
            "[2, 1, 4, 7, 6, 3, 0, 9, 1, 3]\n",
            "[1, 2, 4, 6, 3, 0, 7, 1, 3, 9]\n",
            "[1, 2, 4, 3, 0, 6, 1, 3, 7, 9]\n",
            "[1, 2, 3, 0, 4, 1, 3, 6, 7, 9]\n",
            "[1, 2, 0, 3, 1, 3, 4, 6, 7, 9]\n",
            "[1, 0, 2, 1, 3, 3, 4, 6, 7, 9]\n",
            "[0, 1, 1, 2, 3, 3, 4, 6, 7, 9]\n",
            "[0, 1, 1, 2, 3, 3, 4, 6, 7, 9]\n",
            "[0, 1, 1, 2, 3, 3, 4, 6, 7, 9]\n",
            "[0, 1, 1, 2, 3, 3, 4, 6, 7, 9]\n"
          ],
          "name": "stdout"
        }
      ]
    },
    {
      "cell_type": "markdown",
      "metadata": {
        "id": "smjJN8ctfT4F"
      },
      "source": [
        "# Insertion Sort"
      ]
    },
    {
      "cell_type": "markdown",
      "metadata": {
        "id": "KmV0EfCTfT4F"
      },
      "source": [
        "<img src=\"insertion-sort.png\"/>"
      ]
    },
    {
      "cell_type": "code",
      "metadata": {
        "id": "_4PNkvW6fT4G"
      },
      "source": [
        "def insertion_sort(l):\n",
        "    for i in range(1,len(l)):\n",
        "        print(l)\n",
        "        key = l[i]\n",
        "        j = i - 1\n",
        "        while j >= 0 and key < l[j]:\n",
        "            l[j+1] = l[j]\n",
        "            j -= 1\n",
        "        l[j+1] = key\n",
        "        \n",
        "    print(l)"
      ],
      "execution_count": null,
      "outputs": []
    },
    {
      "cell_type": "code",
      "metadata": {
        "id": "LgDQDe14fT4G",
        "outputId": "88bdcf4b-8f21-45d8-b854-b09afc4cdb17"
      },
      "source": [
        "insertion_sort([2,7,1,8,2,4,7,1,0])"
      ],
      "execution_count": null,
      "outputs": [
        {
          "output_type": "stream",
          "text": [
            "[2, 7, 1, 8, 2, 4, 7, 1, 0]\n",
            "[2, 7, 1, 8, 2, 4, 7, 1, 0]\n",
            "[1, 2, 7, 8, 2, 4, 7, 1, 0]\n",
            "[1, 2, 7, 8, 2, 4, 7, 1, 0]\n",
            "[1, 2, 2, 7, 8, 4, 7, 1, 0]\n",
            "[1, 2, 2, 4, 7, 8, 7, 1, 0]\n",
            "[1, 2, 2, 4, 7, 7, 8, 1, 0]\n",
            "[1, 1, 2, 2, 4, 7, 7, 8, 0]\n",
            "[0, 1, 1, 2, 2, 4, 7, 7, 8]\n"
          ],
          "name": "stdout"
        }
      ]
    },
    {
      "cell_type": "markdown",
      "metadata": {
        "id": "gDMP2XlkfT4H"
      },
      "source": [
        "# Merge Sort"
      ]
    },
    {
      "cell_type": "markdown",
      "metadata": {
        "id": "3cd-OojDfT4H"
      },
      "source": [
        "<img src=\"merge-sort.png\"/>"
      ]
    },
    {
      "cell_type": "code",
      "metadata": {
        "id": "gb0uWqEAfT4H"
      },
      "source": [
        "def mergeSort(arr, l, r):\n",
        "    if l < r:\n",
        "        m = (l+(r-1))//2\n",
        "        \n",
        "        mergeSort(arr,l,m)\n",
        "        mergeSort(arr, m+1, r)\n",
        "        merge(arr, l, m, r)"
      ],
      "execution_count": null,
      "outputs": []
    },
    {
      "cell_type": "code",
      "metadata": {
        "id": "Gu0D389zfT4H"
      },
      "source": [
        "def merge(arr, l, m, r):\n",
        "    n1 = m - l + 1\n",
        "    n2 = r - m\n",
        "    \n",
        "    L = [0] * n1\n",
        "    R = [0] * n2\n",
        "    \n",
        "    for i in range(0,n1):\n",
        "        L[i] = arr[l + i]\n",
        "        \n",
        "    for j in range(0,n2):\n",
        "        R[j] = arr[m + 1 + j]\n",
        "        \n",
        "    i = 0\n",
        "    j = 0\n",
        "    k = l\n",
        "    \n",
        "    while i < n1 and j < n2:\n",
        "        if L[i] <= R[j]:\n",
        "            arr[k] = L[i]\n",
        "            i += 1\n",
        "        else:\n",
        "            arr[k] = R[j]\n",
        "            j += 1\n",
        "        k += 1\n",
        "        \n",
        "        \n",
        "    while i < n1:\n",
        "        arr[k] = L[i]\n",
        "        k += 1\n",
        "        i += 1\n",
        "        \n",
        "    while j < n2:\n",
        "        arr[k] = R[j]\n",
        "        k += 1\n",
        "        j += 1"
      ],
      "execution_count": null,
      "outputs": []
    },
    {
      "cell_type": "code",
      "metadata": {
        "id": "KalUKcIIfT4I"
      },
      "source": [
        "l = [5,2,4,7,1,3,2,6]\n",
        "mergeSort(l,0, 7)"
      ],
      "execution_count": null,
      "outputs": []
    },
    {
      "cell_type": "code",
      "metadata": {
        "id": "4SVxnNFafT4I",
        "outputId": "262716a1-22d9-46f4-dcf2-3d80145237f4"
      },
      "source": [
        "l"
      ],
      "execution_count": null,
      "outputs": [
        {
          "output_type": "execute_result",
          "data": {
            "text/plain": [
              "[1, 2, 2, 3, 4, 5, 6, 7]"
            ]
          },
          "metadata": {
            "tags": []
          },
          "execution_count": 5
        }
      ]
    },
    {
      "cell_type": "code",
      "metadata": {
        "id": "_xvO4svpfT4J"
      },
      "source": [
        "def mergeSortDivide(arr, l, r):\n",
        "    print(arr[l: r+1])\n",
        "    if l < r:\n",
        "        m = (l+(r-1))//2\n",
        "        \n",
        "        mergeSortDivide(arr,l,m)\n",
        "        mergeSortDivide(arr, m+1, r)"
      ],
      "execution_count": null,
      "outputs": []
    },
    {
      "cell_type": "code",
      "metadata": {
        "id": "N856ZtMgfT4J",
        "outputId": "3a542823-6141-4e1a-f12e-314cc22097b4"
      },
      "source": [
        "l = [5,2,4,7,1,3,2,6]\n",
        "mergeSortDivide(l,0,7)"
      ],
      "execution_count": null,
      "outputs": [
        {
          "output_type": "stream",
          "text": [
            "[5, 2, 4, 7, 1, 3, 2, 6]\n",
            "[5, 2, 4, 7]\n",
            "[5, 2]\n",
            "[5]\n",
            "[2]\n",
            "[4, 7]\n",
            "[4]\n",
            "[7]\n",
            "[1, 3, 2, 6]\n",
            "[1, 3]\n",
            "[1]\n",
            "[3]\n",
            "[2, 6]\n",
            "[2]\n",
            "[6]\n"
          ],
          "name": "stdout"
        }
      ]
    },
    {
      "cell_type": "markdown",
      "metadata": {
        "id": "RBZWjp2QfT4J"
      },
      "source": [
        "# Quick Sort"
      ]
    },
    {
      "cell_type": "markdown",
      "metadata": {
        "id": "am1PtYfqfT4K"
      },
      "source": [
        "<img src=\"quick_sort.png\" />"
      ]
    },
    {
      "cell_type": "code",
      "metadata": {
        "id": "YZITNlo2fT4K"
      },
      "source": [
        ""
      ],
      "execution_count": null,
      "outputs": []
    }
  ]
}