{
  "nbformat": 4,
  "nbformat_minor": 5,
  "metadata": {
    "kernelspec": {
      "display_name": "Python 3",
      "language": "python",
      "name": "python3"
    },
    "language_info": {
      "codemirror_mode": {
        "name": "ipython",
        "version": 3
      },
      "file_extension": ".py",
      "mimetype": "text/x-python",
      "name": "python",
      "nbconvert_exporter": "python",
      "pygments_lexer": "ipython3",
      "version": "3.8.5"
    },
    "colab": {
      "name": "Session 2 (Data Types).ipynb",
      "provenance": [],
      "include_colab_link": true
    }
  },
  "cells": [
    {
      "cell_type": "markdown",
      "metadata": {
        "id": "view-in-github",
        "colab_type": "text"
      },
      "source": [
        "<a href=\"https://colab.research.google.com/github/madhavjk/CP-Python/blob/main/Session_2_(Data_Types).ipynb\" target=\"_parent\"><img src=\"https://colab.research.google.com/assets/colab-badge.svg\" alt=\"Open In Colab\"/></a>"
      ]
    },
    {
      "cell_type": "markdown",
      "metadata": {
        "id": "fd0be232"
      },
      "source": [
        "# Data Types In Python\n",
        "* **int** (for integer)\n",
        "* **float**\n",
        "* **str** (for string)\n",
        "* **list**\n",
        "* **tuple**\n",
        "* **dict** (for dictionary)\n",
        "* **set**\n",
        "* **bool** (for Boolean True/False)\n",
        "\n",
        "## Dynamic Typing\n",
        "\n",
        "Python uses *dynamic typing*, meaning you can reassign variables to different data types. This makes Python very flexible in assigning data types; it differs from other languages that are *statically typed*.\n",
        "\n",
        "### Pros and Cons of Dynamic Typing\n",
        "#### Pros of Dynamic Typing\n",
        "* very easy to work with\n",
        "* faster development time\n",
        "\n",
        "#### Cons of Dynamic Typing\n",
        "* may result in unexpected bugs!"
      ],
      "id": "fd0be232"
    },
    {
      "cell_type": "code",
      "metadata": {
        "id": "44968497",
        "outputId": "d2d6087d-5df2-4886-d646-037921b40d2e"
      },
      "source": [
        "a = 2\n",
        "a"
      ],
      "id": "44968497",
      "execution_count": null,
      "outputs": [
        {
          "output_type": "execute_result",
          "data": {
            "text/plain": [
              "2"
            ]
          },
          "metadata": {
            "tags": []
          },
          "execution_count": 5
        }
      ]
    },
    {
      "cell_type": "code",
      "metadata": {
        "id": "767c5293",
        "outputId": "868492b7-c2af-4242-a930-4096b70d840c"
      },
      "source": [
        "type(a)"
      ],
      "id": "767c5293",
      "execution_count": null,
      "outputs": [
        {
          "output_type": "execute_result",
          "data": {
            "text/plain": [
              "int"
            ]
          },
          "metadata": {
            "tags": []
          },
          "execution_count": 2
        }
      ]
    },
    {
      "cell_type": "code",
      "metadata": {
        "id": "9f38ad96",
        "outputId": "99bde907-5443-4018-ba84-60e3b1a0358a"
      },
      "source": [
        "a = 'Pawri ho rahi hai'\n",
        "a"
      ],
      "id": "9f38ad96",
      "execution_count": null,
      "outputs": [
        {
          "output_type": "execute_result",
          "data": {
            "text/plain": [
              "'Pawri ho rahi hai'"
            ]
          },
          "metadata": {
            "tags": []
          },
          "execution_count": 8
        }
      ]
    },
    {
      "cell_type": "code",
      "metadata": {
        "id": "35fb778f",
        "outputId": "f78badf2-8528-4c12-e85d-ee9cd9f1702d"
      },
      "source": [
        "type(a)"
      ],
      "id": "35fb778f",
      "execution_count": null,
      "outputs": [
        {
          "output_type": "execute_result",
          "data": {
            "text/plain": [
              "str"
            ]
          },
          "metadata": {
            "tags": []
          },
          "execution_count": 7
        }
      ]
    },
    {
      "cell_type": "markdown",
      "metadata": {
        "id": "78170a11"
      },
      "source": [
        "## Assigning Values to variables"
      ],
      "id": "78170a11"
    },
    {
      "cell_type": "code",
      "metadata": {
        "id": "e2f2fd0e"
      },
      "source": [
        "a = 10"
      ],
      "id": "e2f2fd0e",
      "execution_count": null,
      "outputs": []
    },
    {
      "cell_type": "code",
      "metadata": {
        "id": "ecd88b3c",
        "outputId": "01366546-1ff9-4e20-ba54-a6362ec48e90"
      },
      "source": [
        "a"
      ],
      "id": "ecd88b3c",
      "execution_count": null,
      "outputs": [
        {
          "output_type": "execute_result",
          "data": {
            "text/plain": [
              "10"
            ]
          },
          "metadata": {
            "tags": []
          },
          "execution_count": 10
        }
      ]
    },
    {
      "cell_type": "code",
      "metadata": {
        "id": "a5848bbd",
        "outputId": "180624d4-32dd-4dc5-b555-5e139b2cfabf"
      },
      "source": [
        "b = a + 10\n",
        "b"
      ],
      "id": "a5848bbd",
      "execution_count": null,
      "outputs": [
        {
          "output_type": "execute_result",
          "data": {
            "text/plain": [
              "20"
            ]
          },
          "metadata": {
            "tags": []
          },
          "execution_count": 11
        }
      ]
    },
    {
      "cell_type": "code",
      "metadata": {
        "id": "8f1d9cc2",
        "outputId": "a42d4632-eb1e-4261-a0e9-a35876c1e454"
      },
      "source": [
        "# Shorthand Notation\n",
        "b += 10  # b= b+10\n",
        "b"
      ],
      "id": "8f1d9cc2",
      "execution_count": null,
      "outputs": [
        {
          "output_type": "execute_result",
          "data": {
            "text/plain": [
              "30"
            ]
          },
          "metadata": {
            "tags": []
          },
          "execution_count": 12
        }
      ]
    },
    {
      "cell_type": "markdown",
      "metadata": {
        "id": "dc5984d0"
      },
      "source": [
        "## Numbers in Python"
      ],
      "id": "dc5984d0"
    },
    {
      "cell_type": "code",
      "metadata": {
        "id": "1a3230d9",
        "outputId": "58c6e750-7473-42bb-bbe4-c1566c4f40c7"
      },
      "source": [
        "a = 5\n",
        "a"
      ],
      "id": "1a3230d9",
      "execution_count": null,
      "outputs": [
        {
          "output_type": "execute_result",
          "data": {
            "text/plain": [
              "5"
            ]
          },
          "metadata": {
            "tags": []
          },
          "execution_count": 13
        }
      ]
    },
    {
      "cell_type": "code",
      "metadata": {
        "id": "8856154b",
        "outputId": "40d46568-c98c-4882-8b31-627fd4359ba9"
      },
      "source": [
        "type(a)"
      ],
      "id": "8856154b",
      "execution_count": null,
      "outputs": [
        {
          "output_type": "execute_result",
          "data": {
            "text/plain": [
              "int"
            ]
          },
          "metadata": {
            "tags": []
          },
          "execution_count": 14
        }
      ]
    },
    {
      "cell_type": "code",
      "metadata": {
        "id": "81b8c543",
        "outputId": "aae20144-0387-4092-dad1-5cd127e382b0"
      },
      "source": [
        "b = 5.5\n",
        "b"
      ],
      "id": "81b8c543",
      "execution_count": null,
      "outputs": [
        {
          "output_type": "execute_result",
          "data": {
            "text/plain": [
              "5.5"
            ]
          },
          "metadata": {
            "tags": []
          },
          "execution_count": 15
        }
      ]
    },
    {
      "cell_type": "code",
      "metadata": {
        "id": "a2eb7166",
        "outputId": "7855f89e-a393-4763-da44-ca24a761d1bb"
      },
      "source": [
        "type(b)"
      ],
      "id": "a2eb7166",
      "execution_count": null,
      "outputs": [
        {
          "output_type": "execute_result",
          "data": {
            "text/plain": [
              "float"
            ]
          },
          "metadata": {
            "tags": []
          },
          "execution_count": 16
        }
      ]
    },
    {
      "cell_type": "code",
      "metadata": {
        "id": "7ae3a7b2",
        "outputId": "4b645381-420b-4d38-ec9a-a12f88245bf3"
      },
      "source": [
        "# Arithmatic operations\n",
        "a = 20\n",
        "b = 10\n",
        "x = a + b\n",
        "y = a - b\n",
        "z = a * b\n",
        "print(x,y,z)"
      ],
      "id": "7ae3a7b2",
      "execution_count": null,
      "outputs": [
        {
          "output_type": "stream",
          "text": [
            "30 10 200\n"
          ],
          "name": "stdout"
        }
      ]
    },
    {
      "cell_type": "code",
      "metadata": {
        "id": "147b2e36",
        "outputId": "72f4a5b1-b0f3-4283-f74f-142767cae69a"
      },
      "source": [
        "a = 20.0\n",
        "b = 10\n",
        "x = a + b\n",
        "y = a - b\n",
        "z = a * b\n",
        "print(x,y,z)"
      ],
      "id": "147b2e36",
      "execution_count": null,
      "outputs": [
        {
          "output_type": "stream",
          "text": [
            "30.0 10.0 200.0\n"
          ],
          "name": "stdout"
        }
      ]
    },
    {
      "cell_type": "code",
      "metadata": {
        "id": "d048eddb",
        "outputId": "739b8e0f-6692-4eb7-daab-69594bb2bdd1"
      },
      "source": [
        "# Typecasting\n",
        "a = int(x)\n",
        "print(a)\n",
        "type(a)"
      ],
      "id": "d048eddb",
      "execution_count": null,
      "outputs": [
        {
          "output_type": "stream",
          "text": [
            "30\n"
          ],
          "name": "stdout"
        },
        {
          "output_type": "execute_result",
          "data": {
            "text/plain": [
              "int"
            ]
          },
          "metadata": {
            "tags": []
          },
          "execution_count": 19
        }
      ]
    },
    {
      "cell_type": "code",
      "metadata": {
        "id": "af5b35e6",
        "outputId": "91ebe43c-23de-41d1-a2e4-b9e05a068333"
      },
      "source": [
        "a = float(a)\n",
        "print(a)\n",
        "type(a)"
      ],
      "id": "af5b35e6",
      "execution_count": null,
      "outputs": [
        {
          "output_type": "stream",
          "text": [
            "30.0\n"
          ],
          "name": "stdout"
        },
        {
          "output_type": "execute_result",
          "data": {
            "text/plain": [
              "float"
            ]
          },
          "metadata": {
            "tags": []
          },
          "execution_count": 20
        }
      ]
    },
    {
      "cell_type": "code",
      "metadata": {
        "id": "bf56b44d",
        "outputId": "39cd1961-93a1-412d-d42b-bfdb82000789"
      },
      "source": [
        "# Normal division\n",
        "a = 25\n",
        "b = 4\n",
        "x = a / b\n",
        "print(x)\n",
        "type(x)"
      ],
      "id": "bf56b44d",
      "execution_count": null,
      "outputs": [
        {
          "output_type": "stream",
          "text": [
            "6.25\n"
          ],
          "name": "stdout"
        },
        {
          "output_type": "execute_result",
          "data": {
            "text/plain": [
              "float"
            ]
          },
          "metadata": {
            "tags": []
          },
          "execution_count": 22
        }
      ]
    },
    {
      "cell_type": "code",
      "metadata": {
        "id": "6181616c",
        "outputId": "09f3ec77-1dcd-42ce-ae47-7c1e06e9d8ef"
      },
      "source": [
        "# Floor Division\n",
        "a = 25\n",
        "b = 4\n",
        "x = a // b\n",
        "print(x)\n",
        "type(x)"
      ],
      "id": "6181616c",
      "execution_count": null,
      "outputs": [
        {
          "output_type": "stream",
          "text": [
            "6\n"
          ],
          "name": "stdout"
        },
        {
          "output_type": "execute_result",
          "data": {
            "text/plain": [
              "int"
            ]
          },
          "metadata": {
            "tags": []
          },
          "execution_count": 23
        }
      ]
    },
    {
      "cell_type": "code",
      "metadata": {
        "id": "38e0a975",
        "outputId": "4f1ae6d7-a6b1-48e9-c70d-bf8d5772556c"
      },
      "source": [
        "a = 25.0\n",
        "b = 4\n",
        "x = a // b\n",
        "print(x)\n",
        "type(x)"
      ],
      "id": "38e0a975",
      "execution_count": null,
      "outputs": [
        {
          "output_type": "stream",
          "text": [
            "6.0\n"
          ],
          "name": "stdout"
        },
        {
          "output_type": "execute_result",
          "data": {
            "text/plain": [
              "float"
            ]
          },
          "metadata": {
            "tags": []
          },
          "execution_count": 24
        }
      ]
    },
    {
      "cell_type": "code",
      "metadata": {
        "id": "3b292a68",
        "outputId": "fe5b30e6-2ee6-4c1c-de29-e929aeadd70e"
      },
      "source": [
        "# Modulous Operator\n",
        "a = 10.0\n",
        "b = 3\n",
        "print(a % b)"
      ],
      "id": "3b292a68",
      "execution_count": null,
      "outputs": [
        {
          "output_type": "stream",
          "text": [
            "1.0\n"
          ],
          "name": "stdout"
        }
      ]
    },
    {
      "cell_type": "code",
      "metadata": {
        "id": "201d1e34",
        "outputId": "2c0f562e-7a87-47e9-e4bd-12e715c8c8e3"
      },
      "source": [
        "# Power operator\n",
        "a = 10\n",
        "a ** 3"
      ],
      "id": "201d1e34",
      "execution_count": null,
      "outputs": [
        {
          "output_type": "execute_result",
          "data": {
            "text/plain": [
              "1000"
            ]
          },
          "metadata": {
            "tags": []
          },
          "execution_count": 30
        }
      ]
    },
    {
      "cell_type": "code",
      "metadata": {
        "id": "01e9c583",
        "outputId": "d26a8253-0aed-4a12-ad83-b057a4841701"
      },
      "source": [
        "a = 16\n",
        "a ** 0.5"
      ],
      "id": "01e9c583",
      "execution_count": null,
      "outputs": [
        {
          "output_type": "execute_result",
          "data": {
            "text/plain": [
              "4.0"
            ]
          },
          "metadata": {
            "tags": []
          },
          "execution_count": 32
        }
      ]
    },
    {
      "cell_type": "markdown",
      "metadata": {
        "id": "5393f4b4"
      },
      "source": [
        "## Some Concepts to Remember\n",
        "#### Mutable\n",
        "#### Immutable\n",
        "#### Sequences\n",
        "#### Iterable\n",
        "#### Non Iterable"
      ],
      "id": "5393f4b4"
    },
    {
      "cell_type": "code",
      "metadata": {
        "id": "c7453642",
        "outputId": "0a1de9da-e994-41b3-ab19-8c51f492cd33"
      },
      "source": [
        "a = \"ABCD\"\n",
        "b = [1,2,3,4]\n",
        "for i in a:\n",
        "    print(i, end = \" \")\n",
        "print()\n",
        "for i in b:\n",
        "    print(i, end = \" \")"
      ],
      "id": "c7453642",
      "execution_count": null,
      "outputs": [
        {
          "output_type": "stream",
          "text": [
            "A B C D \n",
            "1 2 3 4 "
          ],
          "name": "stdout"
        }
      ]
    },
    {
      "cell_type": "code",
      "metadata": {
        "id": "283158af",
        "outputId": "6a146c10-6695-4023-9aec-cdcb1dcd0e32"
      },
      "source": [
        "b[0] = 5\n",
        "for i in b:\n",
        "    print(i, end = \" \")"
      ],
      "id": "283158af",
      "execution_count": null,
      "outputs": [
        {
          "output_type": "stream",
          "text": [
            "5 2 3 4 "
          ],
          "name": "stdout"
        }
      ]
    },
    {
      "cell_type": "code",
      "metadata": {
        "id": "be6b547f",
        "outputId": "9aa4c828-e2c7-442b-b3a1-54f393fd122b"
      },
      "source": [
        "a[0] = 'E'"
      ],
      "id": "be6b547f",
      "execution_count": null,
      "outputs": [
        {
          "output_type": "error",
          "ename": "TypeError",
          "evalue": "'str' object does not support item assignment",
          "traceback": [
            "\u001b[1;31m---------------------------------------------------------------------------\u001b[0m",
            "\u001b[1;31mTypeError\u001b[0m                                 Traceback (most recent call last)",
            "\u001b[1;32m<ipython-input-46-e080148844fb>\u001b[0m in \u001b[0;36m<module>\u001b[1;34m\u001b[0m\n\u001b[1;32m----> 1\u001b[1;33m \u001b[0ma\u001b[0m\u001b[1;33m[\u001b[0m\u001b[1;36m0\u001b[0m\u001b[1;33m]\u001b[0m \u001b[1;33m=\u001b[0m \u001b[1;34m'E'\u001b[0m\u001b[1;33m\u001b[0m\u001b[1;33m\u001b[0m\u001b[0m\n\u001b[0m",
            "\u001b[1;31mTypeError\u001b[0m: 'str' object does not support item assignment"
          ]
        }
      ]
    },
    {
      "cell_type": "code",
      "metadata": {
        "id": "ed35e3e6",
        "outputId": "37ddec2a-7ee7-4d92-eaa1-4956484dddbb"
      },
      "source": [
        "a + \"XYZ\""
      ],
      "id": "ed35e3e6",
      "execution_count": null,
      "outputs": [
        {
          "output_type": "execute_result",
          "data": {
            "text/plain": [
              "'ABCDEFGXYZ'"
            ]
          },
          "metadata": {
            "tags": []
          },
          "execution_count": 48
        }
      ]
    },
    {
      "cell_type": "markdown",
      "metadata": {
        "id": "dcb492fb"
      },
      "source": [
        "# Strings"
      ],
      "id": "dcb492fb"
    },
    {
      "cell_type": "code",
      "metadata": {
        "id": "fc8bf36c",
        "outputId": "fb2c0d85-1d6f-4d14-d4b6-62e915971b41"
      },
      "source": [
        "a = 'Hello'\n",
        "b = \"Hello\"\n",
        "print(a,b)"
      ],
      "id": "fc8bf36c",
      "execution_count": null,
      "outputs": [
        {
          "output_type": "stream",
          "text": [
            "Hello Hello\n"
          ],
          "name": "stdout"
        }
      ]
    },
    {
      "cell_type": "code",
      "metadata": {
        "id": "ceda5179",
        "outputId": "74fecbeb-763b-4190-8b4e-c25254264f06"
      },
      "source": [
        "a = 'hello i am \"Mike\"'\n",
        "print(a)"
      ],
      "id": "ceda5179",
      "execution_count": null,
      "outputs": [
        {
          "output_type": "stream",
          "text": [
            "hello i am \"Mike\"\n"
          ],
          "name": "stdout"
        }
      ]
    },
    {
      "cell_type": "code",
      "metadata": {
        "id": "648579a4",
        "outputId": "b85df4e1-2c89-4a29-e3f5-c64ab47069b1"
      },
      "source": [
        "a = \"Hello\"\n",
        "b = 'H'\n",
        "print(type(a), type(b))"
      ],
      "id": "648579a4",
      "execution_count": null,
      "outputs": [
        {
          "output_type": "stream",
          "text": [
            "<class 'str'> <class 'str'>\n"
          ],
          "name": "stdout"
        }
      ]
    },
    {
      "cell_type": "markdown",
      "metadata": {
        "id": "ab5ec822"
      },
      "source": [
        "### Indexing"
      ],
      "id": "ab5ec822"
    },
    {
      "cell_type": "code",
      "metadata": {
        "id": "36feb826",
        "outputId": "761e6623-1d0f-4ccd-d38e-d688a902ca4c"
      },
      "source": [
        "a = 'Hello World'\n",
        "a"
      ],
      "id": "36feb826",
      "execution_count": null,
      "outputs": [
        {
          "output_type": "execute_result",
          "data": {
            "text/plain": [
              "'Hello World'"
            ]
          },
          "metadata": {
            "tags": []
          },
          "execution_count": 56
        }
      ]
    },
    {
      "cell_type": "code",
      "metadata": {
        "id": "087d1419",
        "outputId": "7f1c5371-01f3-48bd-8a97-f96e90075c97"
      },
      "source": [
        "a[0]"
      ],
      "id": "087d1419",
      "execution_count": null,
      "outputs": [
        {
          "output_type": "execute_result",
          "data": {
            "text/plain": [
              "'H'"
            ]
          },
          "metadata": {
            "tags": []
          },
          "execution_count": 57
        }
      ]
    },
    {
      "cell_type": "code",
      "metadata": {
        "id": "2ad38d6b",
        "outputId": "7b77c211-7518-4e5e-b239-89801c812783"
      },
      "source": [
        "a[5]"
      ],
      "id": "2ad38d6b",
      "execution_count": null,
      "outputs": [
        {
          "output_type": "execute_result",
          "data": {
            "text/plain": [
              "' '"
            ]
          },
          "metadata": {
            "tags": []
          },
          "execution_count": 59
        }
      ]
    },
    {
      "cell_type": "code",
      "metadata": {
        "id": "60d0995f",
        "outputId": "402194f7-95ef-4d2d-c4fc-5cc82634c85c"
      },
      "source": [
        "len(a)"
      ],
      "id": "60d0995f",
      "execution_count": null,
      "outputs": [
        {
          "output_type": "execute_result",
          "data": {
            "text/plain": [
              "11"
            ]
          },
          "metadata": {
            "tags": []
          },
          "execution_count": 60
        }
      ]
    },
    {
      "cell_type": "code",
      "metadata": {
        "id": "e78777ff",
        "outputId": "87d2c61d-456f-40af-a57f-e0aaf82c9649"
      },
      "source": [
        "a[-3]"
      ],
      "id": "e78777ff",
      "execution_count": null,
      "outputs": [
        {
          "output_type": "execute_result",
          "data": {
            "text/plain": [
              "'r'"
            ]
          },
          "metadata": {
            "tags": []
          },
          "execution_count": 61
        }
      ]
    },
    {
      "cell_type": "code",
      "metadata": {
        "id": "679f2489",
        "outputId": "93dd61ba-cd88-43b3-a7c6-0082b6027a53"
      },
      "source": [
        "a[-11]"
      ],
      "id": "679f2489",
      "execution_count": null,
      "outputs": [
        {
          "output_type": "execute_result",
          "data": {
            "text/plain": [
              "'H'"
            ]
          },
          "metadata": {
            "tags": []
          },
          "execution_count": 62
        }
      ]
    },
    {
      "cell_type": "markdown",
      "metadata": {
        "id": "7c1e7bfa"
      },
      "source": [
        "### Slicing"
      ],
      "id": "7c1e7bfa"
    },
    {
      "cell_type": "code",
      "metadata": {
        "id": "92eae6fe",
        "outputId": "6dfbc038-2d12-4737-f8af-65933a1aa3d1"
      },
      "source": [
        "a = 'Hello World'\n",
        "a"
      ],
      "id": "92eae6fe",
      "execution_count": null,
      "outputs": [
        {
          "output_type": "execute_result",
          "data": {
            "text/plain": [
              "'Hello World'"
            ]
          },
          "metadata": {
            "tags": []
          },
          "execution_count": 63
        }
      ]
    },
    {
      "cell_type": "code",
      "metadata": {
        "id": "20819441",
        "outputId": "46bb1913-f286-4f35-a322-7c984737d755"
      },
      "source": [
        "a[0:5]"
      ],
      "id": "20819441",
      "execution_count": null,
      "outputs": [
        {
          "output_type": "execute_result",
          "data": {
            "text/plain": [
              "'Hello'"
            ]
          },
          "metadata": {
            "tags": []
          },
          "execution_count": 65
        }
      ]
    },
    {
      "cell_type": "code",
      "metadata": {
        "id": "b2c9767d",
        "outputId": "1ad67bf2-a9a8-4619-dcf0-e623957f77e3"
      },
      "source": [
        "a[:5]"
      ],
      "id": "b2c9767d",
      "execution_count": null,
      "outputs": [
        {
          "output_type": "execute_result",
          "data": {
            "text/plain": [
              "'Hello'"
            ]
          },
          "metadata": {
            "tags": []
          },
          "execution_count": 66
        }
      ]
    },
    {
      "cell_type": "code",
      "metadata": {
        "id": "ee928bf3",
        "outputId": "b1d82116-199f-4def-c5b9-1daf9395d744"
      },
      "source": [
        "a[6:]"
      ],
      "id": "ee928bf3",
      "execution_count": null,
      "outputs": [
        {
          "output_type": "execute_result",
          "data": {
            "text/plain": [
              "'World'"
            ]
          },
          "metadata": {
            "tags": []
          },
          "execution_count": 67
        }
      ]
    },
    {
      "cell_type": "code",
      "metadata": {
        "id": "442fb29c",
        "outputId": "c3e294fa-5dde-4751-c393-bbb0e25fec9c"
      },
      "source": [
        "a[:]"
      ],
      "id": "442fb29c",
      "execution_count": null,
      "outputs": [
        {
          "output_type": "execute_result",
          "data": {
            "text/plain": [
              "'Hello World'"
            ]
          },
          "metadata": {
            "tags": []
          },
          "execution_count": 68
        }
      ]
    },
    {
      "cell_type": "code",
      "metadata": {
        "id": "cc589b69",
        "outputId": "dcd64b56-922e-444a-f7e2-51d210e77730"
      },
      "source": [
        "# a[start : end : stepsize]\n",
        "a[0::2]"
      ],
      "id": "cc589b69",
      "execution_count": null,
      "outputs": [
        {
          "output_type": "execute_result",
          "data": {
            "text/plain": [
              "'HloWrd'"
            ]
          },
          "metadata": {
            "tags": []
          },
          "execution_count": 69
        }
      ]
    },
    {
      "cell_type": "code",
      "metadata": {
        "id": "99934e42",
        "outputId": "ba12e0cb-8b89-4527-f942-54d2a4c0c139"
      },
      "source": [
        "a[0:-1]"
      ],
      "id": "99934e42",
      "execution_count": null,
      "outputs": [
        {
          "output_type": "execute_result",
          "data": {
            "text/plain": [
              "'Hello Worl'"
            ]
          },
          "metadata": {
            "tags": []
          },
          "execution_count": 70
        }
      ]
    },
    {
      "cell_type": "code",
      "metadata": {
        "id": "8cfba84e",
        "outputId": "583a6750-25c7-4350-a437-0a6c1305a039"
      },
      "source": [
        "a[::-1]"
      ],
      "id": "8cfba84e",
      "execution_count": null,
      "outputs": [
        {
          "output_type": "execute_result",
          "data": {
            "text/plain": [
              "'dlroW olleH'"
            ]
          },
          "metadata": {
            "tags": []
          },
          "execution_count": 71
        }
      ]
    },
    {
      "cell_type": "code",
      "metadata": {
        "id": "389e8a3f",
        "outputId": "5047bb0a-82de-452c-c5b2-2bbdf9b8339a"
      },
      "source": [
        "a[-1::-1]"
      ],
      "id": "389e8a3f",
      "execution_count": null,
      "outputs": [
        {
          "output_type": "execute_result",
          "data": {
            "text/plain": [
              "'dlroW olleH'"
            ]
          },
          "metadata": {
            "tags": []
          },
          "execution_count": 73
        }
      ]
    },
    {
      "cell_type": "code",
      "metadata": {
        "id": "be131cbd",
        "outputId": "aeb8151d-9425-477e-aade-cc11ffdc3b3e"
      },
      "source": [
        "a = \"Hello World\"\n",
        "b = \"I am Utkarsh\"\n",
        "c = a + \" \" + b\n",
        "c"
      ],
      "id": "be131cbd",
      "execution_count": null,
      "outputs": [
        {
          "output_type": "execute_result",
          "data": {
            "text/plain": [
              "'Hello World I am Utkarsh'"
            ]
          },
          "metadata": {
            "tags": []
          },
          "execution_count": 75
        }
      ]
    },
    {
      "cell_type": "markdown",
      "metadata": {
        "id": "1b4f9693"
      },
      "source": [
        "### String Functions"
      ],
      "id": "1b4f9693"
    },
    {
      "cell_type": "code",
      "metadata": {
        "id": "19b79de6",
        "outputId": "3c514526-2ae4-40bd-f7a2-4d1a1beecc0d"
      },
      "source": [
        "len(b)"
      ],
      "id": "19b79de6",
      "execution_count": null,
      "outputs": [
        {
          "output_type": "execute_result",
          "data": {
            "text/plain": [
              "12"
            ]
          },
          "metadata": {
            "tags": []
          },
          "execution_count": 77
        }
      ]
    },
    {
      "cell_type": "code",
      "metadata": {
        "id": "24114828",
        "outputId": "614072cd-c9dc-455e-ea0d-fe6c0329257b"
      },
      "source": [
        "b.split()"
      ],
      "id": "24114828",
      "execution_count": null,
      "outputs": [
        {
          "output_type": "execute_result",
          "data": {
            "text/plain": [
              "['I', 'am', 'Utkarsh']"
            ]
          },
          "metadata": {
            "tags": []
          },
          "execution_count": 78
        }
      ]
    },
    {
      "cell_type": "code",
      "metadata": {
        "id": "fbbb73ad",
        "outputId": "c4d6063d-51b2-487d-c081-81130a322189"
      },
      "source": [
        "b.split('a')"
      ],
      "id": "fbbb73ad",
      "execution_count": null,
      "outputs": [
        {
          "output_type": "execute_result",
          "data": {
            "text/plain": [
              "['I ', 'm Utk', 'rsh']"
            ]
          },
          "metadata": {
            "tags": []
          },
          "execution_count": 84
        }
      ]
    },
    {
      "cell_type": "code",
      "metadata": {
        "id": "37ea5c71",
        "outputId": "1a6ec605-04ff-4fa7-8906-254b67421dfa"
      },
      "source": [
        "b.lower()"
      ],
      "id": "37ea5c71",
      "execution_count": null,
      "outputs": [
        {
          "output_type": "execute_result",
          "data": {
            "text/plain": [
              "'i am utkarsh'"
            ]
          },
          "metadata": {
            "tags": []
          },
          "execution_count": 80
        }
      ]
    },
    {
      "cell_type": "code",
      "metadata": {
        "id": "4411e5ca",
        "outputId": "642b2aa8-4dcb-4619-ff3a-7d398825c3a9"
      },
      "source": [
        "b.upper()"
      ],
      "id": "4411e5ca",
      "execution_count": null,
      "outputs": [
        {
          "output_type": "execute_result",
          "data": {
            "text/plain": [
              "'I AM UTKARSH'"
            ]
          },
          "metadata": {
            "tags": []
          },
          "execution_count": 81
        }
      ]
    },
    {
      "cell_type": "code",
      "metadata": {
        "id": "a53b9c6b",
        "outputId": "370d52df-34f0-479a-95d8-a43a1cae825f"
      },
      "source": [
        "b.count('a')"
      ],
      "id": "a53b9c6b",
      "execution_count": null,
      "outputs": [
        {
          "output_type": "execute_result",
          "data": {
            "text/plain": [
              "2"
            ]
          },
          "metadata": {
            "tags": []
          },
          "execution_count": 87
        }
      ]
    },
    {
      "cell_type": "code",
      "metadata": {
        "id": "7c669265",
        "outputId": "362997b3-773d-4363-f27c-f4ffc64d1bc5"
      },
      "source": [
        "b.endswith('h')"
      ],
      "id": "7c669265",
      "execution_count": null,
      "outputs": [
        {
          "output_type": "execute_result",
          "data": {
            "text/plain": [
              "True"
            ]
          },
          "metadata": {
            "tags": []
          },
          "execution_count": 91
        }
      ]
    },
    {
      "cell_type": "code",
      "metadata": {
        "id": "2ad4ff2a",
        "outputId": "f4116b3e-2756-49d4-bb40-65f6f6af9c1a"
      },
      "source": [
        "b.find('am')"
      ],
      "id": "2ad4ff2a",
      "execution_count": null,
      "outputs": [
        {
          "output_type": "execute_result",
          "data": {
            "text/plain": [
              "2"
            ]
          },
          "metadata": {
            "tags": []
          },
          "execution_count": 94
        }
      ]
    },
    {
      "cell_type": "code",
      "metadata": {
        "id": "f881f689",
        "outputId": "b1e334bd-3abd-446c-a7de-0e650fa62d07"
      },
      "source": [
        "b.isalpha()"
      ],
      "id": "f881f689",
      "execution_count": null,
      "outputs": [
        {
          "output_type": "execute_result",
          "data": {
            "text/plain": [
              "False"
            ]
          },
          "metadata": {
            "tags": []
          },
          "execution_count": 95
        }
      ]
    },
    {
      "cell_type": "code",
      "metadata": {
        "id": "fbe4c7e5",
        "outputId": "9ff7dccf-f5bb-416b-b8c5-73e86b02e1c9"
      },
      "source": [
        "a = 'abcd'\n",
        "c = '123'\n",
        "a.isalpha()"
      ],
      "id": "fbe4c7e5",
      "execution_count": null,
      "outputs": [
        {
          "output_type": "execute_result",
          "data": {
            "text/plain": [
              "True"
            ]
          },
          "metadata": {
            "tags": []
          },
          "execution_count": 98
        }
      ]
    },
    {
      "cell_type": "code",
      "metadata": {
        "id": "8298f774",
        "outputId": "4372ecdc-d14c-4c19-b7ee-74e4cb23d6ba"
      },
      "source": [
        "c.isnumeric()"
      ],
      "id": "8298f774",
      "execution_count": null,
      "outputs": [
        {
          "output_type": "execute_result",
          "data": {
            "text/plain": [
              "True"
            ]
          },
          "metadata": {
            "tags": []
          },
          "execution_count": 99
        }
      ]
    },
    {
      "cell_type": "code",
      "metadata": {
        "id": "e6d4f078",
        "outputId": "ca355bd6-f91a-45b9-db9a-dd9d3dcb24c3"
      },
      "source": [
        "a = int(c)\n",
        "print(a)\n",
        "type(a)"
      ],
      "id": "e6d4f078",
      "execution_count": null,
      "outputs": [
        {
          "output_type": "stream",
          "text": [
            "123\n"
          ],
          "name": "stdout"
        },
        {
          "output_type": "execute_result",
          "data": {
            "text/plain": [
              "int"
            ]
          },
          "metadata": {
            "tags": []
          },
          "execution_count": 100
        }
      ]
    },
    {
      "cell_type": "code",
      "metadata": {
        "id": "f1aecdc8",
        "outputId": "06b29823-d333-4641-bdc5-4f6ab7c45231"
      },
      "source": [
        "b.replace('Utkarsh', 'Thanos')"
      ],
      "id": "f1aecdc8",
      "execution_count": null,
      "outputs": [
        {
          "output_type": "execute_result",
          "data": {
            "text/plain": [
              "'I am Thanos'"
            ]
          },
          "metadata": {
            "tags": []
          },
          "execution_count": 101
        }
      ]
    },
    {
      "cell_type": "code",
      "metadata": {
        "id": "ff6d010d"
      },
      "source": [
        ""
      ],
      "id": "ff6d010d",
      "execution_count": null,
      "outputs": []
    }
  ]
}