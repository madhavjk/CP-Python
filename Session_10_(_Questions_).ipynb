{
  "nbformat": 4,
  "nbformat_minor": 5,
  "metadata": {
    "kernelspec": {
      "display_name": "Python 3",
      "language": "python",
      "name": "python3"
    },
    "language_info": {
      "codemirror_mode": {
        "name": "ipython",
        "version": 3
      },
      "file_extension": ".py",
      "mimetype": "text/x-python",
      "name": "python",
      "nbconvert_exporter": "python",
      "pygments_lexer": "ipython3",
      "version": "3.8.5"
    },
    "colab": {
      "name": "Session 10 ( Questions ).ipynb",
      "provenance": [],
      "include_colab_link": true
    }
  },
  "cells": [
    {
      "cell_type": "markdown",
      "metadata": {
        "id": "view-in-github",
        "colab_type": "text"
      },
      "source": [
        "<a href=\"https://colab.research.google.com/github/madhavjk/CP-Python/blob/main/Session_10_(_Questions_).ipynb\" target=\"_parent\"><img src=\"https://colab.research.google.com/assets/colab-badge.svg\" alt=\"Open In Colab\"/></a>"
      ]
    },
    {
      "cell_type": "code",
      "metadata": {
        "id": "eed1207d"
      },
      "source": [
        "def num_reverse(num):\n",
        "    reverse = 0\n",
        "    while num > 0:\n",
        "        remainder = num%10\n",
        "        reverse = reverse*10 + remainder\n",
        "        num = num//10\n",
        "    return reverse"
      ],
      "id": "eed1207d",
      "execution_count": null,
      "outputs": []
    },
    {
      "cell_type": "code",
      "metadata": {
        "id": "82b96207",
        "outputId": "6ff99135-3fce-4d70-fb70-f70956b44693"
      },
      "source": [
        "num_reverse(123)"
      ],
      "id": "82b96207",
      "execution_count": null,
      "outputs": [
        {
          "output_type": "execute_result",
          "data": {
            "text/plain": [
              "321"
            ]
          },
          "metadata": {
            "tags": []
          },
          "execution_count": 3
        }
      ]
    },
    {
      "cell_type": "code",
      "metadata": {
        "id": "f4088820",
        "outputId": "bfc1c12c-b15a-4847-e4fd-898b55b9661d"
      },
      "source": [
        "num_reverse(1020304)"
      ],
      "id": "f4088820",
      "execution_count": null,
      "outputs": [
        {
          "output_type": "execute_result",
          "data": {
            "text/plain": [
              "4030201"
            ]
          },
          "metadata": {
            "tags": []
          },
          "execution_count": 4
        }
      ]
    },
    {
      "cell_type": "code",
      "metadata": {
        "id": "d3307945"
      },
      "source": [
        "def sum_digits(n):\n",
        "    summ=0\n",
        "    while n>0:\n",
        "        rem=n%10\n",
        "        summ=summ+rem\n",
        "        n=n//10\n",
        "    return summ"
      ],
      "id": "d3307945",
      "execution_count": null,
      "outputs": []
    },
    {
      "cell_type": "code",
      "metadata": {
        "id": "04bfadcc",
        "outputId": "e1d0de0d-32a3-4e9d-ba31-bce3e8b706d5"
      },
      "source": [
        "sum_digits(234)"
      ],
      "id": "04bfadcc",
      "execution_count": null,
      "outputs": [
        {
          "output_type": "execute_result",
          "data": {
            "text/plain": [
              "9"
            ]
          },
          "metadata": {
            "tags": []
          },
          "execution_count": 6
        }
      ]
    },
    {
      "cell_type": "code",
      "metadata": {
        "id": "34a2748a",
        "outputId": "a7eb3b0a-06af-4ff0-9bb6-99564e426d2a"
      },
      "source": [
        "sum_digits(100002)"
      ],
      "id": "34a2748a",
      "execution_count": null,
      "outputs": [
        {
          "output_type": "execute_result",
          "data": {
            "text/plain": [
              "3"
            ]
          },
          "metadata": {
            "tags": []
          },
          "execution_count": 7
        }
      ]
    },
    {
      "cell_type": "code",
      "metadata": {
        "id": "18334fcb",
        "outputId": "11423c47-e566-48e9-b3a9-9603ce3fc16a"
      },
      "source": [
        "sum_digits(00000)"
      ],
      "id": "18334fcb",
      "execution_count": null,
      "outputs": [
        {
          "output_type": "execute_result",
          "data": {
            "text/plain": [
              "0"
            ]
          },
          "metadata": {
            "tags": []
          },
          "execution_count": 8
        }
      ]
    },
    {
      "cell_type": "code",
      "metadata": {
        "id": "c1b8df68"
      },
      "source": [
        "import math\n",
        "def prime(n):\n",
        "    if n == 0 or n == 1:\n",
        "        return False\n",
        "    else:\n",
        "        for i in range(2, int(n**0.5)+1):\n",
        "            if n%i == 0:\n",
        "                return False\n",
        "                break\n",
        "        else:\n",
        "            return True\n",
        "            \n",
        "def sum_prime(ls):\n",
        "    sum_of_primes=0\n",
        "    for i in ls:\n",
        "        if prime(i):\n",
        "            print(i)\n",
        "            sum_of_primes += i\n",
        "    return sum_of_primes"
      ],
      "id": "c1b8df68",
      "execution_count": null,
      "outputs": []
    },
    {
      "cell_type": "code",
      "metadata": {
        "id": "556ab5f8",
        "outputId": "34a1a0c0-acbe-4526-e94c-0b04863a4b7c"
      },
      "source": [
        "sum_prime([0,1,2,3,4,5,10,11])"
      ],
      "id": "556ab5f8",
      "execution_count": null,
      "outputs": [
        {
          "output_type": "stream",
          "text": [
            "2\n",
            "3\n",
            "5\n",
            "11\n"
          ],
          "name": "stdout"
        },
        {
          "output_type": "execute_result",
          "data": {
            "text/plain": [
              "21"
            ]
          },
          "metadata": {
            "tags": []
          },
          "execution_count": 23
        }
      ]
    },
    {
      "cell_type": "code",
      "metadata": {
        "id": "8098a82a"
      },
      "source": [
        "def increasing(ls):\n",
        "    for i in range(1,len(ls)):\n",
        "        if ls[i] < ls[i-1]:\n",
        "            return False\n",
        "    return True"
      ],
      "id": "8098a82a",
      "execution_count": null,
      "outputs": []
    },
    {
      "cell_type": "code",
      "metadata": {
        "id": "9a640f82",
        "outputId": "da553f35-2bcb-4894-fd8b-38a8a67e8d08"
      },
      "source": [
        "increasing([0,-1,2,3,4,5,7])"
      ],
      "id": "9a640f82",
      "execution_count": null,
      "outputs": [
        {
          "output_type": "execute_result",
          "data": {
            "text/plain": [
              "False"
            ]
          },
          "metadata": {
            "tags": []
          },
          "execution_count": 26
        }
      ]
    },
    {
      "cell_type": "code",
      "metadata": {
        "id": "7b43c080",
        "outputId": "74c026d3-2fae-4ecd-b369-66817f791c32"
      },
      "source": [
        "def expanding_list(lst):\n",
        "    dif=0\n",
        "    n=len(lst)\n",
        "    for i in range(1,n):\n",
        "        x=abs(lst[i-1]-lst[i])\n",
        "        if x>=dif:\n",
        "            dif=x\n",
        "        else:\n",
        "            return False\n",
        "    return True\n",
        "print(expanding_list([1,2,1,4,5,6,9,12,15,18,23,34]))"
      ],
      "id": "7b43c080",
      "execution_count": null,
      "outputs": [
        {
          "output_type": "stream",
          "text": [
            "False\n"
          ],
          "name": "stdout"
        }
      ]
    },
    {
      "cell_type": "code",
      "metadata": {
        "id": "8ff2cd78"
      },
      "source": [
        "def expanding(l):\n",
        "    d1 = abs(l[1] - l[0])\n",
        "    d2 = abs(l[2] - l[1])\n",
        "    \n",
        "    if d1 >= d2:\n",
        "        return False\n",
        "    \n",
        "    else:\n",
        "        for i in range(3,len(l)):\n",
        "            d3 = abs(l[i] - l[i-1])\n",
        "            if d3 <= d2:\n",
        "                return False\n",
        "            d2 = d3\n",
        "        else:\n",
        "            return True"
      ],
      "id": "8ff2cd78",
      "execution_count": null,
      "outputs": []
    },
    {
      "cell_type": "code",
      "metadata": {
        "id": "167deb9f",
        "outputId": "e490735c-64ff-44dc-e64c-439ce600ff36"
      },
      "source": [
        "expanding([1,3,7,2,9])"
      ],
      "id": "167deb9f",
      "execution_count": null,
      "outputs": [
        {
          "output_type": "execute_result",
          "data": {
            "text/plain": [
              "True"
            ]
          },
          "metadata": {
            "tags": []
          },
          "execution_count": 33
        }
      ]
    },
    {
      "cell_type": "code",
      "metadata": {
        "id": "e5f131cc"
      },
      "source": [
        ""
      ],
      "id": "e5f131cc",
      "execution_count": null,
      "outputs": []
    }
  ]
}